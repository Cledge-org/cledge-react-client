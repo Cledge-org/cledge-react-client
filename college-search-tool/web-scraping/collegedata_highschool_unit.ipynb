{
 "cells": [
  {
   "cell_type": "code",
   "execution_count": 1,
   "metadata": {},
   "outputs": [],
   "source": [
    "from selenium import webdriver\n",
    "from selenium.webdriver.common.keys import Keys\n",
    "from selenium.webdriver.common.by import By\n",
    "from selenium.webdriver.support.ui import WebDriverWait\n",
    "from selenium.webdriver.support import expected_conditions as EC\n",
    "from selenium.webdriver.common.action_chains import ActionChains\n",
    "\n",
    "import time\n",
    "import json"
   ]
  },
  {
   "cell_type": "code",
   "execution_count": 2,
   "metadata": {},
   "outputs": [],
   "source": [
    "DRIVER_PATH = \"../driver/chromedriver\"\n",
    "\n",
    "collegedata_highschool_unit = {}"
   ]
  },
  {
   "cell_type": "markdown",
   "metadata": {},
   "source": [
    "## High School Unit Scrape Function"
   ]
  },
  {
   "cell_type": "code",
   "execution_count": 6,
   "metadata": {},
   "outputs": [],
   "source": [
    "def get_info(college_name, college_link):\n",
    "    driver = webdriver.Chrome(executable_path=DRIVER_PATH)\n",
    "    collegedata_highschool_unit[college_name] = {}\n",
    "\n",
    "    driver.get(college_link + \"/admission\")\n",
    "\n",
    "    try:\n",
    "        admission_body = WebDriverWait(driver, 1).until(\n",
    "                EC.presence_of_element_located((By.TAG_NAME, \"body\"))\n",
    "            )\n",
    "        try:\n",
    "            high_school_req_rec = admission_body.find_element(By.CSS_SELECTOR, value=\".Table_unlined__29Tmx > tbody\")\n",
    "            high_school_req_rec_table = high_school_req_rec.find_elements(By.CSS_SELECTOR, value=\"tr\")\n",
    "            time.sleep(1)\n",
    "            for unit in high_school_req_rec_table:\n",
    "                elements = unit.find_elements(By.CSS_SELECTOR, value=\"td\")\n",
    "                collegedata_highschool_unit[college_name][elements[0].text] = {\n",
    "                    \"required\": int(elements[1].text) if elements[1].text != '' else None,\n",
    "                    \"recommended\": int(elements[2].text) if elements[2].text != '' else None\n",
    "                }\n",
    "        except:\n",
    "            pass\n",
    "    except:\n",
    "        pass\n",
    "\n",
    "    driver.quit()"
   ]
  },
  {
   "cell_type": "code",
   "execution_count": null,
   "metadata": {},
   "outputs": [],
   "source": [
    "index = 0\n",
    "\n",
    "with open(\"./data/college_links.json\") as f:\n",
    "    links = json.load(f)\n",
    "    for each_college in links[\"colleges\"]:\n",
    "        get_info(each_college[\"college_name\"], each_college[\"link\"])\n",
    "        print(index)\n",
    "        index += 1"
   ]
  },
  {
   "cell_type": "code",
   "execution_count": 8,
   "metadata": {},
   "outputs": [],
   "source": [
    "with open(\"./data/collegedata_highschool_unit.json\", \"w\") as f:\n",
    "    f.write(json.dumps(collegedata_highschool_unit, indent=4))"
   ]
  }
 ],
 "metadata": {
  "kernelspec": {
   "display_name": "Python 3.7.6",
   "language": "python",
   "name": "python3"
  },
  "language_info": {
   "codemirror_mode": {
    "name": "ipython",
    "version": 3
   },
   "file_extension": ".py",
   "mimetype": "text/x-python",
   "name": "python",
   "nbconvert_exporter": "python",
   "pygments_lexer": "ipython3",
   "version": "3.7.6"
  },
  "orig_nbformat": 4,
  "vscode": {
   "interpreter": {
    "hash": "6a17e3a3172cf46aaf637e4c7681713daf53374be115d411b165dfc3d728fe3c"
   }
  }
 },
 "nbformat": 4,
 "nbformat_minor": 2
}
