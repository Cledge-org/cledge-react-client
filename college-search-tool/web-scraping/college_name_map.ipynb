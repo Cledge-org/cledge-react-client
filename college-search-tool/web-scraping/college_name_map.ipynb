{
 "cells": [
  {
   "cell_type": "code",
   "execution_count": 5,
   "metadata": {},
   "outputs": [],
   "source": [
    "# Azure Imports\n",
    "from azure.core.credentials import AzureKeyCredential\n",
    "from azure.search.documents.indexes import SearchIndexClient \n",
    "from azure.search.documents import SearchClient\n",
    "from azure.search.documents.indexes.models import (\n",
    "    CorsOptions,\n",
    "    SearchIndex,\n",
    "    SearchFieldDataType,\n",
    "    SimpleField,\n",
    "    SearchableField\n",
    ")\n",
    "\n",
    "import json\n",
    "import time"
   ]
  },
  {
   "cell_type": "code",
   "execution_count": 2,
   "metadata": {},
   "outputs": [],
   "source": [
    "# Boilerplate code to connect to Azure Search Service\n",
    "service_name = \"college-search-service\"\n",
    "admin_key = \"B6C37FA89C0A5BDD60267B82A1DC1BEF\"\n",
    "\n",
    "index_name = \"college-search-index\"\n",
    "\n",
    "# Create an SDK client\n",
    "endpoint = \"https://{}.search.windows.net/\".format(service_name)\n",
    "admin_client = SearchIndexClient(endpoint=endpoint,\n",
    "                    index_name=index_name,\n",
    "                    credential=AzureKeyCredential(admin_key))\n",
    "\n",
    "search_client = SearchClient(endpoint=endpoint,\n",
    "                    index_name=index_name,\n",
    "                    credential=AzureKeyCredential(admin_key))"
   ]
  },
  {
   "cell_type": "code",
   "execution_count": 6,
   "metadata": {},
   "outputs": [],
   "source": [
    "# basic config\n",
    "LINKS_PATH = \"./data/college_links.json\"\n",
    "\n",
    "MAP_PATH = \"./data/college_map.json\"\n",
    "\n",
    "college_map = {}"
   ]
  },
  {
   "cell_type": "code",
   "execution_count": 39,
   "metadata": {},
   "outputs": [],
   "source": [
    "# map college names of collegedata website and CST dataset\n",
    "\n",
    "with open(LINKS_PATH) as f:\n",
    "    colleges = json.load(f)\n",
    "    for college in colleges[\"colleges\"]:\n",
    "        filter = \"\"\n",
    "        result_name = \"\"\n",
    "        # search the most related college name based on collegedata website\n",
    "        results = search_client.search(\n",
    "            search_text=college[\"college_name\"],\n",
    "            top=10,\n",
    "            search_mode=\"all\",\n",
    "            search_fields=[\"INSTNM\"],\n",
    "            filter=filter\n",
    "        )\n",
    "\n",
    "        for result in results:\n",
    "            if result is not None:\n",
    "                # if the names match exactly\n",
    "                if result[\"INSTNM\"] == college[\"college_name\"]:\n",
    "                    result_name = result[\"INSTNM\"]\n",
    "                # otherwise use city and state abbreviation to help get the most related name\n",
    "                else:\n",
    "                    if college[\"state\"] is not \"DC\":\n",
    "                        filter = \"CITY eq \\'{}\\' and STABBR eq \\'{}\\'\".format(college[\"city\"], college[\"state\"])\n",
    "                    else:\n",
    "                        filter = \"STABBR eq 'DC'\"\n",
    "                    results_sec = search_client.search(\n",
    "                        search_text=college[\"college_name\"],\n",
    "                        top=1,\n",
    "                        search_mode=\"all\",\n",
    "                        search_fields=[\"INSTNM\"],\n",
    "                        filter=filter\n",
    "                    )\n",
    "\n",
    "                    for result_sec in results_sec:\n",
    "                        if result_sec is not None:\n",
    "                            result_name = result_sec[\"INSTNM\"]\n",
    "                        break\n",
    "            break\n",
    "\n",
    "        college_map[college[\"college_name\"]] = result_name"
   ]
  },
  {
   "cell_type": "code",
   "execution_count": 40,
   "metadata": {},
   "outputs": [],
   "source": [
    "with open(MAP_PATH, \"w\") as f:\n",
    "    f.write(json.dumps(college_map, indent=4))"
   ]
  },
  {
   "cell_type": "markdown",
   "metadata": {},
   "source": [
    "## Single College Testing"
   ]
  },
  {
   "cell_type": "code",
   "execution_count": 41,
   "metadata": {},
   "outputs": [],
   "source": [
    "# test\n",
    "results = search_client.search(\n",
    "  search_text=\"State University of New York at Oswego\",\n",
    "  top=5,\n",
    "  search_mode=\"all\",\n",
    "  search_fields=[\"INSTNM\"]\n",
    ")"
   ]
  },
  {
   "cell_type": "code",
   "execution_count": 42,
   "metadata": {},
   "outputs": [],
   "source": [
    "for result_element in results:\n",
    "    print(result_element[\"INSTNM\"])"
   ]
  }
 ],
 "metadata": {
  "kernelspec": {
   "display_name": "Python 3.7.6",
   "language": "python",
   "name": "python3"
  },
  "language_info": {
   "codemirror_mode": {
    "name": "ipython",
    "version": 3
   },
   "file_extension": ".py",
   "mimetype": "text/x-python",
   "name": "python",
   "nbconvert_exporter": "python",
   "pygments_lexer": "ipython3",
   "version": "3.7.6 (default, Jan  8 2020, 13:42:34) \n[Clang 4.0.1 (tags/RELEASE_401/final)]"
  },
  "orig_nbformat": 4,
  "vscode": {
   "interpreter": {
    "hash": "6a17e3a3172cf46aaf637e4c7681713daf53374be115d411b165dfc3d728fe3c"
   }
  }
 },
 "nbformat": 4,
 "nbformat_minor": 2
}
