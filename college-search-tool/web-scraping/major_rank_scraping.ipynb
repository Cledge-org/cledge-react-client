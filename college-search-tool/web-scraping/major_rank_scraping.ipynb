{
 "cells": [
  {
   "cell_type": "code",
   "execution_count": 27,
   "metadata": {},
   "outputs": [],
   "source": [
    "from selenium import webdriver\n",
    "from selenium.webdriver.common.keys import Keys\n",
    "from selenium.webdriver.common.by import By\n",
    "from selenium.webdriver.support.ui import WebDriverWait\n",
    "from selenium.webdriver.support import expected_conditions as EC\n",
    "from selenium.webdriver.common.action_chains import ActionChains\n",
    "\n",
    "import time\n",
    "import json"
   ]
  },
  {
   "cell_type": "code",
   "execution_count": 28,
   "metadata": {},
   "outputs": [],
   "source": [
    "DRIVER_PATH = \"../driver/chromedriver\""
   ]
  },
  {
   "attachments": {},
   "cell_type": "markdown",
   "metadata": {},
   "source": [
    "## Scraped from rankings"
   ]
  },
  {
   "cell_type": "code",
   "execution_count": 42,
   "metadata": {},
   "outputs": [
    {
     "name": "stderr",
     "output_type": "stream",
     "text": [
      "/Users/minzhou/opt/anaconda3/lib/python3.7/site-packages/ipykernel_launcher.py:4: DeprecationWarning: executable_path has been deprecated, please pass in a Service object\n",
      "  after removing the cwd from sys.path.\n"
     ]
    },
    {
     "name": "stdout",
     "output_type": "stream",
     "text": [
      "Massachusetts Institute of Technology\n",
      "Harvard University\n",
      "Stanford University\n",
      "University of Chicago\n",
      "Johns Hopkins University\n",
      "University of Pennsylvania\n",
      "California Institute of Technology\n",
      "Duke University\n",
      "Northwestern University\n",
      "Dartmouth College\n",
      "[{'college_name': 'Massachusetts Institute of Technology', 'location': 'Cambridge, MA', 'ranking': 1}, {'college_name': 'Harvard University', 'location': 'Cambridge, MA', 'ranking': 2}, {'college_name': 'Stanford University', 'location': 'Stanford, CA', 'ranking': 3}, {'college_name': 'University of Chicago', 'location': 'Chicago, IL', 'ranking': 4}, {'college_name': 'Johns Hopkins University', 'location': 'Baltimore, MD', 'ranking': 5}, {'college_name': 'University of Pennsylvania', 'location': 'Philadelphia, PA', 'ranking': 6}, {'college_name': 'California Institute of Technology', 'location': 'Pasadena, CA', 'ranking': 7}, {'college_name': 'Duke University', 'location': 'Durham, NC', 'ranking': 8}, {'college_name': 'Northwestern University', 'location': 'Evanston, IL', 'ranking': 9}, {'college_name': 'Dartmouth College', 'location': 'Hanover, NH', 'ranking': 10}]\n"
     ]
    }
   ],
   "source": [
    "colleges_result = []\n",
    "\n",
    "try:\n",
    "    driver = webdriver.Chrome(executable_path=DRIVER_PATH)\n",
    "    driver.get(\"https://www.usnews.com/best-colleges/biology-major-2601\")\n",
    "    time.sleep(1)\n",
    "\n",
    "    body = WebDriverWait(driver, 2).until(\n",
    "        EC.presence_of_element_located((By.TAG_NAME, \"body\"))\n",
    "    )\n",
    "\n",
    "    colleges = driver.find_elements(By.CLASS_NAME, value=\"boZDDO\")\n",
    "    rank = 1\n",
    "    for each_college in colleges:\n",
    "        try:\n",
    "            college_card = each_college.find_element(By.CLASS_NAME, value=\"hzlmGg\")\n",
    "            college_name = college_card.get_attribute(\"name\")\n",
    "            print(college_name)\n",
    "            college_location = each_college.find_element(By.CLASS_NAME, value=\"pyUjv\").text\n",
    "            colleges_result.append({\n",
    "                \"college_name\": college_name,\n",
    "                \"location\": college_location,\n",
    "                \"ranking\": rank\n",
    "            })\n",
    "            rank += 1\n",
    "        except:\n",
    "            continue\n",
    "\n",
    "finally:\n",
    "    print(colleges_result)\n",
    "    driver.close()\n"
   ]
  },
  {
   "attachments": {},
   "cell_type": "markdown",
   "metadata": {},
   "source": [
    "## Scraped from each college information"
   ]
  },
  {
   "cell_type": "code",
   "execution_count": 48,
   "metadata": {},
   "outputs": [
    {
     "name": "stderr",
     "output_type": "stream",
     "text": [
      "/Users/minzhou/opt/anaconda3/lib/python3.7/site-packages/ipykernel_launcher.py:4: DeprecationWarning: executable_path has been deprecated, please pass in a Service object\n",
      "  after removing the cwd from sys.path.\n"
     ]
    }
   ],
   "source": [
    "us_news_college_profile_page_list = []\n",
    "\n",
    "try:\n",
    "    driver = webdriver.Chrome(executable_path=DRIVER_PATH)\n",
    "    driver.get(\"https://www.google.com/search?q=us+news+stanford+university\")\n",
    "    \n",
    "    body = WebDriverWait(driver, 2).until(\n",
    "        EC.presence_of_element_located((By.TAG_NAME, \"body\"))\n",
    "    )\n",
    "    try:\n",
    "        first_search_result = body.find_element(By.CLASS_NAME, value=\"yuRUbf\")\n",
    "        search_link = first_search_result.find_element(By.TAG_NAME, value=\"a\").get_attribute(\"href\")\n",
    "        us_news_college_profile_page_list.append(search_link)\n",
    "    except:\n",
    "        pass\n",
    "except:\n",
    "    pass"
   ]
  },
  {
   "cell_type": "code",
   "execution_count": 49,
   "metadata": {},
   "outputs": [
    {
     "name": "stdout",
     "output_type": "stream",
     "text": [
      "{'National Universities': '3', 'Best Value Schools': '4', 'Best Undergraduate Engineering Programs': '2', 'Aerospace /Aeronautical / Astronautical': '6', 'Biomedical': '5', 'Chemical': '5', 'Civil': '8', 'Computer': '5', 'Electrical / Electronic / Communications': '4', 'Environmental / Environmental Health': '4', 'Industrial / Manufacturing': '9', 'Materials': '4', 'Mechanical': '3', 'Computer Science': '1', 'Artificial Intelligence': '3', 'Biocomputing/Bioinformatics/Biotechnology': '7', 'Computer Systems': '5', 'Cybersecurity': '5', 'Data Analytics/Science': '4', 'Mobile/Web Applications': '4', 'Programming Languages': '4', 'Software Engineering': '5', 'Theory': '3', 'Writing in the Disciplines': '18', 'Study Abroad': '30', 'Undergraduate Research/Creative Projects': '8', 'Service Learning': '9', 'First-Year Experiences': '56', 'Senior Capstone': '12', 'Co-ops/Internships': '14', 'Best Colleges for Veterans': '6', 'Best Undergraduate Teaching': '36', 'Most Innovative Schools': '5', 'Top Performers on Social Mobility': '282'}\n"
     ]
    }
   ],
   "source": [
    "cur_college_ranking_info = {}\n",
    "\n",
    "try:\n",
    "    driver.get(us_news_college_profile_page_list[0] + \"/overall-rankings\")\n",
    "    body = WebDriverWait(driver, 2).until(\n",
    "        EC.presence_of_element_located((By.TAG_NAME, \"body\"))\n",
    "    )\n",
    "    try:\n",
    "        ranking_data_list = body.find_element(By.CLASS_NAME, value=\"BadgeList-wn7t98-1\")\n",
    "        rank_details = ranking_data_list.find_elements(By.CLASS_NAME, value=\"eMEqFO\")\n",
    "        for each_badge in rank_details:\n",
    "            each_badge_data = each_badge.find_elements(By.TAG_NAME, value=\"strong\")\n",
    "            badge_rank = each_badge_data[0].text[1:]\n",
    "            badge_name = each_badge_data[1].text\n",
    "            cur_college_ranking_info[badge_name] = badge_rank\n",
    "    except:\n",
    "        pass\n",
    "except:\n",
    "    print(222)\n",
    "    pass\n",
    "finally:\n",
    "    print(cur_college_ranking_info)\n"
   ]
  }
 ],
 "metadata": {
  "kernelspec": {
   "display_name": "Python 3",
   "language": "python",
   "name": "python3"
  },
  "language_info": {
   "codemirror_mode": {
    "name": "ipython",
    "version": 3
   },
   "file_extension": ".py",
   "mimetype": "text/x-python",
   "name": "python",
   "nbconvert_exporter": "python",
   "pygments_lexer": "ipython3",
   "version": "3.7.6"
  },
  "orig_nbformat": 4
 },
 "nbformat": 4,
 "nbformat_minor": 2
}
