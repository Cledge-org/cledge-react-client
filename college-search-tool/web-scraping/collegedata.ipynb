{
 "cells": [
  {
   "cell_type": "code",
   "execution_count": 1,
   "metadata": {},
   "outputs": [],
   "source": [
    "from selenium import webdriver\n",
    "from selenium.webdriver.common.keys import Keys\n",
    "from selenium.webdriver.common.by import By\n",
    "from selenium.webdriver.support.ui import WebDriverWait\n",
    "from selenium.webdriver.support import expected_conditions as EC\n",
    "from selenium.webdriver.common.action_chains import ActionChains\n",
    "\n",
    "import time\n",
    "import json"
   ]
  },
  {
   "cell_type": "code",
   "execution_count": 2,
   "metadata": {},
   "outputs": [],
   "source": [
    "DRIVER_PATH = \"../driver/chromedriver\""
   ]
  },
  {
   "cell_type": "code",
   "execution_count": 2,
   "metadata": {},
   "outputs": [],
   "source": [
    "headers = {\n",
    "   'authority': 'www.collegedata.com',\n",
    "   'accept': 'text/html,application/xhtml+xml,application/xml;q=0.9,image/avif,image/webp,image/apng,*/*;q=0.8,application/signed-exchange;v=b3;q=0.9',\n",
    "   'accept-language': 'en-US,en;q=0.9',\n",
    "   'cache-control': 'max-age=0',\n",
    "   'cookie': '_fbp=fb.1.1658007147817.545496924; hubspotutk=507e73e7878ef04272d6a3a05f00cdfe; __hssrc=1; _gid=GA1.2.1597667495.1661750573; __hstc=88713156.507e73e7878ef04272d6a3a05f00cdfe.1658007149216.1661750573017.1661755206414.9; _ga_L111302P3J=GS1.1.1661755206.12.1.1661755208.0.0.0; __hssc=88713156.2.1661755206414; _ga=GA1.2.2038716955.1658007148; _ga_5T4N0S75C0=GS1.1.1661755206.13.1.1661755268.0.0.0',\n",
    "   'dnt': '1',\n",
    "   'referer': 'https:/www.collegedata.com/',\n",
    "   'sec-ch-ua': '\"Chromium\";v=\"104\", \" Not A;Brand\";v=\"99\", \"Google Chrome\";v=\"104\"',\n",
    "   'sec-ch-ua-mobile': '?0',\n",
    "   'sec-ch-ua-platform': '\"macOS\"',\n",
    "   'sec-fetch-dest': 'document',\n",
    "   'sec-fetch-mode': 'navigate',\n",
    "   'sec-fetch-site': 'same-origin',\n",
    "   'sec-fetch-user': '?1',\n",
    "   'upgrade-insecure-requests': '1',\n",
    "   'user-agent': 'Mozilla/5.0 (Macintosh; Intel Mac OS X 10_15_7) AppleWebKit/537.36 (KHTML, like Gecko) Chrome/104.0.0.0 Safari/537.36'\n",
    "}"
   ]
  },
  {
   "cell_type": "markdown",
   "metadata": {},
   "source": [
    "### Explore College Search"
   ]
  },
  {
   "cell_type": "code",
   "execution_count": 10,
   "metadata": {},
   "outputs": [
    {
     "name": "stderr",
     "output_type": "stream",
     "text": [
      "/Users/minzhou/opt/anaconda3/lib/python3.7/site-packages/ipykernel_launcher.py:15: DeprecationWarning: executable_path has been deprecated, please pass in a Service object\n",
      "  from ipykernel import kernelapp as app\n"
     ]
    },
    {
     "name": "stdout",
     "output_type": "stream",
     "text": [
      "9311\n",
      "17691\n",
      "26073\n",
      "34391\n",
      "42456\n",
      "50974\n",
      "59466\n",
      "67644\n",
      "76074\n",
      "84591\n",
      "93051\n",
      "101543\n",
      "110149\n",
      "118894\n",
      "127380\n",
      "135866\n",
      "143631\n",
      "151961\n",
      "160447\n",
      "168933\n",
      "177421\n",
      "185713\n",
      "194173\n",
      "202379\n",
      "210593\n",
      "218602\n",
      "226752\n",
      "235268\n",
      "243811\n",
      "252503\n",
      "261027\n",
      "269600\n",
      "277974\n",
      "286406\n",
      "294838\n",
      "303156\n",
      "311532\n",
      "319710\n",
      "328112\n",
      "336574\n",
      "345106\n",
      "353538\n",
      "361970\n",
      "370596\n",
      "379083\n",
      "387683\n",
      "396029\n",
      "404349\n",
      "412725\n",
      "421127\n",
      "429449\n",
      "438023\n",
      "446343\n",
      "455028\n",
      "463600\n",
      "472058\n",
      "480432\n",
      "488784\n",
      "497186\n",
      "505702\n",
      "514105\n",
      "522761\n",
      "531163\n",
      "539679\n",
      "548250\n",
      "556458\n",
      "565120\n",
      "573612\n",
      "582527\n",
      "590985\n",
      "599415\n",
      "607909\n",
      "616425\n",
      "624743\n",
      "633230\n",
      "641866\n",
      "650244\n",
      "658704\n",
      "667389\n",
      "676289\n",
      "684467\n",
      "692931\n",
      "701483\n",
      "710113\n",
      "718628\n",
      "727182\n",
      "735590\n",
      "743881\n",
      "752424\n",
      "760770\n",
      "769342\n",
      "777885\n",
      "786401\n",
      "794945\n",
      "803431\n",
      "811978\n",
      "820273\n",
      "828651\n",
      "837226\n",
      "845856\n",
      "854288\n",
      "862945\n",
      "871487\n",
      "879951\n",
      "888411\n",
      "896813\n",
      "905358\n",
      "913872\n",
      "922386\n",
      "930760\n",
      "939082\n",
      "942985\n",
      "942985\n"
     ]
    },
    {
     "name": "stderr",
     "output_type": "stream",
     "text": [
      "/Users/minzhou/opt/anaconda3/lib/python3.7/site-packages/ipykernel_launcher.py:48: DeprecationWarning: find_element_by_css_selector is deprecated. Please use find_element(by=By.CSS_SELECTOR, value=css_selector) instead\n"
     ]
    }
   ],
   "source": [
    "# options = webdriver.ChromeOptions()\n",
    "# options.add_argument('--disable-blink-features=AutomationControlled')\n",
    "# options.add_argument(\"--disable-extensions\")\n",
    "# options.add_experimental_option('useAutomationExtension', False)\n",
    "# options.add_experimental_option(\"excludeSwitches\", [\"enable-automation\"])\n",
    "\n",
    "college_name_elements = {\n",
    "    \"colleges\": []\n",
    "}\n",
    "\n",
    "index = 0\n",
    "\n",
    "try:\n",
    "    options = webdriver.ChromeOptions()\n",
    "    driver = webdriver.Chrome(executable_path=DRIVER_PATH) # options=options\n",
    "    #driver.execute_script(\"Object.defineProperty(navigator, 'webdriver', {get: () => undefined})\")\n",
    "    driver.get(\"https://www.collegedata.com/college-search\")\n",
    "\n",
    "    time.sleep(10)\n",
    "\n",
    "    body = WebDriverWait(driver, 10).until(\n",
    "        EC.presence_of_element_located((By.TAG_NAME, \"body\"))\n",
    "    )\n",
    "\n",
    "    last_height = driver.execute_script(\"return document.body.scrollHeight\")\n",
    "    print(last_height)\n",
    "\n",
    "    while True:\n",
    "        \n",
    "\n",
    "        time.sleep(10)\n",
    "        # Scroll down to bottom\n",
    "        driver.execute_script(\"window.scrollTo(0, document.body.scrollHeight);\")\n",
    "\n",
    "        # Wait to load page\n",
    "        time.sleep(10)\n",
    "\n",
    "        # Calculate new scroll height and compare with last scroll height\n",
    "        new_height = driver.execute_script(\"return document.body.scrollHeight\")\n",
    "        time.sleep(10)\n",
    "\n",
    "        print(new_height)\n",
    "\n",
    "        if new_height == last_height:\n",
    "            college_links_by_names = driver.find_elements(by=By.CLASS_NAME, value=\"Link_link__a-VS4\")\n",
    "            time.sleep(60)\n",
    "            for element in college_links_by_names:\n",
    "                college_name = element.find_element_by_css_selector(\"h3\")\n",
    "                college_name_elements[\"colleges\"].append({\n",
    "                    \"college_name\": college_name.text,\n",
    "                    \"link\": element.get_attribute(\"href\")\n",
    "                })\n",
    "            time.sleep(120)\n",
    "            break\n",
    "        last_height = new_height\n",
    "finally:\n",
    "    driver.quit()\n",
    "    with open(\"./college_links.json\", \"w\") as f:\n",
    "        f.write(json.dumps(college_name_elements, indent=4))\n",
    "\n"
   ]
  },
  {
   "cell_type": "code",
   "execution_count": 16,
   "metadata": {},
   "outputs": [
    {
     "data": {
      "text/plain": [
       "23821"
      ]
     },
     "execution_count": 16,
     "metadata": {},
     "output_type": "execute_result"
    }
   ],
   "source": [
    "last_height"
   ]
  },
  {
   "cell_type": "code",
   "execution_count": 46,
   "metadata": {},
   "outputs": [
    {
     "data": {
      "text/plain": [
       "1"
      ]
     },
     "execution_count": 46,
     "metadata": {},
     "output_type": "execute_result"
    }
   ],
   "source": [
    "len(college_name_elements)"
   ]
  },
  {
   "cell_type": "code",
   "execution_count": 38,
   "metadata": {},
   "outputs": [
    {
     "name": "stdout",
     "output_type": "stream",
     "text": [
      "{'college_name': 'Abilene Christian University', 'link': 'https://www.collegedata.com/college-search/Abilene-Christian-University'}\n",
      "{'college_name': 'Abraham Baldwin Agricultural College', 'link': 'https://www.collegedata.com/college-search/Abraham-Baldwin-Agricultural-College'}\n",
      "{'college_name': 'Abraham Lincoln University', 'link': 'https://www.collegedata.com/college-search/Abraham-Lincoln-University'}\n",
      "{'college_name': 'Academy College', 'link': 'https://www.collegedata.com/college-search/Academy-College'}\n",
      "{'college_name': 'Academy of Art University', 'link': 'https://www.collegedata.com/college-search/Academy-of-Art-University'}\n",
      "{'college_name': 'Adams State University', 'link': 'https://www.collegedata.com/college-search/Adams-State-University'}\n",
      "{'college_name': 'Adelphi University', 'link': 'https://www.collegedata.com/college-search/Adelphi-University'}\n",
      "{'college_name': 'Adrian College', 'link': 'https://www.collegedata.com/college-search/Adrian-College'}\n",
      "{'college_name': 'Adventist University of Health Sciences', 'link': 'https://www.collegedata.com/college-search/Adventist-University-of-Health-Sciences'}\n",
      "{'college_name': 'Agnes Scott College', 'link': 'https://www.collegedata.com/college-search/Agnes-Scott-College'}\n",
      "{'college_name': 'Alabama A&M University', 'link': 'https://www.collegedata.com/college-search/Alabama-A-M-University'}\n",
      "{'college_name': 'Alabama State University', 'link': 'https://www.collegedata.com/college-search/Alabama-State-University'}\n",
      "{'college_name': 'Alaska Bible College', 'link': 'https://www.collegedata.com/college-search/Alaska-Bible-College'}\n",
      "{'college_name': 'Alaska Pacific University', 'link': 'https://www.collegedata.com/college-search/Alaska-Pacific-University'}\n",
      "{'college_name': 'Albany College of Pharmacy and Health Sciences', 'link': 'https://www.collegedata.com/college-search/Albany-College-of-Pharmacy-and-Health-Sciences'}\n",
      "{'college_name': 'Albany State University', 'link': 'https://www.collegedata.com/college-search/Albany-State-University'}\n",
      "{'college_name': 'Albertus Magnus College', 'link': 'https://www.collegedata.com/college-search/Albertus-Magnus-College'}\n",
      "{'college_name': 'Albion College', 'link': 'https://www.collegedata.com/college-search/Albion-College'}\n",
      "{'college_name': 'Albright College', 'link': 'https://www.collegedata.com/college-search/Albright-College'}\n",
      "{'college_name': 'Alcorn State University', 'link': 'https://www.collegedata.com/college-search/Alcorn-State-University'}\n",
      "{'college_name': 'Abilene Christian University', 'link': 'https://www.collegedata.com/college-search/Abilene-Christian-University'}\n",
      "{'college_name': 'Abraham Baldwin Agricultural College', 'link': 'https://www.collegedata.com/college-search/Abraham-Baldwin-Agricultural-College'}\n",
      "{'college_name': 'Abraham Lincoln University', 'link': 'https://www.collegedata.com/college-search/Abraham-Lincoln-University'}\n",
      "{'college_name': 'Academy College', 'link': 'https://www.collegedata.com/college-search/Academy-College'}\n",
      "{'college_name': 'Academy of Art University', 'link': 'https://www.collegedata.com/college-search/Academy-of-Art-University'}\n",
      "{'college_name': 'Adams State University', 'link': 'https://www.collegedata.com/college-search/Adams-State-University'}\n",
      "{'college_name': 'Adelphi University', 'link': 'https://www.collegedata.com/college-search/Adelphi-University'}\n",
      "{'college_name': 'Adrian College', 'link': 'https://www.collegedata.com/college-search/Adrian-College'}\n",
      "{'college_name': 'Adventist University of Health Sciences', 'link': 'https://www.collegedata.com/college-search/Adventist-University-of-Health-Sciences'}\n",
      "{'college_name': 'Agnes Scott College', 'link': 'https://www.collegedata.com/college-search/Agnes-Scott-College'}\n",
      "{'college_name': 'Alabama A&M University', 'link': 'https://www.collegedata.com/college-search/Alabama-A-M-University'}\n",
      "{'college_name': 'Alabama State University', 'link': 'https://www.collegedata.com/college-search/Alabama-State-University'}\n",
      "{'college_name': 'Alaska Bible College', 'link': 'https://www.collegedata.com/college-search/Alaska-Bible-College'}\n",
      "{'college_name': 'Alaska Pacific University', 'link': 'https://www.collegedata.com/college-search/Alaska-Pacific-University'}\n",
      "{'college_name': 'Albany College of Pharmacy and Health Sciences', 'link': 'https://www.collegedata.com/college-search/Albany-College-of-Pharmacy-and-Health-Sciences'}\n",
      "{'college_name': 'Albany State University', 'link': 'https://www.collegedata.com/college-search/Albany-State-University'}\n",
      "{'college_name': 'Albertus Magnus College', 'link': 'https://www.collegedata.com/college-search/Albertus-Magnus-College'}\n",
      "{'college_name': 'Albion College', 'link': 'https://www.collegedata.com/college-search/Albion-College'}\n",
      "{'college_name': 'Albright College', 'link': 'https://www.collegedata.com/college-search/Albright-College'}\n",
      "{'college_name': 'Alcorn State University', 'link': 'https://www.collegedata.com/college-search/Alcorn-State-University'}\n"
     ]
    }
   ],
   "source": [
    "for each_college in college_name_elements:\n",
    "    print(each_college)"
   ]
  },
  {
   "cell_type": "markdown",
   "metadata": {},
   "source": [
    "### Explore Single College Info"
   ]
  },
  {
   "cell_type": "code",
   "execution_count": 48,
   "metadata": {},
   "outputs": [
    {
     "name": "stderr",
     "output_type": "stream",
     "text": [
      "/Users/minzhou/opt/anaconda3/lib/python3.7/site-packages/ipykernel_launcher.py:1: DeprecationWarning: executable_path has been deprecated, please pass in a Service object\n",
      "  \"\"\"Entry point for launching an IPython kernel.\n",
      "/Users/minzhou/opt/anaconda3/lib/python3.7/site-packages/ipykernel_launcher.py:9: DeprecationWarning: find_elements_by_css_selector is deprecated. Please use find_elements(by=By.CSS_SELECTOR, value=css_selector) instead\n",
      "  if __name__ == '__main__':\n",
      "/Users/minzhou/opt/anaconda3/lib/python3.7/site-packages/ipykernel_launcher.py:11: DeprecationWarning: find_element_by_css_selector is deprecated. Please use find_element(by=By.CSS_SELECTOR, value=css_selector) instead\n",
      "  # This is added back by InteractiveShellApp.init_path()\n",
      "/Users/minzhou/opt/anaconda3/lib/python3.7/site-packages/ipykernel_launcher.py:13: DeprecationWarning: find_elements_by_css_selector is deprecated. Please use find_elements(by=By.CSS_SELECTOR, value=css_selector) instead\n",
      "  del sys.path[0]\n",
      "/Users/minzhou/opt/anaconda3/lib/python3.7/site-packages/ipykernel_launcher.py:16: DeprecationWarning: find_elements_by_css_selector is deprecated. Please use find_elements(by=By.CSS_SELECTOR, value=css_selector) instead\n",
      "  app.launch_new_instance()\n"
     ]
    }
   ],
   "source": [
    "driver = webdriver.Chrome(executable_path=DRIVER_PATH)\n",
    "\n",
    "importance = [\"Very Important\", \"Important\", \"Considered\", \"Not Considered\"]\n",
    "cur_college_data = {}\n",
    "cur_college_name = \"American InterContinental University Houston\"\n",
    "college_name_formatted = '-'.join(cur_college_name.split(\" \"))\n",
    "driver.get(\"https://waf.collegedata.com/college-search/\"+ college_name_formatted + \"/admission\")\n",
    "\n",
    "sections = driver.find_elements_by_css_selector(\".CollegeProfileContent_section__kPeSs\")\n",
    "\n",
    "selection_of_students_table = sections[2].find_element_by_css_selector(\".CollegeProfileContent_content__1hJCl > .Table_unlined__29Tmx > tbody\")\n",
    "\n",
    "metrics = selection_of_students_table.find_elements_by_css_selector(\"tr\")\n",
    "\n",
    "for metric in metrics:\n",
    "    elements = metric.find_elements_by_css_selector(\"td\")\n",
    "    index = 0\n",
    "    metric_name = \"\"\n",
    "    for element in elements:\n",
    "        if index == 0:\n",
    "            metric_name = element.text\n",
    "        else:\n",
    "            if element.text == \"X\":\n",
    "                cur_college_data[metric_name] = importance[index - 1]\n",
    "                break\n",
    "        index += 1\n",
    "\n",
    "driver.quit()"
   ]
  },
  {
   "cell_type": "code",
   "execution_count": 49,
   "metadata": {},
   "outputs": [
    {
     "data": {
      "text/plain": [
       "{'Essay': 'Very Important',\n",
       " 'Interview': 'Very Important',\n",
       " \"Level of Applicant's Interest\": 'Very Important',\n",
       " 'Particular Talent/Ability': 'Very Important'}"
      ]
     },
     "execution_count": 49,
     "metadata": {},
     "output_type": "execute_result"
    }
   ],
   "source": [
    "cur_college_data"
   ]
  }
 ],
 "metadata": {
  "kernelspec": {
   "display_name": "Python 3.7.6",
   "language": "python",
   "name": "python3"
  },
  "language_info": {
   "codemirror_mode": {
    "name": "ipython",
    "version": 3
   },
   "file_extension": ".py",
   "mimetype": "text/x-python",
   "name": "python",
   "nbconvert_exporter": "python",
   "pygments_lexer": "ipython3",
   "version": "3.7.6"
  },
  "orig_nbformat": 4,
  "vscode": {
   "interpreter": {
    "hash": "6a17e3a3172cf46aaf637e4c7681713daf53374be115d411b165dfc3d728fe3c"
   }
  }
 },
 "nbformat": 4,
 "nbformat_minor": 2
}
