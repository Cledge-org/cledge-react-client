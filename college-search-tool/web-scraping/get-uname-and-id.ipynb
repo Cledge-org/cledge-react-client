{
 "cells": [
  {
   "cell_type": "code",
   "execution_count": 3,
   "metadata": {},
   "outputs": [],
   "source": [
    "from selenium import webdriver\n",
    "from selenium.webdriver.common.keys import Keys\n",
    "from selenium.webdriver.common.by import By\n",
    "from selenium.webdriver.support.ui import WebDriverWait\n",
    "from selenium.webdriver.support import expected_conditions as EC\n",
    "from selenium.webdriver.common.action_chains import ActionChains\n",
    "\n",
    "import time\n",
    "import json"
   ]
  },
  {
   "cell_type": "code",
   "execution_count": 2,
   "metadata": {},
   "outputs": [],
   "source": [
    "DRIVER_PATH = \"./driver/chromedriver\""
   ]
  },
  {
   "attachments": {},
   "cell_type": "markdown",
   "metadata": {},
   "source": [
    "## Get US News Links of Each College"
   ]
  },
  {
   "cell_type": "code",
   "execution_count": 3,
   "metadata": {},
   "outputs": [],
   "source": [
    "colleges_usnews_links = {}\n",
    "\n",
    "with open(\"./college_names_id.json\") as f:\n",
    "    college_names = json.load(f)"
   ]
  },
  {
   "cell_type": "code",
   "execution_count": 4,
   "metadata": {},
   "outputs": [],
   "source": [
    "def get_usnews_link(college_id, college_name):\n",
    "    link_result = {\n",
    "        \"college_name\": college_name,\n",
    "        \"usnews_link\": \"\"\n",
    "    }\n",
    "    query_str = \"https://www.google.com/search?q=us+news+\" + college_name.replace(\" \", \"+\")\n",
    "    try:\n",
    "        driver = webdriver.Chrome(executable_path=DRIVER_PATH)\n",
    "        driver.get(query_str)\n",
    "        \n",
    "        body = WebDriverWait(driver, 2).until(\n",
    "            EC.presence_of_element_located((By.TAG_NAME, \"body\"))\n",
    "        )\n",
    "        try:\n",
    "            first_search_result = body.find_element(By.CLASS_NAME, value=\"yuRUbf\")\n",
    "            search_link = first_search_result.find_element(By.TAG_NAME, value=\"a\").get_attribute(\"href\")\n",
    "            link_result[\"usnews_link\"] = search_link\n",
    "        except:\n",
    "            pass\n",
    "    finally:\n",
    "        driver.quit()\n",
    "    colleges_usnews_links[college_id] = link_result"
   ]
  },
  {
   "cell_type": "code",
   "execution_count": 5,
   "metadata": {},
   "outputs": [
    {
     "name": "stderr",
     "output_type": "stream",
     "text": [
      "/Users/minzhou/opt/anaconda3/lib/python3.7/site-packages/ipykernel_launcher.py:8: DeprecationWarning: executable_path has been deprecated, please pass in a Service object\n",
      "  \n"
     ]
    }
   ],
   "source": [
    "for key, value in college_names.items():\n",
    "    get_usnews_link(key, value)"
   ]
  },
  {
   "cell_type": "code",
   "execution_count": 6,
   "metadata": {},
   "outputs": [],
   "source": [
    "with open(\"./colleges_usnews_link.json\", \"w\") as outfile:\n",
    "    outfile.write(json.dumps(colleges_usnews_links, indent=4))"
   ]
  },
  {
   "attachments": {},
   "cell_type": "markdown",
   "metadata": {},
   "source": [
    "## Filter invalid links"
   ]
  },
  {
   "cell_type": "code",
   "execution_count": 33,
   "metadata": {},
   "outputs": [],
   "source": [
    "updated_colleges_usnews_links = {}"
   ]
  },
  {
   "cell_type": "code",
   "execution_count": 34,
   "metadata": {},
   "outputs": [],
   "source": [
    "with open(\"./colleges_usnews_link.json\") as f:\n",
    "    all_colleges_usnews_links = json.load(f)"
   ]
  },
  {
   "cell_type": "code",
   "execution_count": 35,
   "metadata": {},
   "outputs": [],
   "source": [
    "# Clean all the urls without \"best colleges\"\n",
    "for key, value in all_colleges_usnews_links.items():\n",
    "    if \"best-colleges\" in value[\"usnews_link\"] and len(value[\"usnews_link\"]) > 36:\n",
    "        cur_link_split = value[\"usnews_link\"].split(\"/\")\n",
    "        if len(cur_link_split) >= 5:\n",
    "            purified_link = '/'.join(cur_link_split[0:5]).split(\"#\")[0]\n",
    "            if purified_link[-4:].isdigit():\n",
    "                updated_colleges_usnews_links[key] = value\n",
    "                updated_colleges_usnews_links[key][\"usnews_link\"] = purified_link"
   ]
  },
  {
   "cell_type": "code",
   "execution_count": 36,
   "metadata": {},
   "outputs": [
    {
     "data": {
      "text/plain": [
       "1551"
      ]
     },
     "execution_count": 36,
     "metadata": {},
     "output_type": "execute_result"
    }
   ],
   "source": [
    "len(updated_colleges_usnews_links.items())"
   ]
  },
  {
   "cell_type": "code",
   "execution_count": 37,
   "metadata": {},
   "outputs": [],
   "source": [
    "with open(\"./colleges_usnews_link_updated.json\", \"w\") as outfile:\n",
    "    outfile.write(json.dumps(updated_colleges_usnews_links, indent=4))"
   ]
  },
  {
   "cell_type": "code",
   "execution_count": 39,
   "metadata": {},
   "outputs": [],
   "source": [
    "# group by same link\n",
    "# get last 4 digits of each usnews link, then group\n",
    "# After that, manually clean up ids not match\n",
    "usnews_ids = {}"
   ]
  },
  {
   "cell_type": "code",
   "execution_count": 40,
   "metadata": {},
   "outputs": [],
   "source": [
    "for key, value in updated_colleges_usnews_links.items():\n",
    "    cur_id = value[\"usnews_link\"][-4:]\n",
    "    if cur_id not in usnews_ids.keys():\n",
    "        usnews_ids[cur_id] = []\n",
    "    usnews_ids[cur_id].append(key)"
   ]
  },
  {
   "cell_type": "code",
   "execution_count": 41,
   "metadata": {},
   "outputs": [
    {
     "name": "stdout",
     "output_type": "stream",
     "text": [
      "3290\n",
      "3230\n",
      "3417\n",
      "1434\n",
      "2463\n",
      "1087\n",
      "7080\n",
      "8795\n",
      "1171\n",
      "1422\n",
      "1481\n",
      "3208\n",
      "1596\n",
      "1125\n",
      "3733\n",
      "3808\n",
      "1093\n",
      "3704\n",
      "2183\n",
      "3401\n",
      "3536\n",
      "2031\n",
      "1131\n",
      "1143\n",
      "2603\n",
      "2525\n",
      "1437\n",
      "1908\n",
      "1385\n",
      "2141\n",
      "3039\n",
      "1561\n",
      "5354\n",
      "1691\n",
      "3289\n",
      "1564\n",
      "7121\n",
      "2553\n",
      "1429\n",
      "1800\n",
      "2728\n",
      "7279\n",
      "9621\n",
      "1803\n",
      "1700\n",
      "3051\n",
      "6134\n",
      "2748\n",
      "1707\n",
      "1874\n",
      "3720\n",
      "3724\n",
      "2772\n",
      "2946\n",
      "6942\n",
      "2086\n",
      "3988\n",
      "3337\n",
      "2369\n",
      "1840\n",
      "6883\n",
      "3100\n",
      "3210\n",
      "2027\n",
      "3212\n",
      "6965\n",
      "0149\n",
      "2740\n",
      "1151\n",
      "2208\n",
      "6974\n",
      "2639\n",
      "1459\n",
      "0366\n",
      "0142\n",
      "7130\n",
      "1414\n",
      "2589\n",
      "1537\n",
      "3798\n",
      "3800\n",
      "2224\n",
      "1424\n",
      "8716\n",
      "9168\n",
      "2903\n"
     ]
    }
   ],
   "source": [
    "for key, value in usnews_ids.items():\n",
    "    if len(value) > 1:\n",
    "        print(key)"
   ]
  },
  {
   "cell_type": "code",
   "execution_count": null,
   "metadata": {},
   "outputs": [],
   "source": []
  }
 ],
 "metadata": {
  "kernelspec": {
   "display_name": "Python 3",
   "language": "python",
   "name": "python3"
  },
  "language_info": {
   "codemirror_mode": {
    "name": "ipython",
    "version": 3
   },
   "file_extension": ".py",
   "mimetype": "text/x-python",
   "name": "python",
   "nbconvert_exporter": "python",
   "pygments_lexer": "ipython3",
   "version": "3.7.6"
  },
  "orig_nbformat": 4
 },
 "nbformat": 4,
 "nbformat_minor": 2
}
