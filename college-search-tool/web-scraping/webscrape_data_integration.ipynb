{
 "cells": [
  {
   "cell_type": "code",
   "execution_count": 1,
   "metadata": {},
   "outputs": [],
   "source": [
    "from pyspark import SparkContext\n",
    "from pyspark.sql import *\n",
    "import pyspark.sql.functions as F\n",
    "from pyspark.sql.functions import col"
   ]
  },
  {
   "cell_type": "code",
   "execution_count": 2,
   "metadata": {},
   "outputs": [],
   "source": [
    "import json"
   ]
  },
  {
   "cell_type": "code",
   "execution_count": 3,
   "metadata": {},
   "outputs": [],
   "source": [
    "# Initialize SparkContext\n",
    "spark = SparkSession.builder.getOrCreate()\n",
    "sc = spark.sparkContext"
   ]
  },
  {
   "cell_type": "code",
   "execution_count": 4,
   "metadata": {},
   "outputs": [],
   "source": [
    "# import dataset\n",
    "df_filename = \"../data/college-search-data-v3.parquet\"\n",
    "df = spark.read.load(df_filename)"
   ]
  },
  {
   "cell_type": "code",
   "execution_count": 5,
   "metadata": {},
   "outputs": [],
   "source": [
    "MAP_PATH = \"./data/college_map.json\"\n",
    "\n",
    "COLLEGEDATA_PATH = \"./data/collegedata_general.json\"\n",
    "\n",
    "MAJORLIST_PATH = \"./data/collegedata_major_list.json\"\n",
    "\n",
    "INTEGRATED_PATH = \"./data/collegedata_integrated.json\"\n",
    "\n",
    "HIGHSCHOOL_UNIT_PATH = \"./data/collegedata_highschool_unit.json\""
   ]
  },
  {
   "cell_type": "code",
   "execution_count": 6,
   "metadata": {},
   "outputs": [
    {
     "name": "stdout",
     "output_type": "stream",
     "text": [
      "1772\n"
     ]
    }
   ],
   "source": [
    "collegedata_general_integrated = {}\n",
    "\n",
    "major_list = {}\n",
    "\n",
    "with open(MAJORLIST_PATH) as f:\n",
    "    major_list = json.load(f)\n",
    "\n",
    "highschool_unit = {}\n",
    "\n",
    "with open(HIGHSCHOOL_UNIT_PATH) as f:\n",
    "    highschool_unit = json.load(f)\n",
    "\n",
    "college_map = {}\n",
    "\n",
    "with open(MAP_PATH) as f:\n",
    "    college_map = json.load(f)\n",
    "\n",
    "valid_name_count = 0\n",
    "for collegedata_name in college_map.keys():\n",
    "    if college_map[collegedata_name] != \"\":\n",
    "        valid_name_count += 1\n",
    "print(valid_name_count)"
   ]
  },
  {
   "cell_type": "markdown",
   "metadata": {},
   "source": [
    "## Integrate major list and clean up collegedata"
   ]
  },
  {
   "cell_type": "code",
   "execution_count": 7,
   "metadata": {},
   "outputs": [],
   "source": [
    "with open(COLLEGEDATA_PATH) as f:\n",
    "    collegedata_general = json.load(f)\n",
    "    for college_name, college_data in collegedata_general.items():\n",
    "        # remove unused variables\n",
    "        college_data[\"admission\"].pop(\"Address\", None)\n",
    "        college_data[\"admission\"].pop(\"Phone\", None)\n",
    "        college_data[\"admission\"].pop(\"Overall Admission Rate\", None)\n",
    "        college_data[\"admission\"].pop(\"Students Enrolled\", None)\n",
    "        college_data[\"admission\"].pop(\"High School Class Rank\", None)\n",
    "\n",
    "        college_data[\"financials\"].pop(\"Net Price Calculator\", None)\n",
    "\n",
    "        college_data[\"campus_life\"].pop(\"Campus Size\", None)\n",
    "        college_data[\"campus_life\"].pop(\"Nearest Bus Station\", None)\n",
    "        college_data[\"campus_life\"].pop(\"Nearest Train Station\", None)\n",
    "        college_data[\"campus_life\"].pop(\"College Housing\", None)\n",
    "        college_data[\"campus_life\"].pop(\"Types of Housing\", None)\n",
    "        college_data[\"campus_life\"].pop(\"Housing Requirements\", None)\n",
    "        college_data[\"campus_life\"].pop(\"Students Living Off Campus/Commuting\", None)\n",
    "        college_data[\"campus_life\"].pop(\"Off-Campus Housing Assistance\", None)\n",
    "\n",
    "        # format population variable\n",
    "        for campus_life_key in college_data[\"campus_life\"].keys():\n",
    "            key_word_list = campus_life_key.split(\" \")\n",
    "            if len(key_word_list) >= 2:\n",
    "                if key_word_list[-1] == \"Population\":\n",
    "                    college_data[\"campus_life\"][\"City Population\"] = college_data[\"campus_life\"].pop(campus_life_key, \"Not reported\")\n",
    "                    break\n",
    "\n",
    "        college_data[\"students\"].pop(\"Average Starting Salary\", None)\n",
    "        college_data[\"students\"].pop(\"Disciplines Pursued\", None)\n",
    "\n",
    "        # integrate major list information\n",
    "        college_data[\"undergraduate majors\"] = major_list[college_name][\"undergraduate majors\"]\n",
    "        \n",
    "        # integrate high school unit req/rec (skip if data exists)\n",
    "        college_data[\"admission\"][\"high_school_req_rec_data\"] = highschool_unit[college_name]\n",
    "\n",
    "        college_integrate_name = college_map[college_name]\n",
    "        if college_integrate_name is not None and college_integrate_name != \"\":\n",
    "            collegedata_general_integrated[college_integrate_name] = college_data"
   ]
  },
  {
   "cell_type": "code",
   "execution_count": 8,
   "metadata": {},
   "outputs": [],
   "source": [
    "with open(INTEGRATED_PATH, \"w\") as f:\n",
    "    f.write(json.dumps(collegedata_general_integrated, indent=4))"
   ]
  },
  {
   "cell_type": "code",
   "execution_count": 9,
   "metadata": {},
   "outputs": [
    {
     "data": {
      "text/plain": [
       "1769"
      ]
     },
     "execution_count": 9,
     "metadata": {},
     "output_type": "execute_result"
    }
   ],
   "source": [
    "len(collegedata_general_integrated.keys())"
   ]
  },
  {
   "cell_type": "markdown",
   "metadata": {},
   "source": [
    "## Upload Scraped Data to MongoDB"
   ]
  },
  {
   "cell_type": "code",
   "execution_count": 10,
   "metadata": {},
   "outputs": [],
   "source": [
    "import pymongo"
   ]
  },
  {
   "cell_type": "code",
   "execution_count": 13,
   "metadata": {},
   "outputs": [],
   "source": [
    "uri = \"\" # in cledge-db resource, then click Quick Start.\n",
    "client = pymongo.MongoClient(uri)\n",
    "\n",
    "db = client[\"colleges\"]\n",
    "collection = db[\"colleges-data\"]\n"
   ]
  },
  {
   "cell_type": "code",
   "execution_count": 15,
   "metadata": {},
   "outputs": [],
   "source": [
    "with open(INTEGRATED_PATH) as f:\n",
    "    integrated_data = json.load(f)"
   ]
  },
  {
   "cell_type": "code",
   "execution_count": 33,
   "metadata": {},
   "outputs": [],
   "source": [
    "\n",
    "for key, value in integrated_data.items():\n",
    "    cur_college = value\n",
    "\n",
    "    # flatten college name and college id\n",
    "    cur_college[\"college_name\"] = key\n",
    "    cur_college[\"college_id\"] = df.filter(col(\"INSTNM\") == key).select(\"UNITID\").collect()[0][0]\n",
    "\n",
    "    collection.insert_one(cur_college)"
   ]
  },
  {
   "attachments": {},
   "cell_type": "markdown",
   "metadata": {},
   "source": [
    "## Update the current database"
   ]
  },
  {
   "cell_type": "code",
   "execution_count": 17,
   "metadata": {},
   "outputs": [],
   "source": [
    "for key, value in integrated_data.items():\n",
    "    cur_college = value\n",
    "\n",
    "    # update the field you want (in this case, the admission section)\n",
    "    collection.update_one({'college_name': key}, {\"$set\":{\"admission\": cur_college[\"admission\"]}})"
   ]
  },
  {
   "cell_type": "markdown",
   "metadata": {},
   "source": [
    "## Test Data inside Azure Cosmos DB"
   ]
  },
  {
   "cell_type": "code",
   "execution_count": null,
   "metadata": {},
   "outputs": [],
   "source": [
    "result = collection.find({\"college_id\": \"236948\"})\n",
    "result[0]"
   ]
  }
 ],
 "metadata": {
  "kernelspec": {
   "display_name": "Python 3.7.6",
   "language": "python",
   "name": "python3"
  },
  "language_info": {
   "codemirror_mode": {
    "name": "ipython",
    "version": 3
   },
   "file_extension": ".py",
   "mimetype": "text/x-python",
   "name": "python",
   "nbconvert_exporter": "python",
   "pygments_lexer": "ipython3",
   "version": "3.7.6"
  },
  "orig_nbformat": 4,
  "vscode": {
   "interpreter": {
    "hash": "6a17e3a3172cf46aaf637e4c7681713daf53374be115d411b165dfc3d728fe3c"
   }
  }
 },
 "nbformat": 4,
 "nbformat_minor": 2
}
