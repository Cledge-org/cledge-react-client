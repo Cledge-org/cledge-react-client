{
 "cells": [
  {
   "cell_type": "code",
   "execution_count": 8,
   "metadata": {},
   "outputs": [],
   "source": [
    "from selenium import webdriver\n",
    "from selenium.webdriver.common.keys import Keys\n",
    "from selenium.webdriver.common.by import By\n",
    "from selenium.webdriver.support.ui import WebDriverWait\n",
    "from selenium.webdriver.support import expected_conditions as EC\n",
    "from selenium.webdriver.common.action_chains import ActionChains\n",
    "\n",
    "import time\n",
    "import json"
   ]
  },
  {
   "cell_type": "code",
   "execution_count": 9,
   "metadata": {},
   "outputs": [],
   "source": [
    "DRIVER_PATH = \"../driver/chromedriver\"\n",
    "\n",
    "COLLEGE_LINKS = \"./data/college_links.json\"\n",
    "\n",
    "OUTPUT_PATH = \"./data/collegedata_major_list.json\"\n",
    "\n",
    "collegedata_major_list = {}"
   ]
  },
  {
   "cell_type": "markdown",
   "metadata": {},
   "source": [
    "## Major List Scrape Function"
   ]
  },
  {
   "cell_type": "code",
   "execution_count": 16,
   "metadata": {},
   "outputs": [],
   "source": [
    "def get_major_list(college_link, college_name, sleep=1):\n",
    "    cur_major_list = []\n",
    "    collegedata_major_list[college_name] = {}\n",
    "\n",
    "    try:\n",
    "        driver = webdriver.Chrome(executable_path=DRIVER_PATH)\n",
    "        driver.get(college_link + \"/academics\")\n",
    "        time.sleep(sleep)\n",
    "\n",
    "        major_list_button = WebDriverWait(driver, sleep).until(\n",
    "            EC.presence_of_element_located((By.CLASS_NAME, \"SubscreenNavigator_link__3CEDu\"))\n",
    "        )\n",
    "\n",
    "        time.sleep(sleep)\n",
    "\n",
    "        major_list_button.click()\n",
    "\n",
    "        time.sleep(sleep)\n",
    "\n",
    "        majors_panel = WebDriverWait(driver, sleep).until(\n",
    "            EC.presence_of_element_located((By.CLASS_NAME, \"ReactModal__Overlay\"))\n",
    "        )\n",
    "\n",
    "        majors = majors_panel.find_elements(By.CLASS_NAME, value=\"SubscreenNavigator_modalData__1xYUK\")\n",
    "\n",
    "        for major in majors:\n",
    "            cur_major_list.append(major.text)\n",
    "    except:\n",
    "        pass\n",
    "    \n",
    "    driver.quit()\n",
    "    collegedata_major_list[college_name][\"undergraduate majors\"] = cur_major_list\n",
    "\n"
   ]
  },
  {
   "cell_type": "code",
   "execution_count": 17,
   "metadata": {},
   "outputs": [
    {
     "name": "stderr",
     "output_type": "stream",
     "text": [
      "/Users/minzhou/opt/anaconda3/lib/python3.7/site-packages/ipykernel_launcher.py:16: DeprecationWarning: executable_path has been deprecated, please pass in a Service object\n",
      "  app.launch_new_instance()\n"
     ]
    },
    {
     "name": "stdout",
     "output_type": "stream",
     "text": [
      "1\n",
      "2\n"
     ]
    }
   ],
   "source": [
    "index = 1\n",
    "\n",
    "with open(COLLEGE_LINKS) as f:\n",
    "    links = json.load(f)\n",
    "    for each_college in links[\"colleges\"]:\n",
    "        get_major_list(each_college[\"link\"], each_college[\"college_name\"])\n",
    "        print(index)\n",
    "        index += 1"
   ]
  },
  {
   "cell_type": "code",
   "execution_count": 18,
   "metadata": {},
   "outputs": [],
   "source": [
    "with open(OUTPUT_PATH, \"w\") as f:\n",
    "    f.write(json.dumps(collegedata_major_list, indent=4))"
   ]
  }
 ],
 "metadata": {
  "kernelspec": {
   "display_name": "Python 3.7.6",
   "language": "python",
   "name": "python3"
  },
  "language_info": {
   "codemirror_mode": {
    "name": "ipython",
    "version": 3
   },
   "file_extension": ".py",
   "mimetype": "text/x-python",
   "name": "python",
   "nbconvert_exporter": "python",
   "pygments_lexer": "ipython3",
   "version": "3.7.6 (default, Jan  8 2020, 13:42:34) \n[Clang 4.0.1 (tags/RELEASE_401/final)]"
  },
  "orig_nbformat": 4,
  "vscode": {
   "interpreter": {
    "hash": "6a17e3a3172cf46aaf637e4c7681713daf53374be115d411b165dfc3d728fe3c"
   }
  }
 },
 "nbformat": 4,
 "nbformat_minor": 2
}
