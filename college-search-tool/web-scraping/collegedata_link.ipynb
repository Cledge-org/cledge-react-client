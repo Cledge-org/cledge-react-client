{
 "cells": [
  {
   "cell_type": "code",
   "execution_count": 1,
   "metadata": {},
   "outputs": [],
   "source": [
    "from selenium import webdriver\n",
    "from selenium.webdriver.common.keys import Keys\n",
    "from selenium.webdriver.common.by import By\n",
    "from selenium.webdriver.support.ui import WebDriverWait\n",
    "from selenium.webdriver.support import expected_conditions as EC\n",
    "from selenium.webdriver.common.action_chains import ActionChains\n",
    "\n",
    "import time\n",
    "import json"
   ]
  },
  {
   "cell_type": "code",
   "execution_count": 2,
   "metadata": {},
   "outputs": [],
   "source": [
    "DRIVER_PATH = \"../driver/chromedriver\""
   ]
  },
  {
   "cell_type": "markdown",
   "metadata": {},
   "source": [
    "## Scrape college links"
   ]
  },
  {
   "cell_type": "code",
   "execution_count": null,
   "metadata": {},
   "outputs": [],
   "source": [
    "college_name_elements = {\n",
    "    \"colleges\": []\n",
    "}\n",
    "\n",
    "index = 0\n",
    "\n",
    "# Scroll the college search page until no more colleges are generated\n",
    "try:\n",
    "    driver = webdriver.Chrome(executable_path=DRIVER_PATH)\n",
    "    driver.get(\"https://waf.collegedata.com/college-search\")\n",
    "\n",
    "    time.sleep(5)\n",
    "\n",
    "    body = WebDriverWait(driver, 3).until(\n",
    "        EC.presence_of_element_located((By.TAG_NAME, \"body\"))\n",
    "    )\n",
    "\n",
    "    last_height = driver.execute_script(\"return document.body.scrollHeight\")\n",
    "    print(last_height)\n",
    "\n",
    "    while True:\n",
    "        \n",
    "        time.sleep(3)\n",
    "        # Scroll down to bottom\n",
    "        driver.execute_script(\"window.scrollTo(0, document.body.scrollHeight);\")\n",
    "\n",
    "        # Wait to load page\n",
    "        time.sleep(3)\n",
    "\n",
    "        # Calculate new scroll height and compare with last scroll height\n",
    "        new_height = driver.execute_script(\"return document.body.scrollHeight\")\n",
    "        time.sleep(3)\n",
    "\n",
    "        print(new_height)\n",
    "\n",
    "        # Scrape all college links, city, and state abbreviation if reach the bottom of the page\n",
    "        if new_height == last_height:\n",
    "            college_cards = driver.find_elements(by=By.CLASS_NAME, value=\"CollegeCard_headerContainer__rDtct\")\n",
    "            time.sleep(60)\n",
    "            for college_card in college_cards:\n",
    "\n",
    "                college_links_by_name = college_card.find_element(by=By.CLASS_NAME, value=\"Link_link__a-VS4\")\n",
    "                college_name = college_links_by_name.find_element(by=By.TAG_NAME, value=\"h3\").text\n",
    "                link = college_links_by_name.get_attribute(\"href\")\n",
    "                location = college_card.find_element(by=By.CLASS_NAME, value=\"CollegeCard_infoText__1QGg8\").text\n",
    "                college_name_elements[\"colleges\"].append({\n",
    "                    \"college_name\": college_name,\n",
    "                    \"link\": link,\n",
    "                    \"city\":  \"\" if location is None else location.split(\", \")[0],\n",
    "                    \"state\": \"\" if location is None else location.split(\", \")[1],\n",
    "                })\n",
    "            time.sleep(120)\n",
    "            break\n",
    "\n",
    "        last_height = new_height\n",
    "finally:\n",
    "    driver.quit()\n",
    "    with open(\"./college_links.json\", \"w\") as f:\n",
    "        f.write(json.dumps(college_name_elements, indent=4))\n"
   ]
  }
 ],
 "metadata": {
  "kernelspec": {
   "display_name": "Python 3.7.6",
   "language": "python",
   "name": "python3"
  },
  "language_info": {
   "codemirror_mode": {
    "name": "ipython",
    "version": 3
   },
   "file_extension": ".py",
   "mimetype": "text/x-python",
   "name": "python",
   "nbconvert_exporter": "python",
   "pygments_lexer": "ipython3",
   "version": "3.7.6 (default, Jan  8 2020, 13:42:34) \n[Clang 4.0.1 (tags/RELEASE_401/final)]"
  },
  "orig_nbformat": 4,
  "vscode": {
   "interpreter": {
    "hash": "6a17e3a3172cf46aaf637e4c7681713daf53374be115d411b165dfc3d728fe3c"
   }
  }
 },
 "nbformat": 4,
 "nbformat_minor": 2
}
