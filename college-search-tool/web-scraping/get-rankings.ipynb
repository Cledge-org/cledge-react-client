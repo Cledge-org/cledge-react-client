{
 "cells": [
  {
   "cell_type": "code",
   "execution_count": 1,
   "metadata": {},
   "outputs": [],
   "source": [
    "from selenium import webdriver\n",
    "from selenium.webdriver.chrome.service import Service\n",
    "from selenium.webdriver.common.keys import Keys\n",
    "from selenium.webdriver.common.by import By\n",
    "from selenium.webdriver.support.ui import WebDriverWait\n",
    "from selenium.webdriver.support import expected_conditions as EC\n",
    "from selenium.webdriver.common.action_chains import ActionChains\n",
    "\n",
    "import time\n",
    "import json"
   ]
  },
  {
   "cell_type": "code",
   "execution_count": 2,
   "metadata": {},
   "outputs": [],
   "source": [
    "DRIVER_PATH = \"./driver/chromedriver\""
   ]
  },
  {
   "cell_type": "code",
   "execution_count": 3,
   "metadata": {},
   "outputs": [],
   "source": [
    "# ranking_data = {}\n",
    "\n",
    "with open(\"./colleges_usnews_link_cleaned.json\") as f:\n",
    "    college_usnews_link = json.load(f)"
   ]
  },
  {
   "cell_type": "code",
   "execution_count": 4,
   "metadata": {},
   "outputs": [],
   "source": [
    "def get_single_college_rankings(college_id, college_name, cur_usnews_link):\n",
    "\n",
    "    cur_college_ranking_info = {}\n",
    "\n",
    "    service = Service(executable_path=DRIVER_PATH)\n",
    "    driver = webdriver.Chrome(service=service)\n",
    "\n",
    "    try:\n",
    "        driver.get(cur_usnews_link + \"/overall-rankings\")\n",
    "        body = WebDriverWait(driver, 2).until(\n",
    "            EC.presence_of_element_located((By.TAG_NAME, \"body\"))\n",
    "        )\n",
    "        try:\n",
    "            ranking_data_list = body.find_element(By.CLASS_NAME, value=\"BadgeList-wn7t98-1\")\n",
    "            rank_details = ranking_data_list.find_elements(By.CLASS_NAME, value=\"eMEqFO\")\n",
    "            for each_badge in rank_details:\n",
    "                try:\n",
    "                    each_badge_data = each_badge.find_elements(By.TAG_NAME, value=\"strong\")\n",
    "                    badge_rank = each_badge_data[0].text[1:]\n",
    "                    badge_name = each_badge_data[1].text\n",
    "                    cur_college_ranking_info[badge_name] = badge_rank\n",
    "                except:\n",
    "                    continue\n",
    "        except:\n",
    "            print(1)\n",
    "            pass\n",
    "    except Exception as e:\n",
    "        print(e)\n",
    "        pass\n",
    "    finally:\n",
    "        driver.quit()\n",
    "    ranking_data[college_id] = cur_college_ranking_info\n",
    "    print(college_name)"
   ]
  },
  {
   "cell_type": "code",
   "execution_count": null,
   "metadata": {},
   "outputs": [],
   "source": [
    "for key, value in college_usnews_link.items():\n",
    "    with open(\"./college_ranking_data.json\") as f:\n",
    "        ranking_data = json.load(f)\n",
    "    if key not in ranking_data:\n",
    "        get_single_college_rankings(key, value[\"college_name\"], value[\"usnews_link\"])\n",
    "        with open(\"./college_ranking_data.json\", \"w\") as f:\n",
    "            f.write(json.dumps(ranking_data, indent=4))"
   ]
  },
  {
   "cell_type": "code",
   "execution_count": 6,
   "metadata": {},
   "outputs": [
    {
     "name": "stdout",
     "output_type": "stream",
     "text": [
      "0\n"
     ]
    }
   ],
   "source": [
    "with open(\"./college_ranking_data.json\") as f:\n",
    "    ranking_data = json.load(f)\n",
    "\n",
    "count = 0\n",
    "for key, value in college_usnews_link.items():\n",
    "    if key not in ranking_data:\n",
    "        print(key)\n",
    "        count += 1\n",
    "print(count)"
   ]
  },
  {
   "attachments": {},
   "cell_type": "markdown",
   "metadata": {},
   "source": [
    "## Append data to database"
   ]
  },
  {
   "cell_type": "code",
   "execution_count": 7,
   "metadata": {},
   "outputs": [],
   "source": [
    "import pymongo"
   ]
  },
  {
   "cell_type": "code",
   "execution_count": 8,
   "metadata": {},
   "outputs": [],
   "source": [
    "uri = \"\" # in cledge-db resource, then click Quick Start.\n",
    "client = pymongo.MongoClient(uri)\n",
    "\n",
    "db = client[\"colleges\"]\n",
    "collection = db[\"colleges-data\"]"
   ]
  },
  {
   "cell_type": "code",
   "execution_count": 9,
   "metadata": {},
   "outputs": [],
   "source": [
    "with open(\"./college_ranking_data.json\") as f:\n",
    "    ranking_data = json.load(f)\n",
    "\n",
    "for key, value in ranking_data.items():\n",
    "    collection.update_one({\"UNITID\": key}, {\"$set\": {\"us_news_rankings\" : value}})"
   ]
  }
 ],
 "metadata": {
  "kernelspec": {
   "display_name": "Python 3",
   "language": "python",
   "name": "python3"
  },
  "language_info": {
   "codemirror_mode": {
    "name": "ipython",
    "version": 3
   },
   "file_extension": ".py",
   "mimetype": "text/x-python",
   "name": "python",
   "nbconvert_exporter": "python",
   "pygments_lexer": "ipython3",
   "version": "3.7.6"
  },
  "orig_nbformat": 4
 },
 "nbformat": 4,
 "nbformat_minor": 2
}
