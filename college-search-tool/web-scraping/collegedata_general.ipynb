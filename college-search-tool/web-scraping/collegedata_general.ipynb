{
 "cells": [
  {
   "cell_type": "code",
   "execution_count": 1,
   "metadata": {},
   "outputs": [],
   "source": [
    "from selenium import webdriver\n",
    "from selenium.webdriver.common.keys import Keys\n",
    "from selenium.webdriver.common.by import By\n",
    "from selenium.webdriver.support.ui import WebDriverWait\n",
    "from selenium.webdriver.support import expected_conditions as EC\n",
    "from selenium.webdriver.common.action_chains import ActionChains\n",
    "\n",
    "import time\n",
    "import json"
   ]
  },
  {
   "cell_type": "code",
   "execution_count": null,
   "metadata": {},
   "outputs": [],
   "source": [
    "DRIVER_PATH = \"../driver/chromedriver\"\n",
    "\n",
    "collegedata_general = {}"
   ]
  },
  {
   "cell_type": "markdown",
   "metadata": {},
   "source": [
    "## Scraping General Function"
   ]
  },
  {
   "cell_type": "code",
   "execution_count": null,
   "metadata": {},
   "outputs": [],
   "source": [
    "\"\"\"\n",
    "scrape function:\n",
    "1. access each college page using college_links.json\n",
    "2. wait for 2 seconds\n",
    "3. scrape each page (find the button on the navbar and click)\n",
    "    - wait for 1 second after click\n",
    "4. wrap up in json format and close\n",
    "\"\"\"\n",
    "\n",
    "def get_general_college_data(college_name, college_link, sleep=2):\n",
    "    driver = webdriver.Chrome(executable_path=DRIVER_PATH)\n",
    "    cur_college_data = {}\n",
    "\n",
    "    # Overview Page\n",
    "\n",
    "    driver.get(college_link)\n",
    "    time.sleep(sleep)\n",
    "    overview_body = WebDriverWait(driver, sleep).until(\n",
    "        EC.presence_of_element_located((By.TAG_NAME, \"body\"))\n",
    "    )\n",
    "\n",
    "    # Admission Page\n",
    "\n",
    "    driver.get(college_link + \"/admission\")\n",
    "    time.sleep(sleep)\n",
    "    admission_body = WebDriverWait(driver, sleep).until(\n",
    "        EC.presence_of_element_located((By.TAG_NAME, \"body\"))\n",
    "    )\n",
    "\n",
    "    # Financials Page\n",
    "\n",
    "    driver.get(college_link + \"/money-matters\")\n",
    "    time.sleep(sleep)\n",
    "    financials_body = WebDriverWait(driver, sleep).until(\n",
    "        EC.presence_of_element_located((By.TAG_NAME, \"body\"))\n",
    "    )\n",
    "\n",
    "    # Academics Page\n",
    "\n",
    "    driver.get(college_link + \"/academics\")\n",
    "    time.sleep(sleep)\n",
    "    academics_body = WebDriverWait(driver, sleep).until(\n",
    "        EC.presence_of_element_located((By.TAG_NAME, \"body\"))\n",
    "    )\n",
    "\n",
    "    # Campus Life page\n",
    "\n",
    "    driver.get(college_link + \"/campus-life\")\n",
    "    time.sleep(sleep)\n",
    "    campus_life_body = WebDriverWait(driver, sleep).until(\n",
    "        EC.presence_of_element_located((By.TAG_NAME, \"body\"))\n",
    "    )\n",
    "\n",
    "    # Students Page\n",
    "\n",
    "    driver.get(college_link + \"/students\")\n",
    "    time.sleep(sleep)\n",
    "    students_body = WebDriverWait(driver, sleep).until(\n",
    "        EC.presence_of_element_located((By.TAG_NAME, \"body\"))\n",
    "    )\n",
    "\n",
    "    # quit\n",
    "    driver.quit()\n",
    "    collegedata_general[college_name] = cur_college_data\n"
   ]
  }
 ],
 "metadata": {
  "kernelspec": {
   "display_name": "Python 3.7.6",
   "language": "python",
   "name": "python3"
  },
  "language_info": {
   "codemirror_mode": {
    "name": "ipython",
    "version": 3
   },
   "file_extension": ".py",
   "mimetype": "text/x-python",
   "name": "python",
   "nbconvert_exporter": "python",
   "pygments_lexer": "ipython3",
   "version": "3.7.6"
  },
  "orig_nbformat": 4,
  "vscode": {
   "interpreter": {
    "hash": "6a17e3a3172cf46aaf637e4c7681713daf53374be115d411b165dfc3d728fe3c"
   }
  }
 },
 "nbformat": 4,
 "nbformat_minor": 2
}
