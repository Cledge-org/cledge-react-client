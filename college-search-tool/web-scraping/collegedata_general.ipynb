{
 "cells": [
  {
   "cell_type": "code",
   "execution_count": 1,
   "metadata": {},
   "outputs": [],
   "source": [
    "from selenium import webdriver\n",
    "from selenium.webdriver.common.keys import Keys\n",
    "from selenium.webdriver.common.by import By\n",
    "from selenium.webdriver.support.ui import WebDriverWait\n",
    "from selenium.webdriver.support import expected_conditions as EC\n",
    "from selenium.webdriver.common.action_chains import ActionChains\n",
    "\n",
    "import time\n",
    "import json"
   ]
  },
  {
   "cell_type": "code",
   "execution_count": 51,
   "metadata": {},
   "outputs": [],
   "source": [
    "DRIVER_PATH = \"../driver/chromedriver\"\n",
    "\n",
    "collegedata_general = {}\n",
    "\n",
    "importance = [\"Very Important\", \"Important\", \"Considered\", \"Not Considered\"]"
   ]
  },
  {
   "cell_type": "markdown",
   "metadata": {},
   "source": [
    "## Scraping General Function"
   ]
  },
  {
   "cell_type": "code",
   "execution_count": 82,
   "metadata": {},
   "outputs": [],
   "source": [
    "\"\"\"\n",
    "scrape function:\n",
    "1. access each college page using college_links.json\n",
    "2. wait for 2 seconds\n",
    "3. scrape each page (find the button on the navbar and click)\n",
    "    - wait for 1 second after click\n",
    "4. wrap up in json format and close\n",
    "\"\"\"\n",
    "\n",
    "def get_general_college_data(college_name, college_link, sleep=0.5):\n",
    "    driver = webdriver.Chrome(executable_path=DRIVER_PATH)\n",
    "    cur_college_data = {}\n",
    "\n",
    "    # Admission Page\n",
    "\n",
    "    driver.get(college_link + \"/admission\")\n",
    "    time.sleep(sleep)\n",
    "    admission_body = WebDriverWait(driver, sleep).until(\n",
    "        EC.presence_of_element_located((By.TAG_NAME, \"body\"))\n",
    "    )\n",
    "    print(get_admission(admission_body, 0.5))\n",
    "\n",
    "    # Financials Page\n",
    "\n",
    "    driver.get(college_link + \"/money-matters\")\n",
    "    time.sleep(sleep)\n",
    "    financials_body = WebDriverWait(driver, sleep).until(\n",
    "        EC.presence_of_element_located((By.TAG_NAME, \"body\"))\n",
    "    )\n",
    "\n",
    "    # Academics Page\n",
    "\n",
    "    driver.get(college_link + \"/academics\")\n",
    "    time.sleep(sleep)\n",
    "    academics_body = WebDriverWait(driver, sleep).until(\n",
    "        EC.presence_of_element_located((By.TAG_NAME, \"body\"))\n",
    "    )\n",
    "\n",
    "    # Campus Life page\n",
    "\n",
    "    driver.get(college_link + \"/campus-life\")\n",
    "    time.sleep(sleep)\n",
    "    campus_life_body = WebDriverWait(driver, sleep).until(\n",
    "        EC.presence_of_element_located((By.TAG_NAME, \"body\"))\n",
    "    )\n",
    "\n",
    "    # Students Page\n",
    "\n",
    "    driver.get(college_link + \"/students\")\n",
    "    time.sleep(sleep)\n",
    "    students_body = WebDriverWait(driver, sleep).until(\n",
    "        EC.presence_of_element_located((By.TAG_NAME, \"body\"))\n",
    "    )\n",
    "\n",
    "    # quit\n",
    "    driver.quit()\n",
    "    collegedata_general[college_name] = cur_college_data\n"
   ]
  },
  {
   "cell_type": "markdown",
   "metadata": {},
   "source": [
    "## Admission page function"
   ]
  },
  {
   "cell_type": "code",
   "execution_count": 98,
   "metadata": {},
   "outputs": [],
   "source": [
    "def get_admission(admission_body, sleep=0.5):\n",
    "    admission_info = {}\n",
    "\n",
    "    all_info = admission_body.find_elements(By.CSS_SELECTOR, value=\".CollegeProfileContent_expandableChildren__3bIKY\")\n",
    "\n",
    "    # Freshman admission requirements\n",
    "\n",
    "    admission_info[\"high_school_req_rec_data\"] = {}\n",
    "\n",
    "    high_school_req_rec = admission_body.find_element(By.CSS_SELECTOR, value=\".Table_unlined__29Tmx > tbody\")\n",
    "    high_school_req_rec_table = high_school_req_rec.find_elements_by_css_selector(\"tr\")\n",
    "    for unit in high_school_req_rec_table:\n",
    "        elements = unit.find_elements_by_css_selector(\"td\")\n",
    "        admission_info[\"high_school_req_rec_data\"][elements[0].text] = {\n",
    "            \"required\": int(elements[1].text) if elements[1].text != '' else None,\n",
    "            \"recommended\": int(elements[2].text) if elements[2].text != '' else None\n",
    "        }\n",
    "\n",
    "    time.sleep(sleep)\n",
    "\n",
    "    # Applying for admission\n",
    "\n",
    "    apply_adm = all_info[1]\n",
    "    adm_contents = apply_adm.find_elements(By.CSS_SELECTOR, value=\".CollegeProfileContent_content__1hJCl > .CollegeProfileContent_content__1hJCl\")\n",
    "\n",
    "    for adm_content in adm_contents:\n",
    "        try:\n",
    "            title = adm_content.find_element(By.CLASS_NAME, value=\"TitleValue_title__2-afK\").text\n",
    "            info = adm_content.find_element(By.CLASS_NAME, value=\"TitleValue_value__1JT0d\").text\n",
    "            admission_info[title] = info\n",
    "        except:\n",
    "            continue\n",
    "\n",
    "    # Selection of students\n",
    "\n",
    "    admission_info[\"selection_of_students\"] = {}\n",
    "    \n",
    "    selection_of_students_table = all_info[2].find_element(By.TAG_NAME, value=\"tbody\")\n",
    "    metrics = selection_of_students_table.find_elements(By.TAG_NAME, value=\"tr\")\n",
    "\n",
    "    for metric in metrics:\n",
    "        elements = metric.find_elements(By.TAG_NAME, value=\"td\")\n",
    "        index = 0\n",
    "        metric_name = \"\"\n",
    "        for element in elements:\n",
    "            if index == 0:\n",
    "                metric_name = element.text\n",
    "            else:\n",
    "                if element.text == \"X\":\n",
    "                    admission_info[\"selection_of_students\"][metric_name] = importance[index - 1]\n",
    "                    break\n",
    "            index += 1\n",
    "    \n",
    "    # Profile of Fall Application\n",
    "\n",
    "    fall_app_prof = all_info[3]\n",
    "    prof_contents = fall_app_prof.find_elements(By.CSS_SELECTOR, value=\".CollegeProfileContent_content__1hJCl > .CollegeProfileContent_content__1hJCl\")\n",
    "\n",
    "    for prof_content in prof_contents:\n",
    "        try:\n",
    "            text_title = prof_content.find_element(By.CLASS_NAME, value=\"TitleValue_title__2-afK\").text\n",
    "            text_info = prof_content.find_element(By.CLASS_NAME, value=\"TitleValue_value__1JT0d\").text\n",
    "            admission_info[text_title] = text_info\n",
    "        except:\n",
    "            pass\n",
    "\n",
    "        try:\n",
    "            histogram = prof_content.find_element(By.CLASS_NAME, value=\"Histogram_container__12lhQ\")\n",
    "        except:\n",
    "            continue\n",
    "\n",
    "        try:\n",
    "            histogram_title = prof_content.find_element(By.CLASS_NAME, value=\"CollegeProfileContent_barGraphTitle__1uzxw\").text\n",
    "            print(histogram_title)\n",
    "            histogram_title_list = histogram_title.split(\": \")\n",
    "            test_title = \"\"\n",
    "            overall_intro = \"\"\n",
    "            if len(histogram_title_list) == 1:\n",
    "                test_title = \"ACT\"\n",
    "                overall_intro = histogram_title_list[0]\n",
    "            else:\n",
    "                [test_title, overall_intro] = histogram_title_list\n",
    "            admission_info[test_title] = {\n",
    "                \"overall\": overall_intro,\n",
    "                \"data\": histogram_scrape(prof_content)\n",
    "            }\n",
    "            # print(admission_info)\n",
    "        except:\n",
    "            admission_info[\"GPA\"] = histogram_scrape(prof_content)\n",
    "\n",
    "    return admission_info\n",
    "\n",
    "# histogram process function\n",
    "def histogram_scrape(prof_content):\n",
    "    histogram_data = {}\n",
    "    histogram = prof_content.find_element(By.CLASS_NAME, value=\"Histogram_container__12lhQ\")\n",
    "    histogram_attr = histogram.find_elements(By.CLASS_NAME, value=\"Histogram_label__1j_Ku\")\n",
    "    histogram_val = histogram.find_elements(By.CLASS_NAME, value=\"Histogram_value__3cCAB\")\n",
    "    for each_attr, each_val in zip(histogram_attr, histogram_val):\n",
    "        histogram_data[each_attr.text] = each_val.text\n",
    "    return histogram_data"
   ]
  },
  {
   "cell_type": "markdown",
   "metadata": {},
   "source": [
    "## Test"
   ]
  },
  {
   "cell_type": "code",
   "execution_count": 99,
   "metadata": {},
   "outputs": [
    {
     "name": "stderr",
     "output_type": "stream",
     "text": [
      "/Users/minzhou/opt/anaconda3/lib/python3.7/site-packages/ipykernel_launcher.py:11: DeprecationWarning: executable_path has been deprecated, please pass in a Service object\n",
      "  # This is added back by InteractiveShellApp.init_path()\n",
      "/Users/minzhou/opt/anaconda3/lib/python3.7/site-packages/ipykernel_launcher.py:11: DeprecationWarning: find_elements_by_css_selector is deprecated. Please use find_elements(by=By.CSS_SELECTOR, value=css_selector) instead\n",
      "  # This is added back by InteractiveShellApp.init_path()\n",
      "/Users/minzhou/opt/anaconda3/lib/python3.7/site-packages/ipykernel_launcher.py:13: DeprecationWarning: find_elements_by_css_selector is deprecated. Please use find_elements(by=By.CSS_SELECTOR, value=css_selector) instead\n",
      "  del sys.path[0]\n"
     ]
    },
    {
     "name": "stdout",
     "output_type": "stream",
     "text": [
      "SAT Math: 554 average , 500-600 range of middle 50%\n",
      "SAT EBRW: 568 average , 510-620 range of middle 50%\n",
      "24 average , 21-27 range of middle 50%\n",
      "ACT Math: 23\n",
      "ACT Eng: 24\n",
      "{'high_school_req_rec_data': {'English': {'required': None, 'recommended': 4}, 'Mathematics': {'required': None, 'recommended': 3}, 'Science': {'required': None, 'recommended': 3}, 'Foreign Language': {'required': None, 'recommended': 2}, 'History': {'required': None, 'recommended': 1}}, 'Address': '1600 Campus Court', 'Phone': '(800) 460-6228', 'Regular Admission Deadline': 'Rolling', 'Application Fee': '$50', 'Application Fee Waiver': 'Available', 'Regular Admission Notification': 'Rolling, notification begins March 15', 'Accept Offer of Admission': 'May 1', 'Waiting List Used': 'No', 'Defer Admission': 'Student cannot defer admission', 'Transfer Admission': 'Transfer applications accepted', 'Early Decision Offered': 'No', 'Early Action Offered': 'Yes', 'Early Action Deadline': 'November 1', 'Early Action Notification': 'November 15', 'Common Application': 'Not accepted', 'Universal College Application': 'Not accepted', 'Electronic Application': 'Accepted', 'Interview': 'Not Required', 'Essay or Personal Statement': 'Required for some freshmen', 'Financial Need': 'Financial need is not a consideration in the admissions process', 'selection_of_students': {'Rigor of Secondary School Record': 'Very Important', 'Academic GPA': 'Very Important', 'Standardized Tests': 'Very Important', 'Class Rank': 'Very Important', 'Recommendations': 'Considered', 'Essay': 'Considered', 'Interview': 'Not Considered', \"Level of Applicant's Interest\": 'Considered', 'Extracurricular Activities': 'Considered', 'Volunteer Work': 'Considered', 'Particular Talent/Ability': 'Important', 'Character/Personal Qualities': 'Important', 'First Generation to Attend College': 'Considered', 'State Residency': 'Not Considered', 'Geographic Residence': 'Not Considered', 'Relation with Alumnus': 'Considered', 'Religious Affiliation/Commitment': 'Not Considered', 'Ethnicity': 'Not Considered', 'Work Experience': 'Considered'}, 'Overall Admission Rate': '63% of 10,534 applicants were admitted', 'Students Enrolled': '1,002 (15%) of 6,679 admitted students enrolled', 'GPA': {'4.00 and Above': '23%', '3.50 - 3.74': '27%', '3.25 - 3.49': '11%', '3.00 - 3.24': '9%', '2.50 - 2.99': '6%', '2.00 - 2.49': '2%'}, 'SAT Math': {'overall': '554 average , 500-600 range of middle 50%', 'data': {'Score of 700 - 800': '3.9%', 'Score of 600 - 700': '22.7%', 'Score of 500 - 600': '51.6%', 'Score of 400 - 500': '20.8%', 'Score of 300 - 400': '0.9%', 'Score of 200 - 300': '0%'}}, 'SAT EBRW': {'overall': '568 average , 510-620 range of middle 50%', 'data': {'Score of 700 - 800': '6.3%', 'Score of 600 - 700': '28.7%', 'Score of 500 - 600': '46.8%', 'Score of 400 - 500': '17.6%', 'Score of 300 - 400': '0.7%', 'Score of 200 - 300': '0%'}}, 'ACT': {'overall': '24 average , 21-27 range of middle 50%', 'data': {'Score of 30 - 36': '14.1%', 'Score of 24 - 29': '36%', 'Score of 18 - 23': '43.1%', 'Score of 12 - 17': '6.8%', 'Score of 6 - 11': '0%', 'Score of 5 or Below': '0%'}}, 'ACT Math': {'overall': '23', 'data': {'Score of 30 - 36': '6.1%', 'Score of 24 - 29': '38.3%', 'Score of 18 - 23': '36.1%', 'Score of 12 - 17': '19.4%', 'Score of 6 - 11': '0.2%', 'Score of 5 or Below': '0%'}}, 'ACT Eng': {'overall': '24', 'data': {'Score of 30 - 36': '17.8%', 'Score of 24 - 29': '30.7%', 'Score of 18 - 23': '39.4%', 'Score of 12 - 17': '11.6%', 'Score of 6 - 11': '0.5%', 'Score of 5 or Below': '0%'}}, 'High School Class Rank': 'Top tenth: 25%', 'National Merit Scholar': '0%', 'Valedictorian': '1%', 'Class President': 'Not reported', 'Student Government Officer': 'Not reported'}\n"
     ]
    }
   ],
   "source": [
    "get_general_college_data(\"Abilene Christian University\", \"https://waf.collegedata.com/college-search/Abilene-Christian-University\")"
   ]
  }
 ],
 "metadata": {
  "kernelspec": {
   "display_name": "Python 3.7.6",
   "language": "python",
   "name": "python3"
  },
  "language_info": {
   "codemirror_mode": {
    "name": "ipython",
    "version": 3
   },
   "file_extension": ".py",
   "mimetype": "text/x-python",
   "name": "python",
   "nbconvert_exporter": "python",
   "pygments_lexer": "ipython3",
   "version": "3.7.6"
  },
  "orig_nbformat": 4,
  "vscode": {
   "interpreter": {
    "hash": "6a17e3a3172cf46aaf637e4c7681713daf53374be115d411b165dfc3d728fe3c"
   }
  }
 },
 "nbformat": 4,
 "nbformat_minor": 2
}
