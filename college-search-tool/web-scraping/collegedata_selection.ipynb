{
 "cells": [
  {
   "cell_type": "code",
   "execution_count": 1,
   "metadata": {},
   "outputs": [],
   "source": [
    "from selenium import webdriver\n",
    "from selenium.webdriver.common.keys import Keys\n",
    "from selenium.webdriver.common.by import By\n",
    "from selenium.webdriver.support.ui import WebDriverWait\n",
    "from selenium.webdriver.support import expected_conditions as EC\n",
    "from selenium.webdriver.common.action_chains import ActionChains\n",
    "\n",
    "import time\n",
    "import json"
   ]
  },
  {
   "cell_type": "code",
   "execution_count": 2,
   "metadata": {},
   "outputs": [],
   "source": [
    "DRIVER_PATH = \"../driver/chromedriver\"\n",
    "\n",
    "collegedata_selection_of_student = {}\n",
    "\n",
    "importance = [\"Very Important\", \"Important\", \"Considered\", \"Not Considered\"]"
   ]
  },
  {
   "cell_type": "code",
   "execution_count": 3,
   "metadata": {},
   "outputs": [],
   "source": [
    "def get_selection_of_student_info(college_name, college_link, sleep=0.5):\n",
    "    driver = webdriver.Chrome(executable_path=DRIVER_PATH)\n",
    "    cur_college_data = {}\n",
    "\n",
    "    driver.get(college_link + \"/admission\")\n",
    "\n",
    "    time.sleep(sleep)\n",
    "\n",
    "    sections = WebDriverWait(driver, sleep).until(\n",
    "        EC.presence_of_all_elements_located((By.CSS_SELECTOR, \".CollegeProfileContent_section__kPeSs\"))\n",
    "    )\n",
    "\n",
    "    selection_of_students_table = sections[2].find_element_by_css_selector(\".CollegeProfileContent_content__1hJCl > .Table_unlined__29Tmx > tbody\")\n",
    "\n",
    "    time.sleep(sleep)\n",
    "\n",
    "    metrics = selection_of_students_table.find_elements_by_css_selector(\"tr\")\n",
    "\n",
    "    time.sleep(sleep)\n",
    "\n",
    "    for metric in metrics:\n",
    "        elements = metric.find_elements_by_css_selector(\"td\")\n",
    "        time.sleep(sleep)\n",
    "        index = 0\n",
    "        metric_name = \"\"\n",
    "        for element in elements:\n",
    "            if index == 0:\n",
    "                metric_name = element.text\n",
    "            else:\n",
    "                if element.text == \"X\":\n",
    "                    cur_college_data[metric_name] = importance[index - 1]\n",
    "                    break\n",
    "            index += 1\n",
    "\n",
    "    driver.quit()\n",
    "    collegedata_selection_of_student[college_name] = cur_college_data\n"
   ]
  },
  {
   "cell_type": "code",
   "execution_count": null,
   "metadata": {},
   "outputs": [],
   "source": [
    "index = 1\n",
    "\n",
    "with open(\"./data/college_links.json\") as f:\n",
    "    links = json.load(f)\n",
    "    for each_college in links[\"colleges\"]:\n",
    "        get_selection_of_student_info(each_college[\"college_name\"], each_college[\"link\"])\n",
    "        print(index)\n",
    "        index += 1"
   ]
  },
  {
   "cell_type": "code",
   "execution_count": 5,
   "metadata": {},
   "outputs": [],
   "source": [
    "with open(\"./data/collegedata_selection_of_student.json\", \"w\") as f:\n",
    "    f.write(json.dumps(collegedata_selection_of_student, indent=4))"
   ]
  }
 ],
 "metadata": {
  "kernelspec": {
   "display_name": "Python 3.7.6",
   "language": "python",
   "name": "python3"
  },
  "language_info": {
   "codemirror_mode": {
    "name": "ipython",
    "version": 3
   },
   "file_extension": ".py",
   "mimetype": "text/x-python",
   "name": "python",
   "nbconvert_exporter": "python",
   "pygments_lexer": "ipython3",
   "version": "3.7.6"
  },
  "orig_nbformat": 4,
  "vscode": {
   "interpreter": {
    "hash": "6a17e3a3172cf46aaf637e4c7681713daf53374be115d411b165dfc3d728fe3c"
   }
  }
 },
 "nbformat": 4,
 "nbformat_minor": 2
}
