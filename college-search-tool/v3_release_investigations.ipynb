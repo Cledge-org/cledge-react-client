{
 "cells": [
  {
   "cell_type": "code",
   "execution_count": 1,
   "metadata": {},
   "outputs": [],
   "source": [
    "from pyspark import SparkContext\n",
    "from pyspark.sql import *\n",
    "import pyspark.sql.functions as F\n",
    "from pyspark.sql.functions import col\n",
    "import json"
   ]
  },
  {
   "cell_type": "code",
   "execution_count": 2,
   "metadata": {},
   "outputs": [],
   "source": [
    "# Initialize SparkContext\n",
    "spark = SparkSession.builder.getOrCreate()\n",
    "sc = spark.sparkContext"
   ]
  },
  {
   "cell_type": "code",
   "execution_count": 3,
   "metadata": {},
   "outputs": [],
   "source": [
    "V3_PATH = \"./data/college-search-data-v3.parquet\"\n",
    "ADM2020_PATH = \"./data/v2_additional_data/ADM2020.csv\""
   ]
  },
  {
   "cell_type": "code",
   "execution_count": 4,
   "metadata": {},
   "outputs": [
    {
     "name": "stdout",
     "output_type": "stream",
     "text": [
      "(6694, 554)\n"
     ]
    }
   ],
   "source": [
    "df = spark.read.load(V3_PATH)\n",
    "print((df.count(), len(df.columns)))"
   ]
  },
  {
   "cell_type": "code",
   "execution_count": 5,
   "metadata": {},
   "outputs": [
    {
     "name": "stdout",
     "output_type": "stream",
     "text": [
      "(1990, 39)\n"
     ]
    }
   ],
   "source": [
    "adm_df = spark.read.csv(ADM2020_PATH)\n",
    "print((adm_df.count(), len(adm_df.columns)))"
   ]
  },
  {
   "cell_type": "code",
   "execution_count": null,
   "metadata": {},
   "outputs": [],
   "source": [
    "df_sat = df.select([\"UNITID\", \"SATVR25, SATVR75, SATMT25, SATMT75\"])\n",
    "adm_sat = adm_df.select([\"UNITID\", \"SATVR25, SATVR75, SATMT25, SATMT75\"])"
   ]
  },
  {
   "cell_type": "code",
   "execution_count": 21,
   "metadata": {},
   "outputs": [],
   "source": [
    "sat_writing_score_50 = df.select(\"SATWRMID\").rdd.flatMap(lambda x: x).collect()\n",
    "sat_writing_score_50 = [x for x in sat_writing_score_50 if x is not None]\n",
    "\n",
    "sat_writing_score_75 = df.select(\"SATWR75\").rdd.flatMap(lambda x: x).collect()\n",
    "sat_writing_score_75 = [x for x in sat_writing_score_75 if x is not None]"
   ]
  }
 ],
 "metadata": {
  "kernelspec": {
   "display_name": "Python 3.7.6",
   "language": "python",
   "name": "python3"
  },
  "language_info": {
   "codemirror_mode": {
    "name": "ipython",
    "version": 3
   },
   "file_extension": ".py",
   "mimetype": "text/x-python",
   "name": "python",
   "nbconvert_exporter": "python",
   "pygments_lexer": "ipython3",
   "version": "3.7.6"
  },
  "orig_nbformat": 4,
  "vscode": {
   "interpreter": {
    "hash": "6a17e3a3172cf46aaf637e4c7681713daf53374be115d411b165dfc3d728fe3c"
   }
  }
 },
 "nbformat": 4,
 "nbformat_minor": 2
}
