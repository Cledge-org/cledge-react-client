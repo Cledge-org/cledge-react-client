{
 "cells": [
  {
   "cell_type": "code",
   "execution_count": 1,
   "metadata": {},
   "outputs": [],
   "source": [
    "from pyspark import SparkContext\n",
    "from pyspark.sql import *\n",
    "import pyspark.sql.functions as F\n",
    "from pyspark.sql.functions import col\n",
    "import json"
   ]
  },
  {
   "cell_type": "markdown",
   "metadata": {},
   "source": [
    "## Non-override Variables"
   ]
  },
  {
   "cell_type": "code",
   "execution_count": null,
   "metadata": {},
   "outputs": [],
   "source": [
    "non_override_columns = {\n",
    "    \"CIP01BACHL\": \"integer\",\n",
    "    \"CIP03BACHL\": \"integer\",\n",
    "    \"CIP04BACHL\": \"integer\",\n",
    "    \"CIP05BACHL\": \"integer\",\n",
    "    \"CIP09BACHL\": \"integer\",\n",
    "    \"CIP10BACHL\": \"integer\",\n",
    "    \"CIP11BACHL\": \"integer\",\n",
    "    \"CIP12BACHL\": \"integer\",\n",
    "    \"CIP13BACHL\": \"integer\",\n",
    "    \"CIP14BACHL\": \"integer\",\n",
    "    \"CIP15BACHL\": \"integer\",\n",
    "    \"CIP16BACHL\": \"integer\",\n",
    "    \"CIP19BACHL\": \"integer\",\n",
    "    \"CIP22BACHL\": \"integer\",\n",
    "    \"CIP23BACHL\": \"integer\",\n",
    "    \"CIP24BACHL\": \"integer\",\n",
    "    \"CIP25BACHL\": \"integer\",\n",
    "    \"CIP26BACHL\": \"integer\",\n",
    "    \"CIP27BACHL\": \"integer\",\n",
    "    \"CIP29BACHL\": \"integer\",\n",
    "    \"CIP30BACHL\": \"integer\",\n",
    "    \"CIP31BACHL\": \"integer\",\n",
    "    \"CIP38BACHL\": \"integer\",\n",
    "    \"CIP39BACHL\": \"integer\",\n",
    "    \"CIP40BACHL\": \"integer\",\n",
    "    \"CIP41BACHL\": \"integer\",\n",
    "    \"CIP42BACHL\": \"integer\",\n",
    "    \"CIP43BACHL\": \"integer\",\n",
    "    \"CIP44BACHL\": \"integer\",\n",
    "    \"CIP45BACHL\": \"integer\",\n",
    "    \"CIP46BACHL\": \"integer\",\n",
    "    \"CIP47BACHL\": \"integer\",\n",
    "    \"CIP48BACHL\": \"integer\",\n",
    "    \"CIP49BACHL\": \"integer\",\n",
    "    \"CIP50BACHL\": \"integer\",\n",
    "    \"CIP51BACHL\": \"integer\",\n",
    "    \"CIP52BACHL\": \"integer\",\n",
    "    \"CIP54BACHL\": \"integer\",\n",
    "    \"NPT41_PUB\": \"integer\",\n",
    "    \"NPT42_PUB\": \"integer\",\n",
    "    \"NPT43_PUB\": \"integer\",\n",
    "    \"NPT44_PUB\": \"integer\",\n",
    "    \"NPT45_PUB\": \"integer\",\n",
    "    \"NPT41_PRIV\": \"integer\",\n",
    "    \"NPT42_PRIV\": \"integer\",\n",
    "    \"NPT43_PRIV\": \"integer\",\n",
    "    \"NPT44_PRIV\": \"integer\",\n",
    "    \"NPT45_PRIV\": \"integer\",\n",
    "    \"GRAD_DEBT_MDN\": \"float\",\n",
    "    \"LO_INC_DEBT_MDN\": \"float\",\n",
    "    \"MD_INC_DEBT_MDN\": \"float\",\n",
    "    \"HI_INC_DEBT_MDN\": \"float\",\n",
    "    \"FIRSTGEN_DEBT_MDN\": \"float\",\n",
    "    \"NOTFIRSTGEN_DEBT_MDN\": \"float\",\n",
    "    \"FIRST_GEN\": \"float\",\n",
    "    \"UNEMP_RATE\": \"float\",\n",
    "    \"MN_EARN_WNE_P10\": \"integer\",\n",
    "    \"PCT10_EARN_WNE_P10\": \"integer\",\n",
    "    \"PCT25_EARN_WNE_P10\": \"integer\",\n",
    "    \"PCT75_EARN_WNE_P10\": \"integer\",\n",
    "    \"PCT90_EARN_WNE_P10\": \"integer\",\n",
    "    \"PCT10_EARN_WNE_P6\": \"integer\",\n",
    "    \"PCT25_EARN_WNE_P6\": \"integer\",\n",
    "    \"PCT75_EARN_WNE_P6\": \"integer\",\n",
    "    \"PCT90_EARN_WNE_P6\": \"integer\",\n",
    "}"
   ]
  },
  {
   "cell_type": "markdown",
   "metadata": {},
   "source": [
    "## Change Percentile DataType in IPEDS"
   ]
  },
  {
   "cell_type": "code",
   "execution_count": null,
   "metadata": {},
   "outputs": [],
   "source": []
  }
 ],
 "metadata": {
  "interpreter": {
   "hash": "6a17e3a3172cf46aaf637e4c7681713daf53374be115d411b165dfc3d728fe3c"
  },
  "kernelspec": {
   "display_name": "Python 3.7.6 ('base')",
   "language": "python",
   "name": "python3"
  },
  "language_info": {
   "codemirror_mode": {
    "name": "ipython",
    "version": 3
   },
   "file_extension": ".py",
   "mimetype": "text/x-python",
   "name": "python",
   "nbconvert_exporter": "python",
   "pygments_lexer": "ipython3",
   "version": "3.7.6"
  },
  "orig_nbformat": 4
 },
 "nbformat": 4,
 "nbformat_minor": 2
}
