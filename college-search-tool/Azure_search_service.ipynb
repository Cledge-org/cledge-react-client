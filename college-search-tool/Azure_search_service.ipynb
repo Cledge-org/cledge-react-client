{
 "cells": [
  {
   "cell_type": "markdown",
   "metadata": {},
   "source": [
    "References:\n",
    "\n",
    "https://github.com/Cledge-org/cledge/blob/dev/features/college_search_tool/assets/\n",
    "\n",
    "https://github.com/Cledge-org/cledge/blob/dev/features/college_search_tool/src/college_search_index_builder.ipynb"
   ]
  },
  {
   "cell_type": "code",
   "execution_count": 1,
   "metadata": {},
   "outputs": [],
   "source": [
    "from pyspark import SparkContext\n",
    "from pyspark.sql import *\n",
    "import pyspark.sql.functions as F\n",
    "import json\n"
   ]
  },
  {
   "cell_type": "code",
   "execution_count": 2,
   "metadata": {},
   "outputs": [],
   "source": [
    "# Azure Imports\n",
    "from azure.core.credentials import AzureKeyCredential\n",
    "from azure.search.documents.indexes import SearchIndexClient \n",
    "from azure.search.documents import SearchClient\n",
    "from azure.search.documents.indexes.models import (\n",
    "    CorsOptions,\n",
    "    SearchIndex,\n",
    "    SearchFieldDataType,\n",
    "    SimpleField,\n",
    "    SearchableField\n",
    ")"
   ]
  },
  {
   "cell_type": "code",
   "execution_count": 3,
   "metadata": {},
   "outputs": [],
   "source": [
    "# Initialize SparkContext\n",
    "spark = SparkSession.builder.getOrCreate()\n",
    "sc = spark.sparkContext"
   ]
  },
  {
   "cell_type": "code",
   "execution_count": 4,
   "metadata": {},
   "outputs": [],
   "source": [
    "# Boilerplate code to connect to Azure Search Service\n",
    "service_name = \"college-search-service\"\n",
    "admin_key = \"B6C37FA89C0A5BDD60267B82A1DC1BEF\"\n",
    "\n",
    "index_name = \"college-search-index\"\n",
    "\n",
    "# Create an SDK client\n",
    "endpoint = \"https://{}.search.windows.net/\".format(service_name)\n",
    "admin_client = SearchIndexClient(endpoint=endpoint,\n",
    "                    index_name=index_name,\n",
    "                    credential=AzureKeyCredential(admin_key))\n",
    "\n",
    "search_client = SearchClient(endpoint=endpoint,\n",
    "                    index_name=index_name,\n",
    "                    credential=AzureKeyCredential(admin_key))"
   ]
  },
  {
   "cell_type": "code",
   "execution_count": 6,
   "metadata": {},
   "outputs": [
    {
     "name": "stdout",
     "output_type": "stream",
     "text": [
      "Index college-search-index deleted\n"
     ]
    }
   ],
   "source": [
    "# Remove previous index if it exists: only run if you want to replace all the data\n",
    "try:\n",
    "    result = admin_client.delete_index(index_name)\n",
    "    print('Index {} deleted'.format(index_name))\n",
    "except Exception as ex:\n",
    "    print(ex)"
   ]
  },
  {
   "cell_type": "code",
   "execution_count": 5,
   "metadata": {},
   "outputs": [],
   "source": [
    "# import dataset\n",
    "df_filename = './data/college-search-data-v2.parquet'\n",
    "df = spark.read.load(df_filename)"
   ]
  },
  {
   "cell_type": "code",
   "execution_count": 7,
   "metadata": {},
   "outputs": [
    {
     "name": "stdout",
     "output_type": "stream",
     "text": [
      "551\n"
     ]
    }
   ],
   "source": [
    "# build index\n",
    "\n",
    "with open('./assets/datatypes.json') as f:\n",
    "    datatypes = json.load(f)\n",
    "\n",
    "search_fields = []\n",
    "for column in df.columns:\n",
    "    datatype = datatypes[column]\n",
    "    if column == \"UNITID\":\n",
    "        field = SimpleField(name=column, type=SearchFieldDataType.String, key=True)\n",
    "        search_fields.append(field)\n",
    "        continue\n",
    "    if datatype == \"string\":\n",
    "        field = SearchableField(name=column, type=SearchFieldDataType.String, searchable=True, sortable=True, filterable=True, facetable=True)\n",
    "    elif datatype == \"integer\":\n",
    "        field = SimpleField(name=column, type=SearchFieldDataType.Int64, filterable=True, sortable=True, facetable=True)\n",
    "    elif datatype == \"float\":\n",
    "        field = SimpleField(name=column, type=SearchFieldDataType.Double, filterable=True, sortable=True, facetable=True)\n",
    "    else: # datatype == \"boolean\"\n",
    "        field = SimpleField(name=column, type=SearchFieldDataType.Boolean, filterable=True, sortable=True, facetable=True)\n",
    "    search_fields.append(field)\n",
    "\n",
    "cors_options = CorsOptions(allowed_origins=[\"*\"], max_age_in_seconds=60)\n",
    "scoring_profiles = []\n",
    "\n",
    "print(len(search_fields))"
   ]
  },
  {
   "cell_type": "code",
   "execution_count": 8,
   "metadata": {},
   "outputs": [
    {
     "name": "stdout",
     "output_type": "stream",
     "text": [
      "Index college-search-index created\n"
     ]
    }
   ],
   "source": [
    "index = SearchIndex(\n",
    "    name=index_name,\n",
    "    fields=search_fields,\n",
    "    scoring_profiles=scoring_profiles,\n",
    "    cors_options=cors_options)\n",
    "\n",
    "try:\n",
    "    result = admin_client.create_index(index)\n",
    "    print ('Index', result.name, 'created')\n",
    "except Exception as ex:\n",
    "    print (ex)"
   ]
  },
  {
   "cell_type": "code",
   "execution_count": 9,
   "metadata": {},
   "outputs": [
    {
     "name": "stdout",
     "output_type": "stream",
     "text": [
      "{'UNITID': '100654', 'INSTNM': 'Alabama A & M University', 'CITY': 'Normal', 'STABBR': 'AL', 'ZIP': '35762', 'ACCREDAGENCY': 'Southern Association of Colleges and Schools Commission on Colleges', 'INSTURL': 'www.aamu.edu/', 'NPCURL': 'www.aamu.edu/admissions-aid/tuition-fees/net-price-calculator.html', 'SCH_DEG': 3, 'MAIN': 1, 'NUMBRANCH': 1, 'PREDDEG': 3, 'HIGHDEG': 4, 'CONTROL': 1, 'ST_FIPS': 1, 'REGION': 5, 'LOCALE': 12, 'LATITUDE': 34.783367, 'LONGITUDE': -86.568504, 'CCBASIC': 18, 'CCUGPROF': 10, 'CCSIZSET': 14, 'HBCU': 1, 'PBI': 0, 'ANNHI': 0, 'TRIBAL': 0, 'AANAPII': 0, 'HSI': 0, 'NANTI': 0, 'MENONLY': 0, 'WOMENONLY': 0, 'ADM_RATE_ALL': 0.9175, 'SATVR25': 430.0, 'SATVR75': 510.0, 'SATMT25': 410.0, 'SATMT75': 500.0, 'SATWR25': 370.0, 'SATWR75': 457.0, 'SATVRMID': 470.0, 'SATMTMID': 455.0, 'SATWRMID': 414.0, 'ACTCM25': 15.0, 'ACTCM75': 19.0, 'ACTEN25': 14.0, 'ACTEN75': 20.0, 'ACTMT25': 15.0, 'ACTMT75': 18.0, 'ACTCMMID': 17.0, 'ACTENMID': 17.0, 'ACTMTMID': 17.0, 'SAT_AVG': 939.0, 'SAT_AVG_ALL': 939.0, 'PCIP01': 0.0268, 'PCIP03': 0.0143, 'PCIP04': 0.0036, 'PCIP05': 0.0, 'PCIP09': 0.0, 'PCIP10': 0.0625, 'PCIP11': 0.0554, 'PCIP12': 0.0, 'PCIP13': 0.0464, 'PCIP14': 0.1196, 'PCIP15': 0.0161, 'PCIP16': 0.0, 'PCIP19': 0.0321, 'PCIP22': 0.0, 'PCIP23': 0.0179, 'PCIP24': 0.0589, 'PCIP25': 0.0, 'PCIP26': 0.1018, 'PCIP27': 0.0054, 'PCIP29': 0.0, 'PCIP30': 0.0, 'PCIP31': 0.0339, 'PCIP38': 0.0, 'PCIP39': 0.0, 'PCIP40': 0.0214, 'PCIP41': 0.0, 'PCIP42': 0.0554, 'PCIP43': 0.0732, 'PCIP44': 0.0518, 'PCIP45': 0.025, 'PCIP46': 0.0, 'PCIP47': 0.0, 'PCIP48': 0.0, 'PCIP49': 0.0, 'PCIP50': 0.0196, 'PCIP51': 0.0, 'PCIP52': 0.1589, 'PCIP54': 0.0, 'CIP01CERT1': 0, 'CIP01CERT2': 0, 'CIP01ASSOC': 0, 'CIP01CERT4': 0, 'CIP01BACHL': 1, 'CIP03CERT1': 0, 'CIP03CERT2': 0, 'CIP03ASSOC': 0, 'CIP03CERT4': 0, 'CIP03BACHL': 1, 'CIP04CERT1': 0, 'CIP04CERT2': 0, 'CIP04ASSOC': 0, 'CIP04CERT4': 0, 'CIP04BACHL': 1, 'CIP05CERT1': 0, 'CIP05CERT2': 0, 'CIP05ASSOC': 0, 'CIP05CERT4': 0, 'CIP05BACHL': 0, 'CIP09CERT1': 0, 'CIP09CERT2': 0, 'CIP09ASSOC': 0, 'CIP09CERT4': 0, 'CIP09BACHL': 0, 'CIP10CERT1': 0, 'CIP10CERT2': 0, 'CIP10ASSOC': 0, 'CIP10CERT4': 0, 'CIP10BACHL': 1, 'CIP11CERT1': 0, 'CIP11CERT2': 0, 'CIP11ASSOC': 0, 'CIP11CERT4': 0, 'CIP11BACHL': 1, 'CIP12CERT1': 0, 'CIP12CERT2': 0, 'CIP12ASSOC': 0, 'CIP12CERT4': 0, 'CIP12BACHL': 0, 'CIP13CERT1': 0, 'CIP13CERT2': 0, 'CIP13ASSOC': 0, 'CIP13CERT4': 0, 'CIP13BACHL': 1, 'CIP14CERT1': 0, 'CIP14CERT2': 0, 'CIP14ASSOC': 0, 'CIP14CERT4': 0, 'CIP14BACHL': 1, 'CIP15CERT1': 0, 'CIP15CERT2': 0, 'CIP15ASSOC': 0, 'CIP15CERT4': 0, 'CIP15BACHL': 1, 'CIP16CERT1': 0, 'CIP16CERT2': 0, 'CIP16ASSOC': 0, 'CIP16CERT4': 0, 'CIP16BACHL': 0, 'CIP19CERT1': 0, 'CIP19CERT2': 0, 'CIP19ASSOC': 0, 'CIP19CERT4': 0, 'CIP19BACHL': 1, 'CIP22CERT1': 0, 'CIP22CERT2': 0, 'CIP22ASSOC': 0, 'CIP22CERT4': 0, 'CIP22BACHL': 0, 'CIP23CERT1': 0, 'CIP23CERT2': 0, 'CIP23ASSOC': 0, 'CIP23CERT4': 0, 'CIP23BACHL': 1, 'CIP24CERT1': 0, 'CIP24CERT2': 0, 'CIP24ASSOC': 0, 'CIP24CERT4': 0, 'CIP24BACHL': 1, 'CIP25CERT1': 0, 'CIP25CERT2': 0, 'CIP25ASSOC': 0, 'CIP25CERT4': 0, 'CIP25BACHL': 0, 'CIP26CERT1': 0, 'CIP26CERT2': 0, 'CIP26ASSOC': 0, 'CIP26CERT4': 0, 'CIP26BACHL': 1, 'CIP27CERT1': 0, 'CIP27CERT2': 0, 'CIP27ASSOC': 0, 'CIP27CERT4': 0, 'CIP27BACHL': 1, 'CIP29CERT1': 0, 'CIP29CERT2': 0, 'CIP29ASSOC': 0, 'CIP29CERT4': 0, 'CIP29BACHL': 0, 'CIP30CERT1': 0, 'CIP30CERT2': 0, 'CIP30ASSOC': 0, 'CIP30CERT4': 0, 'CIP30BACHL': 0, 'CIP31CERT1': 0, 'CIP31CERT2': 0, 'CIP31ASSOC': 0, 'CIP31CERT4': 0, 'CIP31BACHL': 1, 'CIP38CERT1': 0, 'CIP38CERT2': 0, 'CIP38ASSOC': 0, 'CIP38CERT4': 0, 'CIP38BACHL': 0, 'CIP39CERT1': 0, 'CIP39CERT2': 0, 'CIP39ASSOC': 0, 'CIP39CERT4': 0, 'CIP39BACHL': 0, 'CIP40CERT1': 0, 'CIP40CERT2': 0, 'CIP40ASSOC': 0, 'CIP40CERT4': 0, 'CIP40BACHL': 1, 'CIP41CERT1': 0, 'CIP41CERT2': 0, 'CIP41ASSOC': 0, 'CIP41CERT4': 0, 'CIP41BACHL': 0, 'CIP42CERT1': 0, 'CIP42CERT2': 0, 'CIP42ASSOC': 0, 'CIP42CERT4': 0, 'CIP42BACHL': 1, 'CIP43CERT1': 0, 'CIP43CERT2': 0, 'CIP43ASSOC': 0, 'CIP43CERT4': 0, 'CIP43BACHL': 1, 'CIP44CERT1': 0, 'CIP44CERT2': 0, 'CIP44ASSOC': 0, 'CIP44CERT4': 0, 'CIP44BACHL': 1, 'CIP45CERT1': 0, 'CIP45CERT2': 0, 'CIP45ASSOC': 0, 'CIP45CERT4': 0, 'CIP45BACHL': 1, 'CIP46CERT1': 0, 'CIP46CERT2': 0, 'CIP46ASSOC': 0, 'CIP46CERT4': 0, 'CIP46BACHL': 0, 'CIP47CERT1': 0, 'CIP47CERT2': 0, 'CIP47ASSOC': 0, 'CIP47CERT4': 0, 'CIP47BACHL': 0, 'CIP48CERT1': 0, 'CIP48CERT2': 0, 'CIP48ASSOC': 0, 'CIP48CERT4': 0, 'CIP48BACHL': 0, 'CIP49CERT1': 0, 'CIP49CERT2': 0, 'CIP49ASSOC': 0, 'CIP49CERT4': 0, 'CIP49BACHL': 0, 'CIP50CERT1': 0, 'CIP50CERT2': 0, 'CIP50ASSOC': 0, 'CIP50CERT4': 0, 'CIP50BACHL': 1, 'CIP51CERT1': 0, 'CIP51CERT2': 0, 'CIP51ASSOC': 0, 'CIP51CERT4': 0, 'CIP51BACHL': 0, 'CIP52CERT1': 0, 'CIP52CERT2': 0, 'CIP52ASSOC': 0, 'CIP52CERT4': 0, 'CIP52BACHL': 2, 'CIP54CERT1': 0, 'CIP54CERT2': 0, 'CIP54ASSOC': 0, 'CIP54CERT4': 0, 'CIP54BACHL': 0, 'DISTANCEONLY': 0, 'UGDS': 5271, 'UGDS_WHITE': 0.014, 'UGDS_BLACK': 0.9072, 'UGDS_HISP': 0.0091, 'UGDS_ASIAN': 0.0019, 'UGDS_AIAN': 0.0021, 'UGDS_NHPI': 0.0011, 'UGDS_2MOR': 0.0114, 'UGDS_NRA': 0.007, 'UGDS_UNKN': 0.0461, 'PPTUG_EF': 0.0562, 'NPT41_PUB': 14310, 'NPT42_PUB': 13849, 'NPT43_PUB': 18405, 'NPT44_PUB': 19016, 'NPT45_PUB': 19419, 'NPT4_048_PUB': 14197, 'NPT4_3075_PUB': 15322, 'NPT4_75UP_PUB': 19194, 'NUM4_PUB': 558, 'NUM42_PUB': 113, 'NUM43_PUB': 54, 'NUM44_PUB': 24, 'NUM45_PUB': 19, 'TUITIONFEE_IN': 10024, 'TUITIONFEE_OUT': 18634, 'TUITFTE': 7870, 'INEXPFTE': 5546, 'AVGFACSAL': 7709, 'PFTFAC': 0.711, 'PCTPELL': 0.7019, 'C150_4': 0.2974, 'C150_4_POOLED': 0.2844, 'PFTFTUG1_EF': 0.9336, 'C150_4_WHITE': 0.3333, 'C150_4_BLACK': 0.301, 'C150_4_HISP': 0.2727, 'C150_4_ASIAN': 1.0, 'C150_4_AIAN': 1.0, 'C150_4_NHPI': 0.5, 'C150_4_2MOR': 0.0, 'C150_4_NRA': 0.1053, 'C150_4_UNKN': 1.0, 'C200_4': 0.2801, 'RET_FT4': 0.5689, 'C200_4_POOLED': 0.3138, 'PCTFLOAN': 0.7361, 'IND_INC_PCT_LO': 0.9015873, 'DEP_INC_PCT_LO': 0.56913966, 'PAR_ED_PCT_PS': 0.6341719, 'GRAD_DEBT_MDN': 31000.0, 'LO_INC_DEBT_MDN': 16000.0, 'MD_INC_DEBT_MDN': 15159.0, 'HI_INC_DEBT_MDN': 14463.0, 'FIRSTGEN_DEBT_MDN': 15060.0, 'NOTFIRSTGEN_DEBT_MDN': 16000.0, 'CUML_DEBT_P90': 47750, 'CUML_DEBT_P75': 32208, 'CUML_DEBT_P25': 5500, 'CUML_DEBT_P10': 3381, 'APPL_SCH_N': 3186, 'LOAN_EVER': 0.88606405, 'PELL_EVER': 0.85279346, 'AGE_ENTRY': 20, 'VETERAN': 0.003138732, 'FIRST_GEN': 0.3658281, 'PCT_WHITE': 46.84, 'PCT_BLACK': 47.98, 'PCT_ASIAN': 1.48, 'PCT_HISPANIC': 3.79, 'PCT_BA': 13.0, 'PCT_GRAD_PROF': 6.86, 'PCT_BORN_US': 94.74, 'MEDIAN_HH_INC': 49720, 'POVERTY_RATE': 14.88, 'UNEMP_RATE': 4.84, 'LN_MEDIAN_HH_INC': 10, 'COUNT_NWNE_P10': 212, 'COUNT_WNE_P10': 963, 'MN_EARN_WNE_P10': 35500, 'MD_EARN_WNE_P10': 36339, 'PCT10_EARN_WNE_P10': 6700, 'PCT25_EARN_WNE_P10': 23176, 'PCT75_EARN_WNE_P10': 54563, 'PCT90_EARN_WNE_P10': 70000, 'COUNT_WNE_INC1_P10': 459, 'COUNT_WNE_INC2_P10': 337, 'COUNT_WNE_INC3_P10': 166, 'COUNT_WNE_INDEP0_INC1_P10': 565, 'GT_25K_P10': 0.599, 'GT_28K_P10': 0.567, 'MN_EARN_WNE_INC1_P10': 33000, 'MN_EARN_WNE_INC2_P10': 37300, 'MN_EARN_WNE_INC3_P10': 39500, 'MN_EARN_WNE_INDEP0_INC1_P10': 32700, 'MN_EARN_WNE_INDEP0_P10': 35000, 'MN_EARN_WNE_INDEP1_P10': 38100, 'MN_EARN_WNE_MALE0_P10': 32600, 'MN_EARN_WNE_MALE1_P10': 38500, 'PCT10_EARN_WNE_P6': 4500, 'PCT25_EARN_WNE_P6': 16621, 'PCT75_EARN_WNE_P6': 43112, 'PCT90_EARN_WNE_P6': 51400, 'COUNT_WNE_INC1_P6': 913, 'COUNT_WNE_INC2_P6': 402, 'COUNT_WNE_INC3_P6': 144, 'GT_25K_P6': 0.453, 'GT_28K_P6': 0.431, 'MN_EARN_WNE_INC1_P6': 27200.0, 'MN_EARN_WNE_INC2_P6': 29100.0, 'MN_EARN_WNE_INC3_P6': 30800.0, 'MN_EARN_WNE_INDEP0_INC1_P6': 23900.0, 'UGDS_MEN': 0.3967, 'UGDS_WOMEN': 0.6033, 'OPENADMP': 2, 'OPEFLAG': 1, 'FTFTPCTPELL': 0.7097, 'FTFTPCTFLOAN': 0.7076, 'FEDSCHCD': '001002', 'ADM_RATE': 0.9175, 'FEMALE': 0.5640301, 'ADDR': '4900 Meridian Street', 'GENTELE': '2563725000', 'INSTCAT': 2, 'LANDGRNT': 1, 'C18IPUG': 16, 'C18UGPRF': 10, 'C18ENPRF': 4, 'C18SZSET': 14, 'IALIAS': 'AAMU', 'INSTSIZE': 3, 'SLO5': 1, 'ASSOC1': 1, 'SPORT1': 1, 'SPORT2': 1, 'SPORT3': 1, 'SPORT4': 1, 'CALSYS': 1, 'APPLFEEU': 30, 'FT_UG': 1, 'ADMCON1': 1, 'ADMCON2': 2, 'ADMCON3': 1, 'ADMCON4': 2, 'ADMCON5': 3, 'ADMCON6': 2, 'ADMCON7': 1, 'SATPCT': 1, 'ACTPCT': 72, 'ENRLM': 676, 'ENRLW': 988, 'DVADM02': 87, 'DVADM03': 91, 'DVADM08': 22, 'DVADM09': 16, 'DVADM04': 19, 'CINSON': 23954, 'COTSON': 32564, 'CINSOFF': 23954, 'COTSOFF': 32564, 'TUFEYR3': 10024, 'TUITION2': 8610, 'TUITION3': 17220, 'EFNRALT': 37, 'EFAGE07': 2091, 'EFAGE08': 3182, 'ENRTOT': 5977, 'EFUG': 5093, 'EFGRAD': 884, 'RMOUSTTP': 46, 'RMINSTTP': 53, 'RMUNKNWP': 2, 'PCTENRWH': 2, 'PCTENRBK': 86, 'PCTENRHS': 1, 'PCTENRAP': 0, 'PCTENRAN': 0, 'PCTENRUN': 8, 'PCTENRNR': 1, 'STUFACR': 18, 'SAINSTT': 253, 'SAINSTW': 116, 'SAINSTM': 137, 'SANIN02': 9, 'F1STSVFT': 4425, 'F1ACSPFT': 1167, 'F1OTEXFT': 8587, 'GIS4OF1': 16, 'GIS4A41': 4037, 'GIS4T51': 69055, 'GIS4A12': 8751, 'GIS4A22': 8066, 'GIS4A32': 5751, 'GIS4A42': 5562, 'GIS4A52': 2962, 'NPIST2': 15373, 'BAGR100': 6, 'BAGR150': 27, 'NRCMOBA': 0, 'NRCMTOT': 53, 'SCFA2': 5273, 'ANYAIDP': 89, 'PGRNT_P': 69, 'OFGRT_P': 6, 'FLOAN_P': 72, 'OLOAN_P': 2, 'UAGRNTP': 87, 'UPGRNTP': 71, 'UFLOANP': 75, 'AGRNT_A': 9679, 'TARGET_TIER': 0, 'SAFETY_TIER': 3}\n"
     ]
    }
   ],
   "source": [
    "# Test converting row to JSON as needed for uploading to index\n",
    "print(json.loads(df.toJSON().first()))"
   ]
  },
  {
   "cell_type": "code",
   "execution_count": 10,
   "metadata": {},
   "outputs": [],
   "source": [
    "# Convert dataframe to list of docs\n",
    "docs = df.toJSON().collect()\n",
    "for i, doc in enumerate(docs):\n",
    "    doc = json.loads(doc)\n",
    "    doc['@search.action'] = 'upload'\n",
    "    docs[i] = doc"
   ]
  },
  {
   "cell_type": "code",
   "execution_count": 11,
   "metadata": {},
   "outputs": [
    {
     "name": "stdout",
     "output_type": "stream",
     "text": [
      "Upload of new document succeeded: True\n"
     ]
    }
   ],
   "source": [
    "# Try to upload docs\n",
    "try:\n",
    "    result = search_client.upload_documents(documents=docs)\n",
    "    print(\"Upload of new document succeeded: {}\".format(result[0].succeeded))\n",
    "except Exception as ex:\n",
    "    print (ex.message)"
   ]
  },
  {
   "cell_type": "code",
   "execution_count": 12,
   "metadata": {},
   "outputs": [
    {
     "name": "stdout",
     "output_type": "stream",
     "text": [
      "Total Documents Matching Query: 6694\n"
     ]
    }
   ],
   "source": [
    "# Try searching to see if all documents are retrievable\n",
    "results =  search_client.search(search_text=\"*\", include_total_count=True)\n",
    "\n",
    "print ('Total Documents Matching Query:', results.get_count()) # should be 6694"
   ]
  },
  {
   "cell_type": "code",
   "execution_count": 13,
   "metadata": {},
   "outputs": [
    {
     "name": "stdout",
     "output_type": "stream",
     "text": [
      "University of Mary Washington 232681\n",
      "University of Phoenix-Washington 432223\n",
      "University of Washington-Seattle Campus 236948\n",
      "University of Washington-Bothell Campus 377555\n",
      "University of Washington-Tacoma Campus 377564\n",
      "University of the Potomac-Washington DC Campus 384412\n"
     ]
    }
   ],
   "source": [
    "# search for all docs containing \"University of Washington\" in the \"INSTNM\" field\n",
    "results = search_client.search(search_text=\"University of Washington\", search_mode=\"all\", search_fields=[\"INSTNM\"])\n",
    "for result in results:\n",
    "    print(result[\"INSTNM\"], result[\"UNITID\"])"
   ]
  },
  {
   "cell_type": "code",
   "execution_count": null,
   "metadata": {},
   "outputs": [],
   "source": [
    "# After a search, if a user clicks on a particular University, we can directly get the corresponding document using the key (UNITID)\n",
    "# Here we get the document corresponding to UW Seattle's id from the previous search\n",
    "result = search_client.get_document(key='236948')\n",
    "print(result)"
   ]
  },
  {
   "cell_type": "code",
   "execution_count": 15,
   "metadata": {},
   "outputs": [],
   "source": [
    "sc.stop()"
   ]
  }
 ],
 "metadata": {
  "interpreter": {
   "hash": "6a17e3a3172cf46aaf637e4c7681713daf53374be115d411b165dfc3d728fe3c"
  },
  "kernelspec": {
   "display_name": "Python 3.7.6 ('base')",
   "language": "python",
   "name": "python3"
  },
  "language_info": {
   "codemirror_mode": {
    "name": "ipython",
    "version": 3
   },
   "file_extension": ".py",
   "mimetype": "text/x-python",
   "name": "python",
   "nbconvert_exporter": "python",
   "pygments_lexer": "ipython3",
   "version": "3.7.6"
  },
  "orig_nbformat": 4
 },
 "nbformat": 4,
 "nbformat_minor": 2
}
