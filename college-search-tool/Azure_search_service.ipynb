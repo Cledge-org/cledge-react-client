{
 "cells": [
  {
   "attachments": {},
   "cell_type": "markdown",
   "metadata": {},
   "source": [
    "References:\n",
    "\n",
    "https://github.com/Cledge-org/cledge/blob/dev/features/college_search_tool/assets/\n",
    "\n",
    "https://github.com/Cledge-org/cledge/blob/dev/features/college_search_tool/src/college_search_index_builder.ipynb"
   ]
  },
  {
   "cell_type": "code",
   "execution_count": 21,
   "metadata": {},
   "outputs": [],
   "source": [
    "from pyspark import SparkContext\n",
    "from pyspark.sql import *\n",
    "import pyspark.sql.functions as F\n",
    "from pyspark.sql.functions import col\n",
    "import json\n"
   ]
  },
  {
   "cell_type": "code",
   "execution_count": 22,
   "metadata": {},
   "outputs": [],
   "source": [
    "# Azure Imports\n",
    "from azure.core.credentials import AzureKeyCredential\n",
    "from azure.search.documents.indexes import SearchIndexClient\n",
    "from azure.search.documents import SearchClient\n",
    "from azure.search.documents.indexes.models import (\n",
    "    CorsOptions,\n",
    "    SearchIndex,\n",
    "    SearchFieldDataType,\n",
    "    SimpleField,\n",
    "    SearchableField\n",
    ")"
   ]
  },
  {
   "cell_type": "code",
   "execution_count": 23,
   "metadata": {},
   "outputs": [],
   "source": [
    "# Initialize SparkContext\n",
    "spark = SparkSession.builder.getOrCreate()\n",
    "sc = spark.sparkContext"
   ]
  },
  {
   "cell_type": "code",
   "execution_count": 24,
   "metadata": {},
   "outputs": [],
   "source": [
    "# Boilerplate code to connect to Azure Search Service\n",
    "service_name = \"college-search-tool\"\n",
    "admin_key = \"\"\n",
    "\n",
    "index_name = \"college-search-index\"\n",
    "\n",
    "# Create an SDK client\n",
    "endpoint = \"https://{}.search.windows.net/\".format(service_name)\n",
    "admin_client = SearchIndexClient(endpoint=endpoint,\n",
    "                    index_name=index_name,\n",
    "                    credential=AzureKeyCredential(admin_key))\n",
    "\n",
    "search_client = SearchClient(endpoint=endpoint,\n",
    "                    index_name=index_name,\n",
    "                    credential=AzureKeyCredential(admin_key))"
   ]
  },
  {
   "cell_type": "code",
   "execution_count": 34,
   "metadata": {},
   "outputs": [
    {
     "name": "stdout",
     "output_type": "stream",
     "text": [
      "Index college-search-index deleted\n"
     ]
    }
   ],
   "source": [
    "# Remove previous index if it exists: only run if you want to replace all the data\n",
    "try:\n",
    "    result = admin_client.delete_index(index_name)\n",
    "    print('Index {} deleted'.format(index_name))\n",
    "except Exception as ex:\n",
    "    print(ex)"
   ]
  },
  {
   "cell_type": "code",
   "execution_count": 35,
   "metadata": {},
   "outputs": [],
   "source": [
    "# import dataset\n",
    "df_filename = './data/college-search-data-v4.parquet'\n",
    "df = spark.read.load(df_filename)"
   ]
  },
  {
   "attachments": {},
   "cell_type": "markdown",
   "metadata": {},
   "source": [
    "## Start indexing"
   ]
  },
  {
   "cell_type": "code",
   "execution_count": 36,
   "metadata": {},
   "outputs": [
    {
     "name": "stdout",
     "output_type": "stream",
     "text": [
      "627\n"
     ]
    }
   ],
   "source": [
    "# build index\n",
    "\n",
    "with open('./assets/datatypes.json') as f:\n",
    "    datatypes = json.load(f)\n",
    "\n",
    "search_fields = []\n",
    "for column in df.columns:\n",
    "    datatype = datatypes[column]\n",
    "    if column == \"UNITID\":\n",
    "        field = SimpleField(name=column, type=SearchFieldDataType.String, key=True)\n",
    "        search_fields.append(field)\n",
    "        continue\n",
    "    if datatype == \"string\":\n",
    "        field = SearchableField(name=column, type=SearchFieldDataType.String, searchable=True, sortable=True, filterable=True, facetable=True)\n",
    "    elif datatype == \"integer\":\n",
    "        field = SimpleField(name=column, type=SearchFieldDataType.Int64, filterable=True, sortable=True, facetable=True)\n",
    "    elif datatype == \"float\":\n",
    "        field = SimpleField(name=column, type=SearchFieldDataType.Double, filterable=True, sortable=True, facetable=True)\n",
    "    else: # datatype == \"boolean\"\n",
    "        field = SimpleField(name=column, type=SearchFieldDataType.Boolean, filterable=True, sortable=True, facetable=True)\n",
    "    search_fields.append(field)\n",
    "\n",
    "cors_options = CorsOptions(allowed_origins=[\"*\"], max_age_in_seconds=60)\n",
    "scoring_profiles = []\n",
    "\n",
    "print(len(search_fields))"
   ]
  },
  {
   "cell_type": "code",
   "execution_count": 37,
   "metadata": {},
   "outputs": [
    {
     "name": "stdout",
     "output_type": "stream",
     "text": [
      "Index college-search-index created\n"
     ]
    }
   ],
   "source": [
    "index = SearchIndex(\n",
    "    name=index_name,\n",
    "    fields=search_fields,\n",
    "    scoring_profiles=scoring_profiles,\n",
    "    cors_options=cors_options)\n",
    "\n",
    "try:\n",
    "    result = admin_client.create_index(index)\n",
    "    print ('Index', result.name, 'created')\n",
    "except Exception as ex:\n",
    "    print (ex)"
   ]
  },
  {
   "cell_type": "code",
   "execution_count": 38,
   "metadata": {},
   "outputs": [
    {
     "name": "stdout",
     "output_type": "stream",
     "text": [
      "{'UNITID': '106908', 'INSTNM': 'Paul Mitchell the School-Little Rock', 'CITY': 'North Little Rock', 'STABBR': 'AR', 'ZIP': '72117', 'ACCREDAGENCY': 'National Accrediting Commission of Career Arts and Sciences', 'INSTURL': 'paulmitchell.edu/littlerock', 'NPCURL': 'paulmitchell.edu/littlerock/programs/cosmetology', 'SCH_DEG': 1, 'MAIN': 1, 'NUMBRANCH': 1, 'PREDDEG': 1, 'HIGHDEG': 1, 'CONTROL': 3, 'ST_FIPS': 5, 'REGION': 5, 'LOCALE': 13, 'LATITUDE': 34.789913, 'LONGITUDE': -92.2222, 'CCBASIC': -2, 'CCUGPROF': -2, 'CCSIZSET': -2, 'HBCU': 0, 'PBI': 0, 'ANNHI': 0, 'TRIBAL': 0, 'AANAPII': 0, 'HSI': 0, 'NANTI': 0, 'MENONLY': 0, 'WOMENONLY': 0, 'PCIP01': 0.0, 'PCIP03': 0.0, 'PCIP04': 0.0, 'PCIP05': 0.0, 'PCIP09': 0.0, 'PCIP10': 0.0, 'PCIP11': 0.0, 'PCIP12': 1.0, 'PCIP13': 0.0, 'PCIP14': 0.0, 'PCIP15': 0.0, 'PCIP16': 0.0, 'PCIP19': 0.0, 'PCIP22': 0.0, 'PCIP23': 0.0, 'PCIP24': 0.0, 'PCIP25': 0.0, 'PCIP26': 0.0, 'PCIP27': 0.0, 'PCIP29': 0.0, 'PCIP30': 0.0, 'PCIP31': 0.0, 'PCIP38': 0.0, 'PCIP39': 0.0, 'PCIP40': 0.0, 'PCIP41': 0.0, 'PCIP42': 0.0, 'PCIP43': 0.0, 'PCIP44': 0.0, 'PCIP45': 0.0, 'PCIP46': 0.0, 'PCIP47': 0.0, 'PCIP48': 0.0, 'PCIP49': 0.0, 'PCIP50': 0.0, 'PCIP51': 0.0, 'PCIP52': 0.0, 'PCIP54': 0.0, 'CIP01CERT1': 0, 'CIP01CERT2': 0, 'CIP01ASSOC': 0, 'CIP01CERT4': 0, 'CIP01BACHL': 0, 'CIP03CERT1': 0, 'CIP03CERT2': 0, 'CIP03ASSOC': 0, 'CIP03CERT4': 0, 'CIP03BACHL': 0, 'CIP04CERT1': 0, 'CIP04CERT2': 0, 'CIP04ASSOC': 0, 'CIP04CERT4': 0, 'CIP04BACHL': 0, 'CIP05CERT1': 0, 'CIP05CERT2': 0, 'CIP05ASSOC': 0, 'CIP05CERT4': 0, 'CIP05BACHL': 0, 'CIP09CERT1': 0, 'CIP09CERT2': 0, 'CIP09ASSOC': 0, 'CIP09CERT4': 0, 'CIP09BACHL': 0, 'CIP10CERT1': 0, 'CIP10CERT2': 0, 'CIP10ASSOC': 0, 'CIP10CERT4': 0, 'CIP10BACHL': 0, 'CIP11CERT1': 0, 'CIP11CERT2': 0, 'CIP11ASSOC': 0, 'CIP11CERT4': 0, 'CIP11BACHL': 0, 'CIP12CERT1': 1, 'CIP12CERT2': 1, 'CIP12ASSOC': 0, 'CIP12CERT4': 0, 'CIP12BACHL': 0, 'CIP13CERT1': 0, 'CIP13CERT2': 0, 'CIP13ASSOC': 0, 'CIP13CERT4': 0, 'CIP13BACHL': 0, 'CIP14CERT1': 0, 'CIP14CERT2': 0, 'CIP14ASSOC': 0, 'CIP14CERT4': 0, 'CIP14BACHL': 0, 'CIP15CERT1': 0, 'CIP15CERT2': 0, 'CIP15ASSOC': 0, 'CIP15CERT4': 0, 'CIP15BACHL': 0, 'CIP16CERT1': 0, 'CIP16CERT2': 0, 'CIP16ASSOC': 0, 'CIP16CERT4': 0, 'CIP16BACHL': 0, 'CIP19CERT1': 0, 'CIP19CERT2': 0, 'CIP19ASSOC': 0, 'CIP19CERT4': 0, 'CIP19BACHL': 0, 'CIP22CERT1': 0, 'CIP22CERT2': 0, 'CIP22ASSOC': 0, 'CIP22CERT4': 0, 'CIP22BACHL': 0, 'CIP23CERT1': 0, 'CIP23CERT2': 0, 'CIP23ASSOC': 0, 'CIP23CERT4': 0, 'CIP23BACHL': 0, 'CIP24CERT1': 0, 'CIP24CERT2': 0, 'CIP24ASSOC': 0, 'CIP24CERT4': 0, 'CIP24BACHL': 0, 'CIP25CERT1': 0, 'CIP25CERT2': 0, 'CIP25ASSOC': 0, 'CIP25CERT4': 0, 'CIP25BACHL': 0, 'CIP26CERT1': 0, 'CIP26CERT2': 0, 'CIP26ASSOC': 0, 'CIP26CERT4': 0, 'CIP26BACHL': 0, 'CIP27CERT1': 0, 'CIP27CERT2': 0, 'CIP27ASSOC': 0, 'CIP27CERT4': 0, 'CIP27BACHL': 0, 'CIP29CERT1': 0, 'CIP29CERT2': 0, 'CIP29ASSOC': 0, 'CIP29CERT4': 0, 'CIP29BACHL': 0, 'CIP30CERT1': 0, 'CIP30CERT2': 0, 'CIP30ASSOC': 0, 'CIP30CERT4': 0, 'CIP30BACHL': 0, 'CIP31CERT1': 0, 'CIP31CERT2': 0, 'CIP31ASSOC': 0, 'CIP31CERT4': 0, 'CIP31BACHL': 0, 'CIP38CERT1': 0, 'CIP38CERT2': 0, 'CIP38ASSOC': 0, 'CIP38CERT4': 0, 'CIP38BACHL': 0, 'CIP39CERT1': 0, 'CIP39CERT2': 0, 'CIP39ASSOC': 0, 'CIP39CERT4': 0, 'CIP39BACHL': 0, 'CIP40CERT1': 0, 'CIP40CERT2': 0, 'CIP40ASSOC': 0, 'CIP40CERT4': 0, 'CIP40BACHL': 0, 'CIP41CERT1': 0, 'CIP41CERT2': 0, 'CIP41ASSOC': 0, 'CIP41CERT4': 0, 'CIP41BACHL': 0, 'CIP42CERT1': 0, 'CIP42CERT2': 0, 'CIP42ASSOC': 0, 'CIP42CERT4': 0, 'CIP42BACHL': 0, 'CIP43CERT1': 0, 'CIP43CERT2': 0, 'CIP43ASSOC': 0, 'CIP43CERT4': 0, 'CIP43BACHL': 0, 'CIP44CERT1': 0, 'CIP44CERT2': 0, 'CIP44ASSOC': 0, 'CIP44CERT4': 0, 'CIP44BACHL': 0, 'CIP45CERT1': 0, 'CIP45CERT2': 0, 'CIP45ASSOC': 0, 'CIP45CERT4': 0, 'CIP45BACHL': 0, 'CIP46CERT1': 0, 'CIP46CERT2': 0, 'CIP46ASSOC': 0, 'CIP46CERT4': 0, 'CIP46BACHL': 0, 'CIP47CERT1': 0, 'CIP47CERT2': 0, 'CIP47ASSOC': 0, 'CIP47CERT4': 0, 'CIP47BACHL': 0, 'CIP48CERT1': 0, 'CIP48CERT2': 0, 'CIP48ASSOC': 0, 'CIP48CERT4': 0, 'CIP48BACHL': 0, 'CIP49CERT1': 0, 'CIP49CERT2': 0, 'CIP49ASSOC': 0, 'CIP49CERT4': 0, 'CIP49BACHL': 0, 'CIP50CERT1': 0, 'CIP50CERT2': 0, 'CIP50ASSOC': 0, 'CIP50CERT4': 0, 'CIP50BACHL': 0, 'CIP51CERT1': 0, 'CIP51CERT2': 0, 'CIP51ASSOC': 0, 'CIP51CERT4': 0, 'CIP51BACHL': 0, 'CIP52CERT1': 0, 'CIP52CERT2': 0, 'CIP52ASSOC': 0, 'CIP52CERT4': 0, 'CIP52BACHL': 0, 'CIP54CERT1': 0, 'CIP54CERT2': 0, 'CIP54ASSOC': 0, 'CIP54CERT4': 0, 'CIP54BACHL': 0, 'DISTANCEONLY': 0, 'UGDS': 359, 'UGDS_BLACK': 0.24, 'UGDS_HISP': 0.0752, 'UGDS_ASIAN': 0.0056, 'UGDS_AIAN': 0.01, 'UGDS_NHPI': 0.0028, 'UGDS_2MOR': 0.02, 'UGDS_NRA': 0.0, 'UGDS_UNKN': 0.11, 'PPTUG_EF': 0.0334, 'NPT41_PRIV': 18156, 'NPT42_PRIV': 18991, 'NPT43_PRIV': 20621, 'NPT44_PRIV': 23130, 'NPT45_PRIV': 24016, 'NPT4_048_PRIV': 18240, 'NPT4_3075_PRIV': 19806, 'NPT4_75UP_PRIV': 23622, 'NUM4_PRIV': 118, 'NUM41_PRIV': 89, 'NUM42_PRIV': 10, 'NUM43_PRIV': 10, 'NUM44_PRIV': 4, 'NUM45_PRIV': 5, 'TUITFTE': 10556, 'INEXPFTE': 4232, 'PCTPELL': 0.6461, 'C150_L4': 0.6622, 'C150_L4_POOLED': 0.6615, 'PFTFTUG1_EF': 1.0, 'C200_L4': 0.6606, 'RET_FTL4': 0.7692, 'C200_L4_POOLED': 0.6157, 'PCTFLOAN': 0.6377, 'IND_INC_PCT_LO': 0.7904762, 'DEP_INC_PCT_LO': 0.484375, 'PAR_ED_PCT_PS': 0.54320985, 'GRAD_DEBT_MDN': 12690.0, 'LO_INC_DEBT_MDN': 9833.0, 'MD_INC_DEBT_MDN': 9833.0, 'HI_INC_DEBT_MDN': 9833.0, 'FIRSTGEN_DEBT_MDN': 9833.0, 'NOTFIRSTGEN_DEBT_MDN': 9833.0, 'CUML_DEBT_P90': 16500, 'CUML_DEBT_P75': 15079, 'CUML_DEBT_P25': 6256, 'CUML_DEBT_P10': 3567, 'APPL_SCH_N': 571, 'LOAN_EVER': 0.9316988, 'PELL_EVER': 0.8283713, 'AGE_ENTRY': 24, 'FIRST_GEN': 0.45679012, 'PCT_WHITE': 64.13, 'PCT_BLACK': 32.26, 'PCT_ASIAN': 0.78, 'PCT_HISPANIC': 2.33, 'PCT_BA': 12.78, 'PCT_GRAD_PROF': 6.43, 'PCT_BORN_US': 97.0, 'MEDIAN_HH_INC': 50392, 'POVERTY_RATE': 10.64, 'UNEMP_RATE': 3.69, 'LN_MEDIAN_HH_INC': 10, 'COUNT_WNE_P10': 21, 'MD_EARN_WNE_P10': 16693, 'PCT25_EARN_WNE_P10': 6029, 'PCT75_EARN_WNE_P10': 27636, 'COUNT_WNE_INC1_P10': 16, 'PCT25_EARN_WNE_P6': 10130, 'PCT75_EARN_WNE_P6': 29944, 'COUNT_WNE_INC1_P6': 273, 'COUNT_WNE_INC2_P6': 84, 'COUNT_WNE_INC3_P6': 44, 'GT_28K_P6': 0.167, 'UGDS_MEN': 0.0585, 'UGDS_WOMEN': 0.9415, 'OPENADMP': 1, 'OPEFLAG': 1, 'CIPCODE1': '12.0499', 'CIPCODE2': '12.0402', 'CIPCODE3': '12.0413', 'CIPTITLE1': 'Cosmetology and Related Personal Grooming Arts Other', 'CIPTITLE2': 'Barbering/Barber', 'CIPTITLE3': 'Cosmetology Barber/Styling and Nail Instructor', 'FTFTPCTPELL': 0.896, 'FTFTPCTFLOAN': 0.944, 'FEDSCHCD': '031249', 'FEMALE': 0.96672505, 'ADDR': '4201 E McCain Blvd', 'GENTELE': '4059285200', 'INSTCAT': 6, 'LANDGRNT': 2, 'C18IPUG': -2, 'C18UGPRF': -2, 'C18ENPRF': -2, 'C18SZSET': -2, 'IALIAS': ' ', 'INSTSIZE': 1, 'SLO5': 0, 'ASSOC1': -2, 'SPORT1': -2, 'SPORT2': -2, 'SPORT3': -2, 'SPORT4': -2, 'CALSYS': 7, 'APPLFEEU': 100, 'FT_UG': 1, 'MISSION': 'At Paul Mitchell The School - Norman, our mission is to provide a quality educational system to prepare students to pass the state board examination and gain employment within their chosen field of study. We promote and recognize the principles of fairness, equity, inclusion, anti-racism, and social justice. Our culture is about celebrating diversity, bringing out the best in people and situations, changing lives, making a difference, giving back, healing the planet, and healing ourselves. We also provide a solid educational foundation to empower our team members in the pursuit of excellence. We strongly believe that when people come first, success will follow.', 'EFNRALT': 1, 'EFAGE07': 21, 'EFAGE08': 338, 'ENRTOT': 405, 'EFUG': 405, 'EFGRAD': 0, 'RMOUSTTP': 0.38, 'RMINSTTP': 0.56, 'RMUNKNWP': 0.06, 'PCTENRWH': 53, 'PCTENRBK': 0.24, 'PCTENRHS': 0.08, 'PCTENRAP': 0.01, 'PCTENRAN': 0.01, 'PCTENRUN': 0.11, 'PCTENRNR': 0.0, 'STUFACR': 16, 'NPT430': 19669, 'NPT440': 21570, 'NPT450': 21570, 'GRN4G11': 87, 'GRN4G21': 10, 'GRN4G31': 10, 'ANYAIDP': 0.97, 'PGRNT_P': 0.72, 'OFGRT_P': 0.78, 'FLOAN_P': 0.9, 'OLOAN_P': 0.0, 'UAGRNTP': 0.89, 'UPGRNTP': 0.76, 'UFLOANP': 0.74, 'AGRNT_A': 5470, 'WEBADDR': 'paulmitchell.edu/littlerock', 'NPRICURL': 'paulmitchell.edu/littlerock/programs/cosmetology', 'PCTENR2M': 0.02}\n"
     ]
    }
   ],
   "source": [
    "# Test converting row to JSON as needed for uploading to index\n",
    "print(json.loads(df.toJSON().first()))"
   ]
  },
  {
   "cell_type": "code",
   "execution_count": 40,
   "metadata": {},
   "outputs": [],
   "source": [
    "# Convert dataframe to list of docs\n",
    "docs = df.toJSON().collect()\n",
    "for i, doc in enumerate(docs):\n",
    "    doc = json.loads(doc)\n",
    "    doc['@search.action'] = 'upload'\n",
    "    docs[i] = doc"
   ]
  },
  {
   "cell_type": "code",
   "execution_count": 41,
   "metadata": {},
   "outputs": [
    {
     "name": "stdout",
     "output_type": "stream",
     "text": [
      "Upload of new document succeeded: True\n"
     ]
    }
   ],
   "source": [
    "# Try to upload docs\n",
    "try:\n",
    "    result = search_client.upload_documents(documents=docs)\n",
    "    print(\"Upload of new document succeeded: {}\".format(result[0].succeeded))\n",
    "except Exception as ex:\n",
    "    print (ex.message)"
   ]
  },
  {
   "cell_type": "code",
   "execution_count": 42,
   "metadata": {},
   "outputs": [
    {
     "name": "stdout",
     "output_type": "stream",
     "text": [
      "Total Documents Matching Query: 6694\n"
     ]
    }
   ],
   "source": [
    "# Try searching to see if all documents are retrievable\n",
    "results =  search_client.search(search_text=\"*\", include_total_count=True)\n",
    "\n",
    "print ('Total Documents Matching Query:', results.get_count()) # should be 6694"
   ]
  },
  {
   "cell_type": "code",
   "execution_count": 43,
   "metadata": {},
   "outputs": [
    {
     "name": "stdout",
     "output_type": "stream",
     "text": [
      "University of Mary Washington 232681\n",
      "University of Phoenix-Washington 432223\n",
      "University of Washington-Seattle Campus 236948\n",
      "University of Washington-Tacoma Campus 377564\n",
      "University of Washington-Bothell Campus 377555\n",
      "University of the Potomac-Washington DC Campus 384412\n"
     ]
    }
   ],
   "source": [
    "# search for all docs containing \"University of Washington\" in the \"INSTNM\" field\n",
    "results = search_client.search(search_text=\"University of Washington\", search_mode=\"all\", search_fields=[\"INSTNM\"])\n",
    "for result in results:\n",
    "    print(result[\"INSTNM\"], result[\"UNITID\"])"
   ]
  },
  {
   "cell_type": "code",
   "execution_count": 44,
   "metadata": {},
   "outputs": [
    {
     "name": "stdout",
     "output_type": "stream",
     "text": [
      "{'UNITID': '236948', 'INSTNM': 'University of Washington-Seattle Campus', 'CITY': 'Seattle', 'STABBR': 'WA', 'ZIP': '98195-4550', 'ACCREDAGENCY': 'Northwest Commission on Colleges and Universities', 'INSTURL': 'www.washington.edu/', 'NPCURL': 'www.washington.edu/students/osfa/prospectiveug/aid.est.1.html', 'SCH_DEG': 3, 'MAIN': 1, 'NUMBRANCH': 3, 'PREDDEG': 3, 'HIGHDEG': 4, 'CONTROL': 1, 'ST_FIPS': 53, 'REGION': 8, 'LOCALE': 11, 'LATITUDE': 47.65538, 'LONGITUDE': -122.30514, 'CCBASIC': 15, 'CCUGPROF': 14, 'CCSIZSET': 16, 'HBCU': 0, 'PBI': 0, 'ANNHI': 0, 'TRIBAL': 0, 'AANAPII': 0, 'HSI': 0, 'NANTI': 0, 'MENONLY': 0, 'WOMENONLY': 0, 'RELAFFIL': None, 'ADM_RATE_ALL': 0.5498, 'SATVR25': 600.0, 'SATVR75': 700.0, 'SATMT25': 620.0, 'SATMT75': 770.0, 'SATWR25': 530.0, 'SATWR75': 650.0, 'SATVRMID': 650.0, 'SATMTMID': 695.0, 'SATWRMID': 590.0, 'ACTCM25': 27.0, 'ACTCM75': 33.0, 'ACTEN25': 25.0, 'ACTEN75': 35.0, 'ACTMT25': 26.0, 'ACTMT75': 33.0, 'ACTWR25': 8.0, 'ACTWR75': 9.0, 'ACTCMMID': 30.0, 'ACTENMID': 30.0, 'ACTMTMID': 30.0, 'ACTWRMID': 9.0, 'SAT_AVG': 1356.0, 'SAT_AVG_ALL': 1316.0, 'PCIP01': 0.0, 'PCIP03': 0.0244, 'PCIP04': 0.017, 'PCIP05': 0.0293, 'PCIP09': 0.06, 'PCIP10': 0.0, 'PCIP11': 0.0915, 'PCIP12': 0.0, 'PCIP13': 0.0279, 'PCIP14': 0.1094, 'PCIP15': 0.0, 'PCIP16': 0.0222, 'PCIP19': 0.0, 'PCIP22': 0.011, 'PCIP23': 0.0213, 'PCIP24': 0.0016, 'PCIP25': 0.0, 'PCIP26': 0.1108, 'PCIP27': 0.0309, 'PCIP29': 0.0, 'PCIP30': 0.0265, 'PCIP31': 0.0, 'PCIP38': 0.0059, 'PCIP39': 0.0, 'PCIP40': 0.0438, 'PCIP41': 0.0, 'PCIP42': 0.0497, 'PCIP43': 0.0, 'PCIP44': 0.0042, 'PCIP45': 0.1187, 'PCIP46': 0.0, 'PCIP47': 0.0, 'PCIP48': 0.0, 'PCIP49': 0.0, 'PCIP50': 0.0336, 'PCIP51': 0.0744, 'PCIP52': 0.073, 'PCIP54': 0.0128, 'CIP01CERT1': 0, 'CIP01CERT2': 0, 'CIP01ASSOC': 0, 'CIP01CERT4': 0, 'CIP01BACHL': 1, 'CIP03CERT1': 0, 'CIP03CERT2': 0, 'CIP03ASSOC': 0, 'CIP03CERT4': 0, 'CIP03BACHL': 1, 'CIP04CERT1': 0, 'CIP04CERT2': 0, 'CIP04ASSOC': 0, 'CIP04CERT4': 0, 'CIP04BACHL': 1, 'CIP05CERT1': 0, 'CIP05CERT2': 0, 'CIP05ASSOC': 0, 'CIP05CERT4': 0, 'CIP05BACHL': 1, 'CIP09CERT1': 0, 'CIP09CERT2': 0, 'CIP09ASSOC': 0, 'CIP09CERT4': 0, 'CIP09BACHL': 1, 'CIP10CERT1': 0, 'CIP10CERT2': 0, 'CIP10ASSOC': 0, 'CIP10CERT4': 0, 'CIP10BACHL': 0, 'CIP11CERT1': 0, 'CIP11CERT2': 0, 'CIP11ASSOC': 0, 'CIP11CERT4': 0, 'CIP11BACHL': 1, 'CIP12CERT1': 0, 'CIP12CERT2': 0, 'CIP12ASSOC': 0, 'CIP12CERT4': 0, 'CIP12BACHL': 0, 'CIP13CERT1': 0, 'CIP13CERT2': 0, 'CIP13ASSOC': 0, 'CIP13CERT4': 0, 'CIP13BACHL': 2, 'CIP14CERT1': 0, 'CIP14CERT2': 0, 'CIP14ASSOC': 0, 'CIP14CERT4': 0, 'CIP14BACHL': 1, 'CIP15CERT1': 0, 'CIP15CERT2': 0, 'CIP15ASSOC': 0, 'CIP15CERT4': 0, 'CIP15BACHL': 0, 'CIP16CERT1': 0, 'CIP16CERT2': 0, 'CIP16ASSOC': 0, 'CIP16CERT4': 0, 'CIP16BACHL': 1, 'CIP19CERT1': 0, 'CIP19CERT2': 0, 'CIP19ASSOC': 0, 'CIP19CERT4': 0, 'CIP19BACHL': 1, 'CIP22CERT1': 0, 'CIP22CERT2': 0, 'CIP22ASSOC': 0, 'CIP22CERT4': 0, 'CIP22BACHL': 1, 'CIP23CERT1': 0, 'CIP23CERT2': 0, 'CIP23ASSOC': 0, 'CIP23CERT4': 0, 'CIP23BACHL': 1, 'CIP24CERT1': 0, 'CIP24CERT2': 0, 'CIP24ASSOC': 0, 'CIP24CERT4': 0, 'CIP24BACHL': 1, 'CIP25CERT1': 0, 'CIP25CERT2': 0, 'CIP25ASSOC': 0, 'CIP25CERT4': 0, 'CIP25BACHL': 1, 'CIP26CERT1': 0, 'CIP26CERT2': 0, 'CIP26ASSOC': 0, 'CIP26CERT4': 0, 'CIP26BACHL': 1, 'CIP27CERT1': 0, 'CIP27CERT2': 0, 'CIP27ASSOC': 0, 'CIP27CERT4': 0, 'CIP27BACHL': 1, 'CIP29CERT1': 0, 'CIP29CERT2': 0, 'CIP29ASSOC': 0, 'CIP29CERT4': 0, 'CIP29BACHL': 0, 'CIP30CERT1': 0, 'CIP30CERT2': 0, 'CIP30ASSOC': 0, 'CIP30CERT4': 0, 'CIP30BACHL': 1, 'CIP31CERT1': 0, 'CIP31CERT2': 0, 'CIP31ASSOC': 0, 'CIP31CERT4': 0, 'CIP31BACHL': 1, 'CIP38CERT1': 0, 'CIP38CERT2': 0, 'CIP38ASSOC': 0, 'CIP38CERT4': 0, 'CIP38BACHL': 1, 'CIP39CERT1': 0, 'CIP39CERT2': 0, 'CIP39ASSOC': 0, 'CIP39CERT4': 0, 'CIP39BACHL': 0, 'CIP40CERT1': 0, 'CIP40CERT2': 0, 'CIP40ASSOC': 0, 'CIP40CERT4': 0, 'CIP40BACHL': 1, 'CIP41CERT1': 0, 'CIP41CERT2': 0, 'CIP41ASSOC': 0, 'CIP41CERT4': 0, 'CIP41BACHL': 0, 'CIP42CERT1': 0, 'CIP42CERT2': 0, 'CIP42ASSOC': 0, 'CIP42CERT4': 0, 'CIP42BACHL': 1, 'CIP43CERT1': 0, 'CIP43CERT2': 0, 'CIP43ASSOC': 0, 'CIP43CERT4': 0, 'CIP43BACHL': 1, 'CIP44CERT1': 0, 'CIP44CERT2': 0, 'CIP44ASSOC': 0, 'CIP44CERT4': 0, 'CIP44BACHL': 1, 'CIP45CERT1': 0, 'CIP45CERT2': 0, 'CIP45ASSOC': 0, 'CIP45CERT4': 0, 'CIP45BACHL': 2, 'CIP46CERT1': 0, 'CIP46CERT2': 0, 'CIP46ASSOC': 0, 'CIP46CERT4': 0, 'CIP46BACHL': 0, 'CIP47CERT1': 0, 'CIP47CERT2': 0, 'CIP47ASSOC': 0, 'CIP47CERT4': 0, 'CIP47BACHL': 0, 'CIP48CERT1': 0, 'CIP48CERT2': 0, 'CIP48ASSOC': 0, 'CIP48CERT4': 0, 'CIP48BACHL': 0, 'CIP49CERT1': 0, 'CIP49CERT2': 0, 'CIP49ASSOC': 0, 'CIP49CERT4': 0, 'CIP49BACHL': 0, 'CIP50CERT1': 0, 'CIP50CERT2': 0, 'CIP50ASSOC': 0, 'CIP50CERT4': 0, 'CIP50BACHL': 1, 'CIP51CERT1': 0, 'CIP51CERT2': 0, 'CIP51ASSOC': 0, 'CIP51CERT4': 0, 'CIP51BACHL': 1, 'CIP52CERT1': 0, 'CIP52CERT2': 0, 'CIP52ASSOC': 0, 'CIP52CERT4': 0, 'CIP52BACHL': 1, 'CIP54CERT1': 0, 'CIP54CERT2': 0, 'CIP54ASSOC': 0, 'CIP54CERT4': 0, 'CIP54BACHL': 1, 'DISTANCEONLY': 0, 'UGDS': 30839, 'UGDS_WHITE': None, 'UGDS_BLACK': 0.03, 'UGDS_HISP': 0.0892, 'UGDS_ASIAN': 0.2575, 'UGDS_AIAN': 0.0, 'UGDS_NHPI': 0.0045, 'UGDS_2MOR': 0.07, 'UGDS_NRA': 0.16, 'UGDS_UNKN': 0.03, 'PPTUG_EF': 0.0571, 'NPT41_PUB': 7850, 'NPT42_PUB': 7467, 'NPT43_PUB': 9694, 'NPT44_PUB': 18110, 'NPT45_PUB': 24879, 'NPT41_PRIV': None, 'NPT42_PRIV': None, 'NPT43_PRIV': None, 'NPT44_PRIV': None, 'NPT45_PRIV': None, 'NPT4_048_PUB': 7677, 'NPT4_048_PRIV': None, 'NPT4_3075_PUB': 8539, 'NPT4_3075_PRIV': None, 'NPT4_75UP_PUB': 22269, 'NPT4_75UP_PRIV': None, 'NUM4_PUB': 2045, 'NUM4_PRIV': None, 'NUM42_PUB': 418, 'NUM43_PUB': 388, 'NUM44_PUB': 283, 'NUM45_PUB': 451, 'NUM41_PRIV': None, 'NUM42_PRIV': None, 'NUM43_PRIV': None, 'NUM44_PRIV': None, 'NUM45_PRIV': None, 'TUITIONFEE_IN': 11465, 'TUITIONFEE_OUT': 38166, 'TUITFTE': 18611, 'INEXPFTE': 28182, 'AVGFACSAL': 13362, 'PFTFAC': 0.7969, 'PCTPELL': 0.2071, 'C150_4': 0.8423, 'C150_L4': None, 'C150_4_POOLED': 0.8419, 'C150_L4_POOLED': None, 'PFTFTUG1_EF': 0.8136, 'C150_4_WHITE': 0.8472, 'C150_4_BLACK': 0.7541, 'C150_4_HISP': 0.7849, 'C150_4_ASIAN': 0.8664, 'C150_4_AIAN': 0.6667, 'C150_4_NHPI': 0.8333, 'C150_4_2MOR': 0.828, 'C150_4_NRA': 0.8374, 'C150_4_UNKN': 0.898, 'C150_L4_WHITE': None, 'C150_L4_BLACK': None, 'C150_L4_HISP': None, 'C150_L4_ASIAN': None, 'C150_L4_AIAN': None, 'C150_L4_NHPI': None, 'C150_L4_2MOR': None, 'C150_L4_NRA': None, 'C150_L4_UNKN': None, 'C200_4': 0.8625, 'C200_L4': None, 'RET_FT4': 0.9485, 'RET_FTL4': None, 'C200_4_POOLED': 0.8602, 'C200_L4_POOLED': None, 'PCTFLOAN': 0.244, 'IND_INC_PCT_LO': 0.70647985, 'DEP_INC_PCT_LO': 0.28561133, 'PAR_ED_PCT_PS': 0.67272544, 'GRAD_DEBT_MDN': 15000.0, 'LO_INC_DEBT_MDN': 12500.0, 'MD_INC_DEBT_MDN': 12041.0, 'HI_INC_DEBT_MDN': 13273.0, 'FIRSTGEN_DEBT_MDN': 12500.0, 'NOTFIRSTGEN_DEBT_MDN': 13000.0, 'CUML_DEBT_P90': 28000, 'CUML_DEBT_P75': 21566, 'CUML_DEBT_P25': 6037, 'CUML_DEBT_P10': 3122, 'APPL_SCH_N': 11181, 'LOAN_EVER': 0.71335304, 'PELL_EVER': 0.62704587, 'AGE_ENTRY': 22, 'VETERAN': 0.003040873, 'FIRST_GEN': 0.32727453, 'PCT_WHITE': 77.99, 'PCT_BLACK': 4.47, 'PCT_ASIAN': 8.6, 'PCT_HISPANIC': 6.61, 'PCT_BA': 22.13, 'PCT_GRAD_PROF': 11.73, 'PCT_BORN_US': 85.64, 'MEDIAN_HH_INC': 69752, 'POVERTY_RATE': 6.57, 'UNEMP_RATE': 3.62, 'LN_MEDIAN_HH_INC': 11, 'COUNT_NWNE_P10': 713, 'COUNT_WNE_P10': 8048, 'MN_EARN_WNE_P10': 69600, 'MD_EARN_WNE_P10': 68925, 'PCT10_EARN_WNE_P10': 16200, 'PCT25_EARN_WNE_P10': 44756, 'PCT75_EARN_WNE_P10': 102236, 'PCT90_EARN_WNE_P10': 110400, 'COUNT_WNE_INC1_P10': 3229, 'COUNT_WNE_INC2_P10': 2634, 'COUNT_WNE_INC3_P10': 2187, 'COUNT_WNE_INDEP0_INC1_P10': 1010, 'GT_25K_P10': 0.838, 'GT_28K_P10': 0.832, 'MN_EARN_WNE_INC1_P10': 74900, 'MN_EARN_WNE_INC2_P10': 65400, 'MN_EARN_WNE_INC3_P10': 66800, 'MN_EARN_WNE_INDEP0_INC1_P10': 57900, 'MN_EARN_WNE_INDEP0_P10': 63500, 'MN_EARN_WNE_INDEP1_P10': 80600, 'MN_EARN_WNE_MALE0_P10': 61200, 'MN_EARN_WNE_MALE1_P10': 79500, 'PCT10_EARN_WNE_P6': 11200, 'PCT25_EARN_WNE_P6': 36399, 'PCT75_EARN_WNE_P6': 82185, 'PCT90_EARN_WNE_P6': 86600, 'COUNT_WNE_INC1_P6': 3523, 'COUNT_WNE_INC2_P6': 2542, 'COUNT_WNE_INC3_P6': 2265, 'GT_25K_P6': 0.771, 'GT_28K_P6': 0.755, 'MN_EARN_WNE_INC1_P6': 50000.0, 'MN_EARN_WNE_INC2_P6': 50800.0, 'MN_EARN_WNE_INC3_P6': 50100.0, 'MN_EARN_WNE_INDEP0_INC1_P6': 43000.0, 'UGDS_MEN': 0.4573, 'UGDS_WOMEN': 0.5427, 'OPENADMP': 2, 'OPEFLAG': 1, 'CIPCODE1': None, 'CIPCODE2': None, 'CIPCODE3': None, 'CIPCODE4': None, 'CIPCODE5': None, 'CIPCODE6': None, 'CIPTITLE1': None, 'CIPTITLE2': None, 'CIPTITLE3': None, 'CIPTITLE4': None, 'CIPTITLE5': None, 'CIPTITLE6': None, 'FTFTPCTPELL': 0.1977, 'FTFTPCTFLOAN': 0.2391, 'FEDSCHCD': '003798', 'ADM_RATE': 0.5176, 'FEMALE': 0.57463557, 'ADDR': '1400 NE Campus Parkway', 'GENTELE': '2065432100', 'INSTCAT': 2, 'LANDGRNT': 2, 'C18IPUG': 11, 'C18UGPRF': 14, 'C18ENPRF': 5, 'C18SZSET': 16, 'IALIAS': 'UW-Seattle, UDub, UW, Washington', 'INSTSIZE': 5, 'SLO5': 1, 'ASSOC1': 1, 'SPORT1': 1, 'SPORT2': 1, 'SPORT3': 1, 'SPORT4': 1, 'CALSYS': 2, 'APPLFEEU': 80, 'FT_UG': 1, 'RMBRDAMT': 13887, 'ADMCON1': 1, 'ADMCON2': 3, 'ADMCON3': 1, 'ADMCON4': 1, 'ADMCON5': 3, 'ADMCON6': 3, 'ADMCON7': 1, 'SATPCT': 0.81, 'ACTPCT': 0.28, 'ENRLM': 3033, 'ENRLW': 3994, 'DVADM02': 0.5, 'DVADM03': 0.61, 'DVADM08': 0.29, 'DVADM09': 0.28, 'DVADM04': 0.29, 'MISSION': None, 'CINSON': 29319, 'COTSON': 56688, 'CINSOFF': 29319, 'COTSOFF': 56688, 'TUFEYR3': 11745, 'TUITION2': 10629, 'TUITION3': 37998, 'EFNRALT': 4724, 'EFAGE07': 14645, 'EFAGE08': 17401, 'ENRTOT': 48149, 'EFUG': 32244, 'EFGRAD': 15905, 'RMOUSTTP': 0.21, 'RMINSTTP': 0.64, 'RMUNKNWP': 0.0, 'PCTENRWH': 40, 'PCTENRBK': 0.03, 'PCTENRHS': 0.08, 'PCTENRAP': 0.22, 'PCTENRAN': 0.0, 'PCTENRUN': 0.03, 'PCTENRNR': 0.16, 'STUFACR': 20, 'SAINSTT': 2051, 'SAINSTW': 947, 'SAINSTM': 1104, 'SANIN02': 1289, 'F2C01': None, 'F2C02': None, 'F2C03': None, 'F2C04': None, 'F2C07': None, 'F2E081': None, 'F1STSVFT': 1190, 'F1ACSPFT': 9908, 'F1OTEXFT': 3054, 'GIS4OF1': 403, 'GIS4A41': 8139, 'GIS4T51': 617776, 'NPT430': None, 'NPT440': None, 'NPT450': None, 'GRN4G11': None, 'GRN4G21': None, 'GRN4G31': None, 'GIS4A12': 21631, 'GIS4A22': 20426, 'GIS4A32': 18432, 'GIS4A42': 9931, 'GIS4A52': 1561, 'NPIST2': 9661, 'BAGR100': 0.66, 'BAGR150': 0.83, 'NRCMOBA': 0, 'NRCMTOT': 3542, 'SCFA2': 32046, 'ANYAIDP': 0.56, 'PGRNT_P': 0.2, 'OFGRT_P': 0.26, 'FLOAN_P': 0.2, 'OLOAN_P': 0.01, 'UAGRNTP': 0.48, 'UPGRNTP': 0.2, 'UFLOANP': 0.22, 'AGRNT_A': 15450, 'TARGET_TIER': 4, 'SAFETY_TIER': 6, 'WEBADDR': 'www.washington.edu/', 'NPRICURL': 'www.washington.edu/students/osfa/prospectiveug/aid.est.1.html', 'PCTENR2M': 0.07, 'APPLCN': 43778, 'NationalUniversities': 55, 'StudyAbroad': None, 'LearningCommunities': None, 'UndergraduateResearchCreativeProjects': None, 'ServiceLearning': None, 'FirstYearExperiences': None, 'SeniorCapstone': None, 'BestUndergraduateTeaching': None, 'TopPerformersonSocialMobility': 228, 'RegionalCollegesSouth': None, 'TopPublicSchools': 19, 'RegionalUniversitiesWest': None, 'BestValueSchools': 181, 'RegionalCollegesMidwest': None, 'MostInnovativeSchools': None, 'NationalLiberalArtsColleges': None, 'WritingintheDisciplines': None, 'CoopsInternships': None, 'HistoricallyBlackCollegesandUniversities': None, 'RegionalCollegesWest': None, 'RegionalUniversitiesSouth': None, 'RegionalUniversitiesNorth': None, 'BestCollegesforVeterans': 27, 'RegionalUniversitiesMidwest': None, 'RegionalCollegesNorth': None, 'TribalSchools': None, 'BestUndergraduateEngineeringPrograms': 22, 'ArtsSchools': None, 'FaithrelatedSchools': None, 'BusinessSchools': None, 'MiscellaneousSchools': None, 'EngineeringTechnologySchools': None, 'OtherSchools': None, 'HealthProfessionsSchools': None, 'Nursing': 5, 'InternationalBusiness': None, 'Analytics': None, 'ManagementInformationSystems': None, 'ProductionOperationManagement': None, 'SupplyChainManagementLogistics': None, 'Entrepreneurship': None, 'Accounting': None, 'Finance': None, 'Civil': None, 'Computer': None, 'ElectricalElectronicCommunications': None, 'Mechanical': None, 'AerospaceAeronauticalAstronautical': None, 'Chemical': None, 'Materials': None, 'ComputerScience': 9, 'ArtificialIntelligence': 5, 'Theory': 12, 'EnvironmentalEnvironmentalHealth': None, 'BusinessPrograms': None, 'QuantitativeAnalysis': None, 'BiocomputingBioinformaticsBiotechnology': None, 'ComputerSystems': 7, 'Cybersecurity': 11, 'DataAnalyticsScience': 4, 'GameSimulationDevelopment': None, 'MobileWebApplications': 3, 'ProgrammingLanguages': 7, 'SoftwareEngineering': 7, 'BiologicalAgricultural': None, 'IndustrialManufacturing': None, 'Management': None, 'RealEstate': None, 'Biomedical': None, 'Insurance': None, 'Marketing': None, 'Petroleum': None}\n"
     ]
    }
   ],
   "source": [
    "# After a search, if a user clicks on a particular University, we can directly get the corresponding document using the key (UNITID)\n",
    "# Here we get the document corresponding to UW Seattle's id from the previous search\n",
    "result = search_client.get_document(key='236948')\n",
    "print(result)"
   ]
  },
  {
   "cell_type": "code",
   "execution_count": 45,
   "metadata": {},
   "outputs": [],
   "source": [
    "sc.stop()"
   ]
  }
 ],
 "metadata": {
  "interpreter": {
   "hash": "6a17e3a3172cf46aaf637e4c7681713daf53374be115d411b165dfc3d728fe3c"
  },
  "kernelspec": {
   "display_name": "Python 3.7.6 ('base')",
   "language": "python",
   "name": "python3"
  },
  "language_info": {
   "codemirror_mode": {
    "name": "ipython",
    "version": 3
   },
   "file_extension": ".py",
   "mimetype": "text/x-python",
   "name": "python",
   "nbconvert_exporter": "python",
   "pygments_lexer": "ipython3",
   "version": "3.7.6"
  },
  "orig_nbformat": 4
 },
 "nbformat": 4,
 "nbformat_minor": 2
}
