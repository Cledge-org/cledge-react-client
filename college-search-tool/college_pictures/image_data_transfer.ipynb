{
 "cells": [
  {
   "cell_type": "code",
   "execution_count": 4,
   "metadata": {},
   "outputs": [],
   "source": [
    "# https://github.com/Azure-Samples/azure-cosmos-db-mongodb-python-getting-started/blob/main/run.py\n",
    "\n",
    "import pymongo\n",
    "import json"
   ]
  },
  {
   "cell_type": "code",
   "execution_count": 3,
   "metadata": {},
   "outputs": [],
   "source": [
    "uri = \"\" # in cledge-db resource, then click Quick Start.\n",
    "client = pymongo.MongoClient(uri)"
   ]
  },
  {
   "cell_type": "code",
   "execution_count": 12,
   "metadata": {},
   "outputs": [],
   "source": [
    "db = client[\"images\"]\n",
    "collection = db[\"college_images\"]"
   ]
  },
  {
   "cell_type": "code",
   "execution_count": 6,
   "metadata": {},
   "outputs": [],
   "source": [
    "IMAGE_DATA_FILE = './college_picture_urls.json'"
   ]
  },
  {
   "cell_type": "markdown",
   "metadata": {},
   "source": [
    "## Import images data into Azure Cosmos DB"
   ]
  },
  {
   "cell_type": "code",
   "execution_count": 7,
   "metadata": {},
   "outputs": [],
   "source": [
    "# import college data file\n",
    "with open(IMAGE_DATA_FILE) as f:\n",
    "    pic_data = json.load(f)"
   ]
  },
  {
   "cell_type": "code",
   "execution_count": 26,
   "metadata": {},
   "outputs": [],
   "source": [
    "for key, value in pic_data.items():\n",
    "    cur_college = {}\n",
    "    cur_college[\"INSTID\"] = key\n",
    "    for single_key, single_value in value.items():\n",
    "        cur_college[single_key] = single_value\n",
    "    collection.insert_one(cur_college)"
   ]
  },
  {
   "cell_type": "code",
   "execution_count": 27,
   "metadata": {},
   "outputs": [
    {
     "data": {
      "text/plain": [
       "{'_id': ObjectId('62bb9bf6792749895df7acb0'),\n",
       " 'INSTID': '100654',\n",
       " 'college_name': 'Alabama A M University',\n",
       " 'img_title': '',\n",
       " 'img_wiki_link': 'https://commons.wikimedia.org/wiki/File:AAMU_James_H._Wilson_Hall_Dec10_01.jpg',\n",
       " 'img_link': 'https://upload.wikimedia.org/wikipedia/commons/d/d8/AAMU_James_H._Wilson_Hall_Dec10_01.jpg',\n",
       " 'img_description': 'English: James H. Wilson Hall, home of the State Black Archives, on the campus of Alabama A&M University.'}"
      ]
     },
     "execution_count": 27,
     "metadata": {},
     "output_type": "execute_result"
    }
   ],
   "source": [
    "result = collection.find({\"INSTID\": \"100654\"})\n",
    "result[0]"
   ]
  },
  {
   "cell_type": "markdown",
   "metadata": {},
   "source": [
    "## Check Empty Value Counts"
   ]
  },
  {
   "cell_type": "code",
   "execution_count": 32,
   "metadata": {},
   "outputs": [],
   "source": [
    "null_counts = {\n",
    "    \"img_title\": 0,\n",
    "    \"img_wiki_link\": 0,\n",
    "    \"img_link\": 0,\n",
    "    \"img_description\": 0,\n",
    "    \"college_name\": 0\n",
    "}\n",
    "\n",
    "for key, value in pic_data.items():\n",
    "    for single_key, single_value in value.items():\n",
    "        if (single_value is None or single_value == \"\"):\n",
    "            null_counts[single_key] += 1\n",
    "\n",
    "with open(\"./null_counts_images.json\", \"w\") as f:\n",
    "    f.write(json.dumps(null_counts, indent=4))"
   ]
  },
  {
   "cell_type": "code",
   "execution_count": 30,
   "metadata": {},
   "outputs": [
    {
     "name": "stdout",
     "output_type": "stream",
     "text": [
      "{'img_title': 4872, 'img_wiki_link': 1470, 'img_link': 1259, 'img_description': 2543, 'college_name': 1}\n"
     ]
    }
   ],
   "source": [
    "print(null_counts)"
   ]
  }
 ],
 "metadata": {
  "interpreter": {
   "hash": "6a17e3a3172cf46aaf637e4c7681713daf53374be115d411b165dfc3d728fe3c"
  },
  "kernelspec": {
   "display_name": "Python 3.7.6",
   "language": "python",
   "name": "python3"
  },
  "language_info": {
   "codemirror_mode": {
    "name": "ipython",
    "version": 3
   },
   "file_extension": ".py",
   "mimetype": "text/x-python",
   "name": "python",
   "nbconvert_exporter": "python",
   "pygments_lexer": "ipython3",
   "version": "3.7.6"
  },
  "orig_nbformat": 4
 },
 "nbformat": 4,
 "nbformat_minor": 2
}
