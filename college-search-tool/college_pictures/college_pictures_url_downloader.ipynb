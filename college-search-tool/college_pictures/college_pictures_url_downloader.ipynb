{
 "cells": [
  {
   "cell_type": "code",
   "execution_count": null,
   "metadata": {},
   "outputs": [],
   "source": [
    "# reference:\n",
    "# https://github.com/Cledge-org/cledge/blob/dev/features/college_search_tool/college_picture_scraper/src/college_picture_downloader.ipynb"
   ]
  },
  {
   "cell_type": "code",
   "execution_count": null,
   "metadata": {},
   "outputs": [],
   "source": [
    "# WE WILL NOT BE USING THIS PROBABLY - WE WILL EMBED IMAGES USING LINKS INSTEAD\n",
    "# Imports\n",
    "import os\n",
    "import json\n",
    "import io\n",
    "import requests\n",
    "import PIL.Image"
   ]
  }
 ],
 "metadata": {
  "language_info": {
   "name": "python"
  },
  "orig_nbformat": 4
 },
 "nbformat": 4,
 "nbformat_minor": 2
}
