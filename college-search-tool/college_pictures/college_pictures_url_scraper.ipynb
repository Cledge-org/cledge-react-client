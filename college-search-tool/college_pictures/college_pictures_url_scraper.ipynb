{
 "cells": [
  {
   "cell_type": "code",
   "execution_count": 1,
   "metadata": {},
   "outputs": [],
   "source": [
    "# references:\n",
    "# https://github.com/Cledge-org/cledge/blob/dev/features/college_search_tool/college_picture_scraper/src/college_picture_url_scraper.ipynb\n",
    "\n",
    "import time\n",
    "import json\n",
    "\n",
    "from pyspark.sql import *\n",
    "from selenium import webdriver"
   ]
  },
  {
   "cell_type": "code",
   "execution_count": 2,
   "metadata": {},
   "outputs": [],
   "source": [
    "# Variables\n",
    "DRIVER_PATH = './driver/chromedriver'\n",
    "DATA_PATH = '../data/college-search-data-v2.parquet'\n",
    "TARGET_FILE = './college_picture_urls.json'"
   ]
  },
  {
   "cell_type": "code",
   "execution_count": 3,
   "metadata": {},
   "outputs": [],
   "source": [
    "# Initialize SparkContext\n",
    "spark = SparkSession.builder.getOrCreate()\n",
    "sc = spark.sparkContext"
   ]
  },
  {
   "cell_type": "code",
   "execution_count": 4,
   "metadata": {},
   "outputs": [],
   "source": [
    "# Load data\n",
    "df = spark.read.load(DATA_PATH)"
   ]
  },
  {
   "cell_type": "code",
   "execution_count": 5,
   "metadata": {},
   "outputs": [],
   "source": [
    "# Collect list of college names\n",
    "colleges = {}\n",
    "for row in df.select([\"UNITID\", \"INSTNM\"]).collect():\n",
    "    colleges[row.UNITID] = ' '.join(c for c in row.INSTNM.replace('-', ' ').split() if c.isalnum())"
   ]
  },
  {
   "cell_type": "code",
   "execution_count": 19,
   "metadata": {},
   "outputs": [],
   "source": [
    "def fetch_image_data(college_name_str, wd, sleep=2.5):\n",
    "    # search limit to wikipedia and wikimedia along with creative commons restriction\n",
    "    search_url = \"https://www.google.com/search?safe=off&site=&tbm=isch&tbs=il:cl&source=hp&q=site:wikipedia.org, commons.wikimedia.org {q}&oq=site:wikipedia.org, commons.wikimedia.org {q}&gs_l=img\"\n",
    "    college_name_url_str = college_name_str.lower()\n",
    "    if 'campus' in college_name_url_str:\n",
    "        query_str = college_name_url_str\n",
    "    else:\n",
    "        query_str = '{} campus'.format(college_name_url_str)\n",
    "    wd.get(search_url.format(q=query_str))\n",
    "    thumbnail_results = wd.find_elements_by_css_selector(\"img.Q4LuWd\")\n",
    "\n",
    "    result_obj = {\n",
    "        'college_name': college_name_str,\n",
    "        'img_title': None,\n",
    "        'img_wiki_link': None,\n",
    "        'img_link': None,\n",
    "        'img_description': None\n",
    "    }\n",
    "\n",
    "    for res in thumbnail_results:\n",
    "        try:\n",
    "            res.click()\n",
    "        except Exception:\n",
    "            continue\n",
    "\n",
    "        time.sleep(sleep)\n",
    "\n",
    "        try:\n",
    "            imgs = wd.find_elements_by_css_selector('img.n3VNCb') # finds actual image link\n",
    "            for img_element in imgs:\n",
    "                src = img_element.get_attribute('src')\n",
    "                if src and src.startswith('http'):\n",
    "                    result_obj['img_link'] = src\n",
    "                    break\n",
    "            if not result_obj['img_link']:\n",
    "                continue\n",
    "        except Exception:\n",
    "            result_obj['img_link'] = None\n",
    "            continue\n",
    "        #print(result_obj['img_link'])\n",
    "        try:\n",
    "            img_title_element = wd.find_element_by_css_selector('h1.eYbsle') # get image title\n",
    "            print(img_title_element)\n",
    "            result_obj['img_title'] = img_title_element.text\n",
    "        except Exception:\n",
    "            result_obj['img_title'] = None # Problem\n",
    "            continue\n",
    "        print(result_obj['img_title'])\n",
    "        try:\n",
    "            links = wd.find_elements_by_css_selector('a.zSA7pe')\n",
    "            for link_element in links:\n",
    "                if 'wiki' in link_element.text.lower():\n",
    "                    result_obj['img_wiki_link'] = link_element.get_attribute('href')\n",
    "                    wd.execute_script('''window.open(\"{}\",\"_blank\");'''.format(result_obj['img_wiki_link']))\n",
    "                    wd.switch_to_window(wd.window_handles[1])\n",
    "                    try:\n",
    "                        desc_element = wd.find_element_by_css_selector('div.description.mw-content-ltr.en')\n",
    "                    except Exception:\n",
    "                        try:\n",
    "                            desc_element = wd.find_element_by_css_selector('td.description')\n",
    "                        except Exception:\n",
    "                            try:\n",
    "                                desc_element = wd.find_element_by_css_selector('div.description.mw-content-ltr.en a.extiw')\n",
    "                            except Exception:\n",
    "                                desc_element = None\n",
    "                    if desc_element:\n",
    "                        result_obj['img_description'] = desc_element.text\n",
    "                    else:\n",
    "                        result_obj['img_description'] = None\n",
    "                    break\n",
    "        except Exception:\n",
    "            result_obj['img_wiki_link'] = None\n",
    "            result_obj['img_description'] = None\n",
    "        break\n",
    "\n",
    "    return result_obj"
   ]
  },
  {
   "cell_type": "code",
   "execution_count": 20,
   "metadata": {},
   "outputs": [
    {
     "name": "stderr",
     "output_type": "stream",
     "text": [
      "/Users/minzhou/opt/anaconda3/lib/python3.7/site-packages/ipykernel_launcher.py:2: DeprecationWarning: executable_path has been deprecated, please pass in a Service object\n",
      "  \n",
      "/Users/minzhou/opt/anaconda3/lib/python3.7/site-packages/ipykernel_launcher.py:10: DeprecationWarning: find_elements_by_css_selector is deprecated. Please use find_elements(by=By.CSS_SELECTOR, value=css_selector) instead\n",
      "  # Remove the CWD from sys.path while we load stuff.\n",
      "/Users/minzhou/opt/anaconda3/lib/python3.7/site-packages/ipykernel_launcher.py:29: DeprecationWarning: find_elements_by_css_selector is deprecated. Please use find_elements(by=By.CSS_SELECTOR, value=css_selector) instead\n",
      "/Users/minzhou/opt/anaconda3/lib/python3.7/site-packages/ipykernel_launcher.py:42: DeprecationWarning: find_element_by_css_selector is deprecated. Please use find_element(by=By.CSS_SELECTOR, value=css_selector) instead\n",
      "/Users/minzhou/opt/anaconda3/lib/python3.7/site-packages/ipykernel_launcher.py:50: DeprecationWarning: find_elements_by_css_selector is deprecated. Please use find_elements(by=By.CSS_SELECTOR, value=css_selector) instead\n"
     ]
    },
    {
     "name": "stdout",
     "output_type": "stream",
     "text": [
      "<selenium.webdriver.remote.webelement.WebElement (session=\"56620cccc2bddec4b712708fae27cdc2\", element=\"7189829b-465c-43ff-bf0b-478a3c080858\")>\n",
      "File:University of Washington .jpg - Wikimedia Commons\n",
      "{'college_name': 'University of Washington Seattle Campus', 'img_title': 'File:University of Washington .jpg - Wikimedia Commons', 'img_wiki_link': None, 'img_link': 'https://upload.wikimedia.org/wikipedia/commons/b/b0/University_of_Washington_.jpg', 'img_description': None}\n"
     ]
    }
   ],
   "source": [
    "# Testing code block\n",
    "wd = webdriver.Chrome(executable_path=DRIVER_PATH)\n",
    "print(fetch_image_data('University of Washington Seattle Campus', wd))\n",
    "wd.quit()"
   ]
  },
  {
   "cell_type": "code",
   "execution_count": null,
   "metadata": {},
   "outputs": [],
   "source": [
    "with open(TARGET_FILE) as f:\n",
    "    pic_urls = json.load(f)"
   ]
  },
  {
   "cell_type": "code",
   "execution_count": null,
   "metadata": {},
   "outputs": [],
   "source": [
    "wd = webdriver.Chrome(executable_path=DRIVER_PATH)\n",
    "for UNITID, INSTNM in colleges.items():\n",
    "    if UNITID in pic_urls:\n",
    "        continue\n",
    "    pic_urls[UNITID] = fetch_image_data(INSTNM, wd)\n",
    "    with open(TARGET_FILE, 'w') as f:\n",
    "        json.dump(pic_urls, f)\n",
    "wd.quit()"
   ]
  }
 ],
 "metadata": {
  "interpreter": {
   "hash": "6a17e3a3172cf46aaf637e4c7681713daf53374be115d411b165dfc3d728fe3c"
  },
  "kernelspec": {
   "display_name": "Python 3.7.6 ('base')",
   "language": "python",
   "name": "python3"
  },
  "language_info": {
   "codemirror_mode": {
    "name": "ipython",
    "version": 3
   },
   "file_extension": ".py",
   "mimetype": "text/x-python",
   "name": "python",
   "nbconvert_exporter": "python",
   "pygments_lexer": "ipython3",
   "version": "3.7.6"
  },
  "orig_nbformat": 4
 },
 "nbformat": 4,
 "nbformat_minor": 2
}
