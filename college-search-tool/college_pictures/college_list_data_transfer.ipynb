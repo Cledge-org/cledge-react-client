{
 "cells": [
  {
   "cell_type": "code",
   "execution_count": 1,
   "metadata": {},
   "outputs": [],
   "source": [
    "import pymongo\n",
    "import json\n",
    "from pyspark.sql import *"
   ]
  },
  {
   "cell_type": "code",
   "execution_count": 2,
   "metadata": {},
   "outputs": [],
   "source": [
    "DATA_PATH = '../data/college-search-data-v3.parquet'\n",
    "IMAGE_DATA_FILE = './college_picture_urls.json'"
   ]
  },
  {
   "cell_type": "code",
   "execution_count": 3,
   "metadata": {},
   "outputs": [],
   "source": [
    "uri = \"mongodb://cledge-db:Tc7PYDfYtB1jBrPfBDPYSNLhlovMKU6AatyKbWPAE75IFy1tLEsczdULMYfaoiFu5bH9qbna704PQCdHBKT8YQ==@cledge-db.mongo.cosmos.azure.com:10255/?ssl=true&retrywrites=false&replicaSet=globaldb&maxIdleTimeMS=120000&appName=@cledge-db@\" # in cledge-db resource, then click Quick Start.\n",
    "client = pymongo.MongoClient(uri)"
   ]
  },
  {
   "cell_type": "code",
   "execution_count": 4,
   "metadata": {},
   "outputs": [],
   "source": [
    "db = client[\"colleges\"]\n",
    "collection = db[\"colleges\"]"
   ]
  },
  {
   "cell_type": "markdown",
   "metadata": {},
   "source": [
    "## Set up data that is needed to transfer to Azure Cosmos DB"
   ]
  },
  {
   "cell_type": "code",
   "execution_count": 5,
   "metadata": {},
   "outputs": [],
   "source": [
    "# Initialize SparkContext\n",
    "spark = SparkSession.builder.getOrCreate()\n",
    "sc = spark.sparkContext"
   ]
  },
  {
   "cell_type": "code",
   "execution_count": 6,
   "metadata": {},
   "outputs": [],
   "source": [
    "# Load data\n",
    "df = spark.read.load(DATA_PATH)"
   ]
  },
  {
   "cell_type": "code",
   "execution_count": 7,
   "metadata": {},
   "outputs": [],
   "source": [
    "# column needed for college list\n",
    "columns = [\"UNITID\", \"INSTNM\", \"TARGET_TIER\", \"SAFETY_TIER\", \"CITY\", \"STABBR\", \"TUITIONFEE_IN\", \"TUITIONFEE_OUT\", \"CONTROL\"]"
   ]
  },
  {
   "cell_type": "code",
   "execution_count": 8,
   "metadata": {},
   "outputs": [],
   "source": [
    "with open(IMAGE_DATA_FILE) as f:\n",
    "    pic_data = json.load(f)"
   ]
  },
  {
   "cell_type": "code",
   "execution_count": 9,
   "metadata": {},
   "outputs": [],
   "source": [
    "for row in df.select(columns).collect():\n",
    "    curLocation = None\n",
    "    if row.CITY is not None and row.STABBR is not None:\n",
    "        curLocation = row.CITY + \", \" + row.STABBR\n",
    "    curCollegeType = None\n",
    "    if row.CONTROL is not None:\n",
    "        if row.CONTROL == 1: curCollegeType = \"Public\"\n",
    "        elif row.CONTROL == 2: curCollegeType = \"Private non-profit\"\n",
    "        elif row.CONTROL == 3: curCollegeType = \"Private for-profit\"\n",
    "    curCollege = {\n",
    "        \"college_id\": row.UNITID,\n",
    "        \"img_url\": pic_data[row.UNITID][\"img_link\"],\n",
    "        \"img_title\": pic_data[row.UNITID][\"img_title\"],\n",
    "        \"college_name\": row.INSTNM,\n",
    "        \"target_tier\": row.TARGET_TIER,\n",
    "        \"safety_tier\": row.SAFETY_TIER,\n",
    "        \"location\": curLocation,\n",
    "        \"in_state_tuition\": row.TUITIONFEE_IN,\n",
    "        \"out_state_tuition\": row.TUITIONFEE_OUT,\n",
    "        \"college_type\": curCollegeType\n",
    "    }\n",
    "    collection.insert_one(curCollege)"
   ]
  },
  {
   "cell_type": "code",
   "execution_count": 11,
   "metadata": {},
   "outputs": [
    {
     "data": {
      "text/plain": [
       "{'_id': ObjectId('62dba5a89e458c45472fc2fc'),\n",
       " 'college_id': '100654',\n",
       " 'img_url': 'https://upload.wikimedia.org/wikipedia/commons/d/d8/AAMU_James_H._Wilson_Hall_Dec10_01.jpg',\n",
       " 'img_title': '',\n",
       " 'college_name': 'Alabama A & M University',\n",
       " 'target_tier': 0,\n",
       " 'safety_tier': 3,\n",
       " 'location': 'Normal, AL',\n",
       " 'in_state_tuition': 10024,\n",
       " 'out_state_tuition': 18634,\n",
       " 'college_type': 'Public'}"
      ]
     },
     "execution_count": 11,
     "metadata": {},
     "output_type": "execute_result"
    }
   ],
   "source": [
    "result = collection.find({\"college_id\": \"100654\"})\n",
    "result[0]"
   ]
  }
 ],
 "metadata": {
  "kernelspec": {
   "display_name": "Python 3.7.6",
   "language": "python",
   "name": "python3"
  },
  "language_info": {
   "codemirror_mode": {
    "name": "ipython",
    "version": 3
   },
   "file_extension": ".py",
   "mimetype": "text/x-python",
   "name": "python",
   "nbconvert_exporter": "python",
   "pygments_lexer": "ipython3",
   "version": "3.7.6"
  },
  "orig_nbformat": 4,
  "vscode": {
   "interpreter": {
    "hash": "6a17e3a3172cf46aaf637e4c7681713daf53374be115d411b165dfc3d728fe3c"
   }
  }
 },
 "nbformat": 4,
 "nbformat_minor": 2
}
