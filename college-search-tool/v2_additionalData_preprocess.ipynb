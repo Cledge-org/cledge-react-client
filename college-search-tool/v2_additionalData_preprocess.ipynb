{
 "cells": [
  {
   "cell_type": "code",
   "execution_count": 78,
   "metadata": {},
   "outputs": [],
   "source": [
    "from pyspark import SparkContext\n",
    "from pyspark.sql import *\n",
    "import pyspark.sql.functions as F\n",
    "from pyspark.sql.functions import col\n",
    "import json\n"
   ]
  },
  {
   "cell_type": "code",
   "execution_count": 79,
   "metadata": {},
   "outputs": [],
   "source": [
    "import pandas as pd"
   ]
  },
  {
   "cell_type": "code",
   "execution_count": 80,
   "metadata": {},
   "outputs": [],
   "source": [
    "# change ic2020mission.csv column name into uppercase\n",
    "ic2020mission_df = pd.read_csv(\"./data/v2_additional_data/IC2020Mission.csv\")\n",
    "ic2020mission_df = ic2020mission_df.rename(columns={\"unitid\":\"UNITID\", \"missionURL\": \"MISSIONURL\", \"mission\": \"MISSION\"})\n",
    "ic2020mission_df.to_csv(\"./data/v2_additional_data/IC2020Mission_updated.csv\")"
   ]
  },
  {
   "cell_type": "code",
   "execution_count": 81,
   "metadata": {},
   "outputs": [],
   "source": [
    "# Initialize SparkContext\n",
    "spark = SparkSession.builder.getOrCreate()\n",
    "sc = spark.sparkContext"
   ]
  },
  {
   "cell_type": "code",
   "execution_count": 82,
   "metadata": {},
   "outputs": [],
   "source": [
    "# import dataset\n",
    "df_filename = './data/college-search-data.parquet'\n",
    "df = spark.read.load(df_filename)"
   ]
  },
  {
   "cell_type": "code",
   "execution_count": 83,
   "metadata": {},
   "outputs": [
    {
     "name": "stdout",
     "output_type": "stream",
     "text": [
      "(6694, 446)\n"
     ]
    }
   ],
   "source": [
    "print((df.count(), len(df.columns)))"
   ]
  },
  {
   "cell_type": "code",
   "execution_count": 84,
   "metadata": {},
   "outputs": [],
   "source": [
    "datatypes_route = \"./assets/datatypes.json\"\n",
    "v2_additional_route = \"./data/v2_additional_data/\""
   ]
  },
  {
   "cell_type": "markdown",
   "metadata": {},
   "source": [
    "## Datatypes for each additional dataset"
   ]
  },
  {
   "cell_type": "markdown",
   "metadata": {},
   "source": [
    "105 - 2 columns overall"
   ]
  },
  {
   "cell_type": "code",
   "execution_count": 85,
   "metadata": {},
   "outputs": [],
   "source": [
    "# 10 columns\n",
    "hd2020_columns = {\n",
    "    \"ADDR\": \"string\",\n",
    "    \"GENTELE\": \"string\",\n",
    "    \"INSTCAT\": \"integer\",\n",
    "    \"LANDGRNT\": \"integer\",\n",
    "    \"C18IPUG\": \"integer\",\n",
    "    \"C18UGPRF\": \"integer\",\n",
    "    \"C18ENPRF\": \"integer\",\n",
    "    \"C18SZSET\": \"integer\",\n",
    "    \"IALIAS\": \"string\",\n",
    "    \"INSTSIZE\": \"integer\"\n",
    "}\n",
    "\n",
    "# 12 columns - 2 columns\n",
    "ic2020_columns = {\n",
    "    # \"RELAFFIL\": \"integer\",\n",
    "    # \"OPENADMP\": \"integer\",\n",
    "    \"SLO5\": \"integer\",\n",
    "    \"ASSOC1\": \"integer\",\n",
    "    \"SPORT1\": \"integer\",\n",
    "    \"SPORT2\": \"integer\",\n",
    "    \"SPORT3\": \"integer\",\n",
    "    \"SPORT4\": \"integer\",\n",
    "    \"CALSYS\": \"integer\",\n",
    "    \"APPLFEEU\": \"integer\",\n",
    "    \"FT_UG\": \"integer\",\n",
    "    \"RMBRDAMT\": \"integer\"\n",
    "}\n",
    "\n",
    "# 11 columns\n",
    "adm2020_columns = {\n",
    "    \"ADMCON1\": \"integer\",\n",
    "    \"ADMCON2\": \"integer\",\n",
    "    \"ADMCON3\": \"integer\",\n",
    "    \"ADMCON4\": \"integer\",\n",
    "    \"ADMCON5\": \"integer\",\n",
    "    \"ADMCON6\": \"integer\",\n",
    "    \"ADMCON7\": \"integer\",\n",
    "    \"SATPCT\": \"integer\",\n",
    "    \"ACTPCT\": \"integer\",\n",
    "    \"ENRLM\": \"integer\",\n",
    "    \"ENRLW\": \"integer\"\n",
    "}\n",
    "\n",
    "# 5 columns\n",
    "drvadm2020_columns = {\n",
    "    \"DVADM02\": \"integer\",\n",
    "    \"DVADM03\": \"integer\",\n",
    "    \"DVADM08\": \"integer\",\n",
    "    \"DVADM09\": \"integer\",\n",
    "    \"DVADM04\": \"integer\"\n",
    "}\n",
    "\n",
    "# 1 column\n",
    "ic2020mission_columns = {\n",
    "    \"MISSION\": \"string\"\n",
    "}\n",
    "\n",
    "# 5 columns\n",
    "drvic2020_columns = {\n",
    "    \"CINSON\": \"integer\",\n",
    "    \"COTSON\": \"integer\",\n",
    "    \"CINSOFF\": \"integer\",\n",
    "    \"COTSOFF\": \"integer\",\n",
    "    \"TUFEYR3\": \"integer\",\n",
    "}\n",
    "\n",
    "# 2 columns\n",
    "ic2020_ay_columns = {\n",
    "    \"TUITION2\": \"integer\",\n",
    "    \"TUITION3\": \"integer\"\n",
    "}\n",
    "\n",
    "# 1 column\n",
    "ef2020a_columns = {\n",
    "    \"EFNRALT\": \"integer\"\n",
    "}\n",
    "\n",
    "# 2 columns\n",
    "ef2020b_columns = {\n",
    "    \"EFAGE07\": \"integer\",\n",
    "    \"EFAGE08\": \"integer\"\n",
    "}\n",
    "\n",
    "# 13 columns\n",
    "drvef2020_columns = {\n",
    "    \"ENRTOT\": \"integer\",\n",
    "    \"EFUG\": \"integer\",\n",
    "    \"EFGRAD\": \"integer\",\n",
    "    \"RMOUSTTP\": \"integer\",\n",
    "    \"RMINSTTP\": \"integer\",\n",
    "    \"RMUNKNWP\": \"integer\",\n",
    "    \"PCTENRWH\": \"integer\",\n",
    "    \"PCTENRBK\": \"integer\",\n",
    "    \"PCTENRHS\": \"integer\",\n",
    "    \"PCTENRAP\": \"integer\",\n",
    "    \"PCTENRAN\": \"integer\",\n",
    "    \"PCTENRUN\": \"integer\",\n",
    "    \"PCTENRNR\": \"integer\",\n",
    "}\n",
    "\n",
    "# 1 column\n",
    "ef2020d_columns = {\n",
    "    \"STUFACR\": \"integer\"\n",
    "}\n",
    "\n",
    "# new dataset:\n",
    "# 3 columns\n",
    "sal2020_is_columns = {\n",
    "    \"SAINSTT\": \"integer\",\n",
    "    \"SAINSTW\": \"integer\",\n",
    "    \"SAINSTM\": \"integer\",\n",
    "}\n",
    "\n",
    "# 1 column\n",
    "sal2020_nis_columns = {\n",
    "    \"SANIN02\": \"integer\",\n",
    "}\n",
    "\n",
    "# 6 columns\n",
    "f1920_f2_columns = {\n",
    "    \"F2C01\": \"integer\",\n",
    "    \"F2C02\": \"integer\",\n",
    "    \"F2C03\": \"integer\",\n",
    "    \"F2C04\": \"integer\",\n",
    "    \"F2C07\": \"integer\",\n",
    "    \"F2E081\": \"integer\",\n",
    "}\n",
    "\n",
    "# 3 columns\n",
    "drvf2020_columns = {\n",
    "    \"F1STSVFT\": \"integer\",\n",
    "    \"F1ACSPFT\": \"integer\",\n",
    "    \"F1OTEXFT\": \"integer\",\n",
    "}\n",
    "\n",
    "# 15 columns\n",
    "sfa1920_p2_columns = {\n",
    "    \"GIS4OF1\": \"integer\",\n",
    "    \"GIS4A41\": \"integer\",\n",
    "    \"GIS4T51\": \"integer\",\n",
    "    \"NPT430\": \"integer\",\n",
    "    \"NPT440\": \"integer\",\n",
    "    \"NPT450\": \"integer\",\n",
    "    \"GRN4G11\": \"integer\",\n",
    "    \"GRN4G21\": \"integer\",\n",
    "    \"GRN4G31\": \"integer\",\n",
    "    \"GIS4A12\": \"integer\",\n",
    "    \"GIS4A22\": \"integer\",\n",
    "    \"GIS4A32\": \"integer\",\n",
    "    \"GIS4A42\": \"integer\",\n",
    "    \"GIS4A52\": \"integer\",\n",
    "    \"NPIST2\": \"integer\",\n",
    "}\n",
    "\n",
    "# 2 columns\n",
    "gr200_20_columns = {\n",
    "    \"BAGR100\": \"integer\",\n",
    "    \"BAGR150\": \"integer\",\n",
    "}\n",
    "\n",
    "# 2 columns\n",
    "gr2020_pell_ssl_columns = {\n",
    "    \"NRCMOBA\": \"integer\",\n",
    "    \"NRCMTOT\": \"integer\",\n",
    "}\n",
    "\n",
    "# 10 columns\n",
    "sfa1920_p1_columns = {\n",
    "    \"SCFA2\": \"integer\",\n",
    "    \"ANYAIDP\": \"integer\",\n",
    "    \"PGRNT_P\": \"integer\",\n",
    "    \"OFGRT_P\": \"integer\",\n",
    "    \"FLOAN_P\": \"integer\",\n",
    "    \"OLOAN_P\": \"integer\",\n",
    "    \"UAGRNTP\": \"integer\",\n",
    "    \"UPGRNTP\": \"integer\",\n",
    "    \"UFLOANP\": \"integer\",\n",
    "    \"AGRNT_A\": \"integer\",\n",
    "}\n",
    "\n",
    "# 105 - 2 columns overall"
   ]
  },
  {
   "cell_type": "markdown",
   "metadata": {},
   "source": [
    "## Preprocessing Function"
   ]
  },
  {
   "cell_type": "code",
   "execution_count": 86,
   "metadata": {},
   "outputs": [],
   "source": [
    "def concatenate_new_data(datatype_dict, dataset_name, df):\n",
    "    colNames = list(datatype_dict.keys())\n",
    "    with open(datatypes_route) as f:\n",
    "        cur_datatypes = json.load(f)\n",
    "\n",
    "    # print(len(cur_datatypes))\n",
    "\n",
    "    for colName in colNames:\n",
    "        cur_datatypes[colName] = datatype_dict[colName]\n",
    "\n",
    "    # print(len(cur_datatypes))\n",
    "\n",
    "    with open(datatypes_route, 'w') as f:\n",
    "        f.write(json.dumps(cur_datatypes, indent=4))\n",
    "    \n",
    "    colNames.append(\"UNITID\")\n",
    "\n",
    "    v2df = spark.read.csv(v2_additional_route + dataset_name, header=True, inferSchema=True)\n",
    "    v2df = v2df.withColumn(\"UNITID\", F.col(\"UNITID\").cast(\"string\"))\n",
    "    v2df = v2df.select(colNames)\n",
    "    \n",
    "    df = df.join(v2df, \"UNITID\", \"left\")\n",
    "    print((df.count(), len(df.columns)))\n",
    "    return df\n",
    "    "
   ]
  },
  {
   "cell_type": "markdown",
   "metadata": {},
   "source": [
    "## Merge Dataset"
   ]
  },
  {
   "cell_type": "code",
   "execution_count": 87,
   "metadata": {},
   "outputs": [
    {
     "name": "stdout",
     "output_type": "stream",
     "text": [
      "(6694, 456)\n",
      "(6694, 466)\n",
      "(6694, 477)\n",
      "(6694, 482)\n",
      "(6694, 483)\n",
      "(6694, 487)\n",
      "(6694, 489)\n",
      "(6694, 492)\n"
     ]
    }
   ],
   "source": [
    "df = concatenate_new_data(hd2020_columns, \"HD2020.csv\", df)\n",
    "df = concatenate_new_data(ic2020_columns, \"IC2020.csv\", df)\n",
    "df = concatenate_new_data(adm2020_columns, \"ADM2020.csv\", df)\n",
    "df = concatenate_new_data(drvadm2020_columns, \"DRVADM2020.csv\", df)\n",
    "df = concatenate_new_data(ic2020mission_columns, \"IC2020Mission_updated.csv\", df)\n",
    "df = concatenate_new_data(drvic2020_columns, \"DRVIC2020.csv\", df)\n",
    "df = concatenate_new_data(ic2020_ay_columns, \"IC2020_AY.csv\", df)\n",
    "# df = concatenate_new_data(ef2020a_columns, \"EF2020A.csv\", df)\n",
    "# df = concatenate_new_data(ef2020b_columns, \"EF2020B.csv\", df)\n",
    "df = concatenate_new_data(drvef2020_columns, \"DRVEF2020.csv\", df)\n",
    "# df = concatenate_new_data(ef2020d_columns, \"EF2020D.csv\", df)\n",
    "df = concatenate_new_data(sal2020_is_columns, \"DRVEF2020.csv\", df)\n",
    "df = concatenate_new_data(sal2020_nis_columns, \"DRVEF2020.csv\", df)\n",
    "df = concatenate_new_data(f1920_f2_columns, \"DRVEF2020.csv\", df)\n",
    "df = concatenate_new_data(drvf2020_columns, \"DRVEF2020.csv\", df)\n",
    "df = concatenate_new_data(sfa1920_p2_columns, \"DRVEF2020.csv\", df)\n",
    "df = concatenate_new_data(gr200_20_columns, \"DRVEF2020.csv\", df)\n",
    "df = concatenate_new_data(gr2020_pell_ssl_columns, \"DRVEF2020.csv\", df)\n",
    "df = concatenate_new_data(sfa1920_p1_columns, \"DRVEF2020.csv\", df)\n"
   ]
  },
  {
   "cell_type": "code",
   "execution_count": 70,
   "metadata": {},
   "outputs": [
    {
     "data": {
      "text/plain": [
       "6694"
      ]
     },
     "execution_count": 70,
     "metadata": {},
     "output_type": "execute_result"
    }
   ],
   "source": [
    "df.select(\"UNITID\").distinct().count()"
   ]
  },
  {
   "cell_type": "code",
   "execution_count": 71,
   "metadata": {},
   "outputs": [
    {
     "name": "stdout",
     "output_type": "stream",
     "text": [
      "(81498, 491)\n"
     ]
    }
   ],
   "source": [
    "df = concatenate_new_data(ef2020b_columns, \"EF2020B.csv\", df)"
   ]
  },
  {
   "cell_type": "code",
   "execution_count": 76,
   "metadata": {},
   "outputs": [
    {
     "data": {
      "text/plain": [
       "58277"
      ]
     },
     "execution_count": 76,
     "metadata": {},
     "output_type": "execute_result"
    }
   ],
   "source": [
    "df.select(\"EFAGE07\", \"EFAGE08\", \"UNITID\").distinct().count()"
   ]
  },
  {
   "cell_type": "markdown",
   "metadata": {},
   "source": [
    "## Add College Fit Metric"
   ]
  },
  {
   "cell_type": "code",
   "execution_count": null,
   "metadata": {},
   "outputs": [],
   "source": [
    "import pandas as pd\n",
    "\n",
    "# use pandas since pyspark dataframe is immutable for specific data"
   ]
  },
  {
   "cell_type": "code",
   "execution_count": null,
   "metadata": {},
   "outputs": [],
   "source": [
    "def target_tier(adm_rate):\n",
    "    if adm_rate < 0.1:\n",
    "        return 13\n",
    "    elif adm_rate < 0.14:\n",
    "        return 10\n",
    "    elif adm_rate < 0.17:\n",
    "        return 9\n",
    "    elif adm_rate < 0.21:\n",
    "        return 8\n",
    "    elif adm_rate < 0.26:\n",
    "        return 7\n",
    "    elif adm_rate < 0.33:\n",
    "        return 6\n",
    "    elif adm_rate < 0.42:\n",
    "        return 5\n",
    "    elif adm_rate < 0.55:\n",
    "        return 4\n",
    "    elif adm_rate < 0.75:\n",
    "        return 3\n",
    "    elif adm_rate < 0.85:\n",
    "        return 2\n",
    "    elif adm_rate < 0.90:\n",
    "        return 1\n",
    "    else:\n",
    "        return 0\n",
    "\n",
    "def safety_tier(adm_rate):\n",
    "    if adm_rate < 0.1:\n",
    "        return 13\n",
    "    elif adm_rate < 0.14:\n",
    "        return 11\n",
    "    elif adm_rate < 0.18:\n",
    "        return 10\n",
    "    elif adm_rate < 0.23:\n",
    "        return 9\n",
    "    elif adm_rate < 0.31:\n",
    "        return 8\n",
    "    elif adm_rate < 0.45:\n",
    "        return 7\n",
    "    elif adm_rate < 0.6:\n",
    "        return 6\n",
    "    elif adm_rate < 0.75:\n",
    "        return 5\n",
    "    elif adm_rate < 0.9:\n",
    "        return 4\n",
    "    elif adm_rate < 0.95:\n",
    "        return 3\n",
    "    else:\n",
    "        return 0"
   ]
  },
  {
   "cell_type": "markdown",
   "metadata": {},
   "source": [
    "## Replace Null Values"
   ]
  },
  {
   "cell_type": "code",
   "execution_count": 56,
   "metadata": {},
   "outputs": [],
   "source": [
    "df = df.replace({'NULL': None, 'null': None})"
   ]
  },
  {
   "cell_type": "markdown",
   "metadata": {},
   "source": [
    "## Test"
   ]
  },
  {
   "cell_type": "code",
   "execution_count": null,
   "metadata": {},
   "outputs": [],
   "source": []
  },
  {
   "cell_type": "markdown",
   "metadata": {},
   "source": [
    "## Wrap Up"
   ]
  },
  {
   "cell_type": "code",
   "execution_count": null,
   "metadata": {},
   "outputs": [],
   "source": []
  },
  {
   "cell_type": "code",
   "execution_count": 77,
   "metadata": {},
   "outputs": [],
   "source": [
    "sc.stop()"
   ]
  }
 ],
 "metadata": {
  "interpreter": {
   "hash": "6a17e3a3172cf46aaf637e4c7681713daf53374be115d411b165dfc3d728fe3c"
  },
  "kernelspec": {
   "display_name": "Python 3.7.6 ('base')",
   "language": "python",
   "name": "python3"
  },
  "language_info": {
   "codemirror_mode": {
    "name": "ipython",
    "version": 3
   },
   "file_extension": ".py",
   "mimetype": "text/x-python",
   "name": "python",
   "nbconvert_exporter": "python",
   "pygments_lexer": "ipython3",
   "version": "3.7.6"
  },
  "orig_nbformat": 4
 },
 "nbformat": 4,
 "nbformat_minor": 2
}
