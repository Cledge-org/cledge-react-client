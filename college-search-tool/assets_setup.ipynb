{
 "cells": [
  {
   "cell_type": "markdown",
   "metadata": {},
   "source": [
    "# Set up assets that are needed for data preprocessing"
   ]
  },
  {
   "cell_type": "markdown",
   "metadata": {},
   "source": [
    "References:\n",
    "\n",
    "https://github.com/Cledge-org/cledge/blob/dev/features/college_search_tool/assets/\n",
    "\n",
    "https://github.com/Cledge-org/cledge/blob/dev/features/college_search_tool/src/college_search_index_builder.ipynb"
   ]
  },
  {
   "cell_type": "markdown",
   "metadata": {},
   "source": [
    "## 1. Update necessary fields"
   ]
  },
  {
   "cell_type": "code",
   "execution_count": 1,
   "metadata": {},
   "outputs": [],
   "source": [
    "import pandas as pd\n",
    "import json"
   ]
  },
  {
   "cell_type": "code",
   "execution_count": 19,
   "metadata": {},
   "outputs": [],
   "source": [
    "# read previous fields.json file\n",
    "with open(\"./assets/fields.json\") as prevFields:\n",
    "    prevfields_json = json.load(prevFields)\n",
    "\n",
    "# read data from Institution_data_dictionary\n",
    "data_dict = pd.read_csv(\"./data/Institution_data_dictionary.csv\")\n",
    "data_dict_name_map = data_dict[['VARIABLE NAME', 'developer-friendly name']]\n",
    "\n",
    "# re-insert all variable-name & developer-friendly name pairs\n",
    "for variable_name in prevfields_json.keys():\n",
    "    prevfields_json[variable_name] = data_dict_name_map.loc[data_dict_name_map[\"VARIABLE NAME\"] == variable_name, \"developer-friendly name\"].values[0]\n",
    "\n",
    "# write the updated fields into fields.json\n",
    "\n",
    "with open(\"./assets/fields.json\", \"w\") as curFields:\n",
    "    curFields.write(json.dumps(prevfields_json, indent=4))"
   ]
  },
  {
   "cell_type": "code",
   "execution_count": 11,
   "metadata": {},
   "outputs": [
    {
     "data": {
      "text/html": [
       "<div>\n",
       "<style scoped>\n",
       "    .dataframe tbody tr th:only-of-type {\n",
       "        vertical-align: middle;\n",
       "    }\n",
       "\n",
       "    .dataframe tbody tr th {\n",
       "        vertical-align: top;\n",
       "    }\n",
       "\n",
       "    .dataframe thead th {\n",
       "        text-align: right;\n",
       "    }\n",
       "</style>\n",
       "<table border=\"1\" class=\"dataframe\">\n",
       "  <thead>\n",
       "    <tr style=\"text-align: right;\">\n",
       "      <th></th>\n",
       "      <th>VARIABLE NAME</th>\n",
       "      <th>developer-friendly name</th>\n",
       "    </tr>\n",
       "  </thead>\n",
       "  <tbody>\n",
       "    <tr>\n",
       "      <th>0</th>\n",
       "      <td>UNITID</td>\n",
       "      <td>id</td>\n",
       "    </tr>\n",
       "    <tr>\n",
       "      <th>1</th>\n",
       "      <td>OPEID</td>\n",
       "      <td>ope8_id</td>\n",
       "    </tr>\n",
       "    <tr>\n",
       "      <th>2</th>\n",
       "      <td>OPEID6</td>\n",
       "      <td>ope6_id</td>\n",
       "    </tr>\n",
       "    <tr>\n",
       "      <th>3</th>\n",
       "      <td>INSTNM</td>\n",
       "      <td>name</td>\n",
       "    </tr>\n",
       "    <tr>\n",
       "      <th>4</th>\n",
       "      <td>CITY</td>\n",
       "      <td>city</td>\n",
       "    </tr>\n",
       "  </tbody>\n",
       "</table>\n",
       "</div>"
      ],
      "text/plain": [
       "  VARIABLE NAME developer-friendly name\n",
       "0        UNITID                      id\n",
       "1         OPEID                 ope8_id\n",
       "2        OPEID6                 ope6_id\n",
       "3        INSTNM                    name\n",
       "4          CITY                    city"
      ]
     },
     "execution_count": 11,
     "metadata": {},
     "output_type": "execute_result"
    }
   ],
   "source": [
    "data_dict_name_map.head()"
   ]
  }
 ],
 "metadata": {
  "interpreter": {
   "hash": "6a17e3a3172cf46aaf637e4c7681713daf53374be115d411b165dfc3d728fe3c"
  },
  "kernelspec": {
   "display_name": "Python 3.7.6 64-bit ('base': conda)",
   "language": "python",
   "name": "python3"
  },
  "language_info": {
   "codemirror_mode": {
    "name": "ipython",
    "version": 3
   },
   "file_extension": ".py",
   "mimetype": "text/x-python",
   "name": "python",
   "nbconvert_exporter": "python",
   "pygments_lexer": "ipython3",
   "version": "3.7.6"
  },
  "orig_nbformat": 4
 },
 "nbformat": 4,
 "nbformat_minor": 2
}
