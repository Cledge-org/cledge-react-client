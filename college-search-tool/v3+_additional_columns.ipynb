{
 "cells": [
  {
   "cell_type": "code",
   "execution_count": 51,
   "metadata": {},
   "outputs": [],
   "source": [
    "from pyspark import SparkContext\n",
    "from pyspark.sql import *\n",
    "import pyspark.sql.functions as F\n",
    "from pyspark.sql.functions import col\n",
    "import json\n",
    "import pandas as pd\n",
    "\n",
    "# Initialize SparkContext\n",
    "spark = SparkSession.builder.getOrCreate()\n",
    "sc = spark.sparkContext"
   ]
  },
  {
   "cell_type": "code",
   "execution_count": 163,
   "metadata": {},
   "outputs": [],
   "source": [
    "V3_DATA_PATH = \"./data/college-search-data-v3+.parquet\"\n",
    "DATA_TYPES_PATH = \"./assets/datatypes.json\""
   ]
  },
  {
   "cell_type": "code",
   "execution_count": 164,
   "metadata": {},
   "outputs": [],
   "source": [
    "# import dataset\n",
    "df = spark.read.load(V3_DATA_PATH)"
   ]
  },
  {
   "cell_type": "markdown",
   "metadata": {},
   "source": [
    "## Add APPLCN from ADM2020"
   ]
  },
  {
   "cell_type": "code",
   "execution_count": 24,
   "metadata": {},
   "outputs": [],
   "source": [
    "# add APPLCN (in IPEDS datasets, ADM2020) to the dataset from cosmos db\n",
    "\n",
    "def add_datatypes(data_columns):\n",
    "\n",
    "    with open(DATA_TYPES_PATH) as f:\n",
    "        cur_datatypes = json.load(f)\n",
    "\n",
    "    for variable, datatype in data_columns.items():\n",
    "        cur_datatypes[variable] = datatype\n",
    "\n",
    "    with open(DATA_TYPES_PATH, 'w') as f:\n",
    "        f.write(json.dumps(cur_datatypes, indent=4))"
   ]
  },
  {
   "cell_type": "code",
   "execution_count": 25,
   "metadata": {},
   "outputs": [],
   "source": [
    "adm2020_df = spark.read.csv(\"./data/v2_additional_data/ADM2020.csv\", header=True, inferSchema=True)\n",
    "\n",
    "add_columns = {\n",
    "    \"APPLCN\": \"integer\"\n",
    "}\n",
    "\n",
    "add_datatypes(add_columns)"
   ]
  },
  {
   "cell_type": "code",
   "execution_count": 26,
   "metadata": {},
   "outputs": [],
   "source": [
    "override_adm = adm2020_df.select(\"UNITID\", \"APPLCN\")\n",
    "override_adm = override_adm.withColumn(\"UNITID\", F.col(\"UNITID\").cast(\"string\"))"
   ]
  },
  {
   "cell_type": "code",
   "execution_count": 27,
   "metadata": {},
   "outputs": [],
   "source": [
    "df = df.join(override_adm, \"UNITID\", \"left\")"
   ]
  },
  {
   "cell_type": "markdown",
   "metadata": {},
   "source": [
    "## Add Ranking data from cosmosDB"
   ]
  },
  {
   "cell_type": "code",
   "execution_count": 165,
   "metadata": {},
   "outputs": [],
   "source": [
    "import pymongo"
   ]
  },
  {
   "cell_type": "code",
   "execution_count": 166,
   "metadata": {},
   "outputs": [],
   "source": [
    "rank_add_columns = {\n",
    "    \"National Universities\": \"integer\",\n",
    "    \"Study Abroad\": \"integer\",\n",
    "    \"Learning Communities\": \"integer\",\n",
    "    \"Undergraduate Research/Creative Projects\": \"integer\",\n",
    "    \"Service Learning\": \"integer\",\n",
    "    \"First-Year Experiences\": \"integer\",\n",
    "    \"Senior Capstone\": \"integer\",\n",
    "    \"Best Undergraduate Teaching\": \"integer\",\n",
    "    \"Top Performers on Social Mobility\": \"integer\",\n",
    "    \"Regional Colleges South\": \"integer\",\n",
    "    \"Top Public Schools\": \"integer\",\n",
    "    \"Regional Universities West\": \"integer\",\n",
    "    \"Best Value Schools\": \"integer\",\n",
    "    \"Regional Colleges Midwest\": \"integer\",\n",
    "    \"Most Innovative Schools\": \"integer\",\n",
    "    \"National Liberal Arts Colleges\": \"integer\",\n",
    "    \"Writing in the Disciplines\": \"integer\",\n",
    "    \"Co-ops/Internships\": \"integer\",\n",
    "    \"Historically Black Colleges and Universities\": \"integer\",\n",
    "    \"Regional Colleges West\": \"integer\",\n",
    "    \"Regional Universities South\": \"integer\",\n",
    "    \"Regional Universities North\": \"integer\",\n",
    "    \"Best Colleges for Veterans\": \"integer\",\n",
    "    \"Regional Universities Midwest\": \"integer\",\n",
    "    \"Regional Colleges North\": \"integer\",\n",
    "    \"Tribal Schools\": \"integer\",\n",
    "    \"Best Undergraduate Engineering Programs\": \"integer\",\n",
    "    \"Arts Schools\": \"integer\",\n",
    "    \"Faith-related Schools\": \"integer\",\n",
    "    \"Business Schools\": \"integer\",\n",
    "    \"Miscellaneous Schools\": \"integer\",\n",
    "    \"Engineering & Technology Schools\": \"integer\",\n",
    "    \"Other Schools\": \"integer\",\n",
    "    \"Health Professions Schools\": \"integer\",\n",
    "    \"Nursing\": \"integer\",\n",
    "    \"International Business\": \"integer\",\n",
    "    \"Analytics\": \"integer\",\n",
    "    \"Management Information Systems\": \"integer\",\n",
    "    \"Production / Operation Management\": \"integer\",\n",
    "    \"Supply Chain Management / Logistics\": \"integer\",\n",
    "    \"Entrepreneurship\": \"integer\",\n",
    "    \"Accounting\": \"integer\",\n",
    "    \"Finance\": \"integer\",\n",
    "    \"Civil\": \"integer\",\n",
    "    \"Computer\": \"integer\",\n",
    "    \"Electrical / Electronic / Communications\": \"integer\",\n",
    "    \"Mechanical\": \"integer\",\n",
    "    \"Aerospace /Aeronautical / Astronautical\": \"integer\",\n",
    "    \"Chemical\": \"integer\",\n",
    "    \"Materials\": \"integer\",\n",
    "    \"Computer Science\": \"integer\",\n",
    "    \"Artificial Intelligence\": \"integer\",\n",
    "    \"Theory\": \"integer\",\n",
    "    \"Environmental / Environmental Health\": \"integer\",\n",
    "    \"Business Programs\": \"integer\",\n",
    "    \"Quantitative Analysis\": \"integer\",\n",
    "    \"Biocomputing/Bioinformatics/Biotechnology\": \"integer\",\n",
    "    \"Computer Systems\": \"integer\",\n",
    "    \"Cybersecurity\": \"integer\",\n",
    "    \"Data Analytics/Science\": \"integer\",\n",
    "    \"Game/Simulation Development\": \"integer\",\n",
    "    \"Mobile/Web Applications\": \"integer\",\n",
    "    \"Programming Languages\": \"integer\",\n",
    "    \"Software Engineering\": \"integer\",\n",
    "    \"Biological / Agricultural\": \"integer\",\n",
    "    \"Industrial / Manufacturing\": \"integer\",\n",
    "    \"Management\": \"integer\",\n",
    "    \"Real Estate\": \"integer\",\n",
    "    \"Biomedical\": \"integer\",\n",
    "    \"Insurance\": \"integer\",\n",
    "    \"Marketing\": \"integer\",\n",
    "    \"Petroleum\": \"integer\"\n",
    "}\n",
    "\n",
    "add_datatypes(rank_add_columns)"
   ]
  },
  {
   "cell_type": "code",
   "execution_count": 167,
   "metadata": {},
   "outputs": [],
   "source": [
    "# remove space for valid column names\n",
    "rank_add_columns_valid = {}\n",
    "for key,val in rank_add_columns.items():\n",
    "    valid_col_name = ''.join(key.split(\" \"))\n",
    "    valid_col_name = ''.join(valid_col_name.split(\"/\"))\n",
    "    valid_col_name = ''.join(valid_col_name.split(\"-\"))\n",
    "    valid_col_name = ''.join(valid_col_name.split(\"&\"))\n",
    "    rank_add_columns_valid[valid_col_name] = \"integer\"\n",
    "\n",
    "add_datatypes(rank_add_columns_valid)"
   ]
  },
  {
   "cell_type": "code",
   "execution_count": 168,
   "metadata": {},
   "outputs": [],
   "source": [
    "uri = \"\" # in cledge-db resource, then click Quick Start.\n",
    "client = pymongo.MongoClient(uri)\n",
    "\n",
    "db = client[\"colleges\"]\n",
    "collection = db[\"colleges-data\"]"
   ]
  },
  {
   "cell_type": "code",
   "execution_count": 169,
   "metadata": {},
   "outputs": [],
   "source": [
    "response = collection.find({\"us_news_rankings\": {'$exists': True}}, {\"college_id\": 1, \"us_news_rankings\": 1, \"_id\": 0})"
   ]
  },
  {
   "cell_type": "code",
   "execution_count": 170,
   "metadata": {},
   "outputs": [],
   "source": [
    "colleges_with_rank_data = []\n",
    "\n",
    "for item in response:\n",
    "    each_college_rank_data = {}\n",
    "    each_college_rank_data[\"UNITID\"] = item[\"college_id\"]\n",
    "    for cat,cat_val in item[\"us_news_rankings\"].items():\n",
    "        for rank,rank_val in cat_val.items():\n",
    "            each_college_rank_data[rank] = rank_val\n",
    "    colleges_with_rank_data.append(each_college_rank_data)"
   ]
  },
  {
   "cell_type": "code",
   "execution_count": null,
   "metadata": {},
   "outputs": [],
   "source": [
    "colleges_with_rank_data"
   ]
  },
  {
   "cell_type": "code",
   "execution_count": 171,
   "metadata": {},
   "outputs": [],
   "source": [
    "rank_df_list = []\n",
    "\n",
    "for each_college in colleges_with_rank_data:\n",
    "    rank_df_schema = {\"UNITID\": None}\n",
    "    for key,val in rank_add_columns.items():\n",
    "        valid_col_name = ''.join(key.split(\" \"))\n",
    "        valid_col_name = ''.join(valid_col_name.split(\"/\"))\n",
    "        valid_col_name = ''.join(valid_col_name.split(\"-\"))\n",
    "        valid_col_name = ''.join(valid_col_name.split(\"&\"))\n",
    "        rank_df_schema[valid_col_name] = None\n",
    "    for college_rank_cat,val in each_college.items():\n",
    "        # remove space to ensure valid column name\n",
    "        valid_col_name = ''.join(college_rank_cat.split(\" \"))\n",
    "        valid_col_name = ''.join(valid_col_name.split(\"/\"))\n",
    "        valid_col_name = ''.join(valid_col_name.split(\"-\"))\n",
    "        valid_col_name = ''.join(valid_col_name.split(\"&\"))\n",
    "        rank_df_schema[valid_col_name] = val\n",
    "    rank_df_list.append(rank_df_schema)"
   ]
  },
  {
   "cell_type": "code",
   "execution_count": null,
   "metadata": {},
   "outputs": [],
   "source": [
    "rank_df_list"
   ]
  },
  {
   "cell_type": "code",
   "execution_count": 173,
   "metadata": {},
   "outputs": [],
   "source": [
    "## set up schema to get rid of None data errors\n",
    "\n",
    "from pyspark.sql.types import StructType, StructField, StringType, IntegerType\n",
    "\n",
    "schema_struct = [StructField(\"UNITID\", StringType(), True)]\n",
    "for key in rank_add_columns_valid.keys():\n",
    "    schema_struct.append(StructField(key, IntegerType(), True))"
   ]
  },
  {
   "cell_type": "code",
   "execution_count": 174,
   "metadata": {},
   "outputs": [],
   "source": [
    "rank_df = spark.createDataFrame(rank_df_list, schema=StructType(schema_struct))"
   ]
  },
  {
   "cell_type": "code",
   "execution_count": 175,
   "metadata": {},
   "outputs": [],
   "source": [
    "df = df.join(rank_df, \"UNITID\", \"left\")"
   ]
  },
  {
   "cell_type": "code",
   "execution_count": 176,
   "metadata": {},
   "outputs": [],
   "source": [
    "df.write.save('./data/college-search-data-v4.parquet')"
   ]
  },
  {
   "cell_type": "code",
   "execution_count": 177,
   "metadata": {},
   "outputs": [
    {
     "name": "stdout",
     "output_type": "stream",
     "text": [
      "(6694, 627)\n"
     ]
    }
   ],
   "source": [
    "print((df.count(), len(df.columns)))"
   ]
  },
  {
   "cell_type": "code",
   "execution_count": 16,
   "metadata": {},
   "outputs": [],
   "source": [
    "sc.stop()"
   ]
  }
 ],
 "metadata": {
  "kernelspec": {
   "display_name": "Python 3",
   "language": "python",
   "name": "python3"
  },
  "language_info": {
   "codemirror_mode": {
    "name": "ipython",
    "version": 3
   },
   "file_extension": ".py",
   "mimetype": "text/x-python",
   "name": "python",
   "nbconvert_exporter": "python",
   "pygments_lexer": "ipython3",
   "version": "3.7.6"
  }
 },
 "nbformat": 4,
 "nbformat_minor": 2
}
